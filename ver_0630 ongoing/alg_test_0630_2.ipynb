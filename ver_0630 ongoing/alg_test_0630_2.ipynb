{
 "cells": [
  {
   "cell_type": "code",
   "execution_count": 29,
   "metadata": {},
   "outputs": [
    {
     "name": "stdout",
     "output_type": "stream",
     "text": [
      "The autoreload extension is already loaded. To reload it, use:\n",
      "  %reload_ext autoreload\n"
     ]
    }
   ],
   "source": [
    "%load_ext autoreload\n",
    "%autoreload 2\n",
    "\n",
    "\n",
    "from util_0630 import *\n",
    "from myalgorithm_0630_1 import algorithm"
   ]
  },
  {
   "cell_type": "markdown",
   "metadata": {},
   "source": [
    "- 실험해볼 내용들\n",
    "\n",
    "1. 가까운 거리는 먼저 WALK를 배정하면 어떨까? -> try_merging_bundles_by_dist_walk_prefered 함수 제작 후 실험 결과 결과가 꼭 개선된다는 보장이 없었음\n",
    "2. 배달원을 전부 한번에 재할당해보면 어떨까? -> check_reassign_riders 함수 제작 후 실험 결과 기존의 배달원 재할당 코드보다 확실히 효과적이었음\n",
    "3. 가까운 번들 내의 원소를 교환하는 휴리스틱 코드를 만들면 어떨까?\n",
    "4. 만약 번들의 각 주문을 CAR로 나누어 할당하였을 때 더 비용이 최소화가 된다면 나누는 언번들링 코드를 제작해보면 어떨까?"
   ]
  },
  {
   "cell_type": "markdown",
   "metadata": {},
   "source": [
    "- 코드 구조상 개선할 부분\n",
    "\n",
    "1. get_init_bundle 함수를 util로 옮기기 -> 완료\n",
    "2. 배달원 커스텀 할당 기능을 util로 옮기기 -> 완료"
   ]
  },
  {
   "cell_type": "code",
   "execution_count": 48,
   "metadata": {},
   "outputs": [
    {
     "name": "stdout",
     "output_type": "stream",
     "text": [
      "3608.062000000001\n"
     ]
    }
   ],
   "source": [
    "\n",
    "problem_file = '../alg_test_problems_20240429/TEST_K100_1.json'\n",
    "# problem_file = r'C:\\Users\\hsh80\\Desktop\\LG CNS\\stage1_problems\\STAGE1_18.json'\n",
    "\n",
    "## ------------------- 초기 상태 할당 코드 -------------------------\n",
    "\n",
    "with open(problem_file, 'r') as f:\n",
    "    prob = json.load(f)\n",
    "\n",
    "K = prob['K']\n",
    "\n",
    "ALL_ORDERS = [Order(order_info) for order_info in prob['ORDERS']]\n",
    "ALL_RIDERS = [Rider(rider_info) for rider_info in prob['RIDERS']]\n",
    "\n",
    "DIST = np.array(prob['DIST'])\n",
    "for r in ALL_RIDERS:\n",
    "    r.T = np.round(DIST/r.speed + r.service_time).astype(int)\n",
    "\n",
    "## --------------- 초기 번들링 최적화 코드 --------------------------\n",
    "\n",
    "inf = float('inf')\n",
    "\n",
    "car_rider = ALL_RIDERS[2]\n",
    "\n",
    "init_availables = [rider.available_number for rider in ALL_RIDERS]\n",
    "\n",
    "min_init_cost = inf\n",
    "min_init_cost_bundle = []\n",
    "min_init_cost_rider_availables = []\n",
    "\n",
    "# try_merging_bundles_by_dist // 모든 배달원과 모든 조합에서의 최소 거리를 보는 케이스\n",
    "# try_merging_bundles_by_dist_walk_prefered // 위와 동일하지만 우선적으로 도보 배달원을 할당하는 케이스\n",
    "# try_merging_bundles_by_cost // 번들 합칠 때 거리가 아닌 비용을 보는 케이스\n",
    "\n",
    "for weight1 in [0, 1]:\n",
    "    for weight2 in [-3, -2, -1.5, -1, -0.5, 0, 0.5]:\n",
    "        bundles, result_rider_availables, cost = get_init_bundle(K, ALL_RIDERS, ALL_ORDERS, DIST, init_availables, weight1, weight2, try_merging_bundles_by_dist)\n",
    "\n",
    "        if cost < min_init_cost:\n",
    "            min_init_cost = cost\n",
    "            min_init_cost_bundles = bundles\n",
    "            min_init_cost_rider_availables = result_rider_availables\n",
    "\n",
    "for rider_i in range(3):\n",
    "    ALL_RIDERS[rider_i].available_number = min_init_cost_rider_availables[rider_i]\n",
    "all_bundles = min_init_cost_bundles\n",
    "\n",
    "\n",
    "## ----------------- 기본 배달원 재할당 코드 -------------------\n",
    "\n",
    "for bundle in all_bundles:\n",
    "    new_rider = get_cheaper_available_riders(ALL_RIDERS, bundle.rider)\n",
    "    if new_rider is not None:\n",
    "        old_rider = bundle.rider\n",
    "\n",
    "        check_result = check_bundle_rider_changing(ALL_ORDERS, bundle, new_rider)\n",
    "        if check_result:\n",
    "            bundle.shop_seq = check_result[0]\n",
    "            bundle.dlv_seq = check_result[1]\n",
    "            bundle.rider = check_result[2]\n",
    "            bundle.update_cost()\n",
    "\n",
    "            old_rider.available_number += 1\n",
    "            new_rider.available_number -= 1\n",
    "\n",
    "\n",
    "## ----------------- 커스텀 배달원 재할당 코드 -----------------------\n",
    "\n",
    "all_bundles, rider_availables = check_reassign_riders(K, ALL_ORDERS, ALL_RIDERS, DIST, init_availables, all_bundles)\n",
    "for rider_i in range(3):\n",
    "    ALL_RIDERS[rider_i].available_number = rider_availables[rider_i]\n",
    "\n",
    "## -------------- 솔루션 제작 및 실현 가능성 확인 코드 ---------------- \n",
    "\n",
    "solution = [\n",
    "        # rider type, shop_seq, dlv_seq\n",
    "        [bundle.rider.type, bundle.shop_seq, bundle.dlv_seq]\n",
    "        for bundle in all_bundles\n",
    "]\n",
    "\n",
    "with open(problem_file, 'r') as f:\n",
    "    prob = json.load(f)\n",
    "\n",
    "K = prob['K']\n",
    "\n",
    "ALL_ORDERS = [Order(order_info) for order_info in prob['ORDERS']]\n",
    "ALL_RIDERS = [Rider(rider_info) for rider_info in prob['RIDERS']]\n",
    "\n",
    "DIST = np.array(prob['DIST'])\n",
    "for r in ALL_RIDERS:\n",
    "    r.T = np.round(DIST/r.speed + r.service_time).astype(int)\n",
    "\n",
    "checked_solution = solution_check(K, ALL_ORDERS, ALL_RIDERS, DIST, solution)\n",
    "\n",
    "print(checked_solution['avg_cost'])\n"
   ]
  }
 ],
 "metadata": {
  "kernelspec": {
   "display_name": "Python 3 (ipykernel)",
   "language": "python",
   "name": "python3"
  },
  "language_info": {
   "codemirror_mode": {
    "name": "ipython",
    "version": 3
   },
   "file_extension": ".py",
   "mimetype": "text/x-python",
   "name": "python",
   "nbconvert_exporter": "python",
   "pygments_lexer": "ipython3",
   "version": "3.10.13"
  }
 },
 "nbformat": 4,
 "nbformat_minor": 4
}
