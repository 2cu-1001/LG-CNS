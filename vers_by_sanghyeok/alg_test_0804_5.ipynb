{
 "cells": [
  {
   "cell_type": "code",
   "execution_count": 4,
   "metadata": {},
   "outputs": [],
   "source": [
    "%load_ext autoreload\n",
    "%autoreload 2\n",
    "\n",
    "from util_0804_5 import *\n",
    "# from myalgorithm_0804_5 import algorithm\n",
    "\n",
    "import pandas as pd"
   ]
  },
  {
   "cell_type": "markdown",
   "metadata": {},
   "source": [
    "## 실험 내용\n",
    "1. 5주문 번들에서의 최적 가중치 조합 탐색"
   ]
  },
  {
   "cell_type": "markdown",
   "metadata": {},
   "source": [
    "### 모든 데이터셋 실험"
   ]
  },
  {
   "cell_type": "code",
   "execution_count": 9,
   "metadata": {},
   "outputs": [],
   "source": [
    "weight_grid = []\n",
    "for weight1 in [0, 0.5, 1, 1.5, 2]:\n",
    "    for weight2 in [-3, -2.5, -2, -1.5, -1, -0.5, 0]:\n",
    "        for weight3 in [-1, -0.5, 0, 0.5, 1, 1.5]:\n",
    "            weight_grid.append((weight1, weight2, weight3))"
   ]
  },
  {
   "cell_type": "code",
   "execution_count": 10,
   "metadata": {},
   "outputs": [
    {
     "data": {
      "text/plain": [
       "210"
      ]
     },
     "execution_count": 10,
     "metadata": {},
     "output_type": "execute_result"
    }
   ],
   "source": [
    "len(weight_grid)"
   ]
  },
  {
   "cell_type": "code",
   "execution_count": null,
   "metadata": {},
   "outputs": [],
   "source": [
    "# 기본 데이터셋 추가\n",
    "data_sizes = [50, 100, 200]\n",
    "problem_files = []\n",
    "for data_size in data_sizes:\n",
    "    problem_files.append(fr'C:\\Users\\hsh80\\Desktop\\LG CNS\\alg_test_problems_20240429\\TEST_K{data_size}_1.json')\n",
    "    problem_files.append(fr'C:\\Users\\hsh80\\Desktop\\LG CNS\\alg_test_problems_20240429\\TEST_K{data_size}_2.json')\n",
    "\n",
    "# stage 데이터 추가\n",
    "for file_num in range(1, 19):\n",
    "    problem_file = fr'C:\\Users\\hsh80\\Desktop\\LG CNS\\stage1_problems\\STAGE1_{file_num}.json'\n",
    "\n",
    "    problem_files.append(problem_file)\n",
    "\n",
    "testcase_names = []\n",
    "min_costs = []\n",
    "cts = []\n",
    "process_times = []\n",
    "cost_by_weight = []\n",
    "min_init_cost_combs = []\n",
    "for problem_file in problem_files:\n",
    "    testcase_name = problem_file.split('\\\\')[-1].split('.')[0]\n",
    "\n",
    "    ## ------------------- 기본 변수 할당 ---------------------------\n",
    "\n",
    "    with open(problem_file, 'r') as f:\n",
    "        prob = json.load(f)\n",
    "\n",
    "    K = prob['K']\n",
    "\n",
    "    ALL_ORDERS = [Order(order_info) for order_info in prob['ORDERS']]\n",
    "    ALL_RIDERS = [Rider(rider_info) for rider_info in prob['RIDERS']]\n",
    "\n",
    "    DIST = np.array(prob['DIST'])\n",
    "    for r in ALL_RIDERS:\n",
    "        r.T = np.round(DIST/r.speed + r.service_time).astype(int)\n",
    "\n",
    "    inf = float('inf')\n",
    "\n",
    "    timelimit = 60\n",
    "\n",
    "    ## ------------------- 초기 상태 할당 코드 -------------------------\n",
    "\n",
    "    car_rider = [rider for rider in ALL_RIDERS if rider.type == 'CAR'][0]\n",
    "    bike_rider = [rider for rider in ALL_RIDERS if rider.type == 'BIKE'][0]\n",
    "    walk_rider = [rider for rider in ALL_RIDERS if rider.type == 'WALK'][0]\n",
    "\n",
    "    init_availables = [rider.available_number for rider in ALL_RIDERS]\n",
    "\n",
    "    all_bundles = []\n",
    "    for ord in ALL_ORDERS:\n",
    "        new_bundle = Bundle(ALL_ORDERS, car_rider, [ord.id], [ord.id], ord.volume, DIST[ord.id, ord.id+K])\n",
    "        car_rider.available_number -= 1\n",
    "        all_bundles.append(new_bundle)\n",
    "\n",
    "    ## ------------------  주문 조합 가능성 행렬 제작하기 -----------------------------\n",
    "\n",
    "    order_comb_possibility = [[True] * K for _ in range(K)]\n",
    "\n",
    "    for i in range(len(all_bundles)):\n",
    "        for j in range(i + 1, len(all_bundles)):\n",
    "            bundle1 = all_bundles[i]\n",
    "            bundle2 = all_bundles[j]\n",
    "\n",
    "            order_num1 = bundle1.shop_seq[0]\n",
    "            order_num2 = bundle2.shop_seq[0]\n",
    "\n",
    "            ip = try_merging_bundles_by_dist(K, DIST, ALL_ORDERS, ALL_RIDERS, bundle1, bundle2)\n",
    "\n",
    "            if not ip:\n",
    "                order_comb_possibility[order_num1][order_num2] = False\n",
    "                order_comb_possibility[order_num2][order_num1] = False\n",
    "\n",
    "    optimized_order_perms = [dict(), dict(), dict()] # optimized_order_perms[rider_i] = {orders_sorted: 최적 번들}\n",
    "\n",
    "    min_init_cost = inf\n",
    "    min_init_cost_bundles = []\n",
    "    min_init_cost_rider_availables = []\n",
    "    min_init_cost_comb = []\n",
    "\n",
    "    weight_grid = []\n",
    "    for weight1 in [0, 0.5, 1, 1.5, 2]:\n",
    "        for weight2 in [-3, -2.5, -2, -1.5, -1, -0.5, 0]:\n",
    "            for weight3 in [-1, -0.5, 0, 0.5, 1, 1.5]:\n",
    "                weight_grid.append((weight1, weight2, weight3))\n",
    "\n",
    "    start_time = time.time()\n",
    "    temp_process_times = []\n",
    "    temp_cost_by_weight = []\n",
    "    \n",
    "    for weight1, weight2, weight3 in weight_grid:\n",
    "        temp_start_time = time.time()\n",
    "        bundles, result_rider_availables, cost = get_init_bundle(K, ALL_RIDERS, ALL_ORDERS, DIST, init_availables, weight1, weight2, weight3, try_merging_bundles_by_dist_possibles_only, order_comb_possibility, optimized_order_perms, False, 5)\n",
    "\n",
    "        bundles, result_rider_availables = reassign_riders(K, ALL_ORDERS, ALL_RIDERS, DIST, init_availables, bundles)\n",
    "        cost = sum((bundle.cost for bundle in bundles)) / K\n",
    "\n",
    "        temp_end_time = time.time()\n",
    "\n",
    "        temp_process_time = temp_end_time - temp_start_time\n",
    "        temp_process_times.append(temp_process_time)\n",
    "\n",
    "        weight_comb = [weight1, weight2, weight3]\n",
    "        temp_cost_by_weight.append((weight_comb, cost))\n",
    "\n",
    "        if cost < min_init_cost:\n",
    "            min_init_cost = cost\n",
    "            min_init_cost_bundles = bundles\n",
    "            min_init_cost_rider_availables = result_rider_availables\n",
    "            min_init_cost_comb = weight_comb\n",
    "\n",
    "    cost_by_weight.append(temp_cost_by_weight)\n",
    "    min_init_cost_combs.append(min_init_cost_comb)\n",
    "\n",
    "    used_rider_info = [(v.rider.type, len(v.shop_seq)) for v in min_init_cost_bundles]\n",
    "\n",
    "    ct = [[0, 0] for _ in range(6)] # ct[order_c] = [walk_c, non_walk_c]\n",
    "\n",
    "    for rider_type, order_c in used_rider_info:\n",
    "        if rider_type == 'WALK':\n",
    "            ct[order_c][0] += 1\n",
    "        else:\n",
    "            ct[order_c][1] += 1\n",
    "\n",
    "    print(testcase_name, sum(temp_process_times), min_init_cost, min_init_cost_comb)\n",
    "\n",
    "    cts.append(ct)\n",
    "    min_costs.append(min_init_cost)\n",
    "    testcase_names.append(testcase_name)\n",
    "    process_times.append(temp_process_times)"
   ]
  }
 ],
 "metadata": {
  "kernelspec": {
   "display_name": "Python 3 (ipykernel)",
   "language": "python",
   "name": "python3"
  },
  "language_info": {
   "codemirror_mode": {
    "name": "ipython",
    "version": 3
   },
   "file_extension": ".py",
   "mimetype": "text/x-python",
   "name": "python",
   "nbconvert_exporter": "python",
   "pygments_lexer": "ipython3",
   "version": "3.10.13"
  }
 },
 "nbformat": 4,
 "nbformat_minor": 4
}
