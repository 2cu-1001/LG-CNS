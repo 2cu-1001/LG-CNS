{
 "cells": [
  {
   "cell_type": "code",
   "execution_count": 1,
   "metadata": {},
   "outputs": [],
   "source": [
    "%load_ext autoreload\n",
    "%autoreload 2\n",
    "\n",
    "\n",
    "from util_0630 import *\n",
    "from myalgorithm_0630_1 import algorithm"
   ]
  },
  {
   "cell_type": "markdown",
   "metadata": {},
   "source": [
    "- 실험해볼 내용들\n",
    "\n",
    "1. 가까운 거리는 먼저 WALK를 배정하면 어떨까? -> try_merging_bundles_by_dist_walk_prefered 함수 제작 후 실험 결과 결과가 꼭 개선된다는 보장이 없었음\n",
    "2. 배달원을 전부 한번에 재할당해보면 어떨까? -> check_reassign_riders 함수 제작 후 실험 결과 기존의 배달원 재할당 코드보다 확실히 효과적이었음\n",
    "3. 가까운 번들 내의 원소를 교환하는 휴리스틱 코드를 만들면 어떨까?\n",
    "4. 만약 번들의 각 주문을 CAR로 나누어 할당하였을 때 더 비용이 최소화가 된다면 나누는 언번들링 코드를 제작해보면 어떨까?"
   ]
  },
  {
   "cell_type": "markdown",
   "metadata": {},
   "source": [
    "- 코드 구조상 개선할 부분\n",
    "\n",
    "1. get_init_bundle 함수를 util로 옮기기 -> 완료\n",
    "2. 배달원 커스텀 할당 기능을 util로 옮기기 -> 완료"
   ]
  },
  {
   "cell_type": "code",
   "execution_count": 2,
   "metadata": {},
   "outputs": [
    {
     "name": "stdout",
     "output_type": "stream",
     "text": [
      "3691.1\n"
     ]
    }
   ],
   "source": [
    "\n",
    "problem_file = '../alg_test_problems_20240429/TEST_K100_1.json'\n",
    "# problem_file = '../alg_test_problems_20240429/TEST_K100_2.json'\n",
    "\n",
    "# problem_file = r'C:\\Users\\hsh80\\Desktop\\LG CNS\\stage1_problems\\STAGE1_18.json'\n",
    "\n",
    "## ------------------- 초기 상태 할당 코드 -------------------------\n",
    "\n",
    "with open(problem_file, 'r') as f:\n",
    "    prob = json.load(f)\n",
    "\n",
    "K = prob['K']\n",
    "\n",
    "ALL_ORDERS = [Order(order_info) for order_info in prob['ORDERS']]\n",
    "ALL_RIDERS = [Rider(rider_info) for rider_info in prob['RIDERS']]\n",
    "\n",
    "DIST = np.array(prob['DIST'])\n",
    "for r in ALL_RIDERS:\n",
    "    r.T = np.round(DIST/r.speed + r.service_time).astype(int)\n",
    "\n",
    "## --------------- 초기 번들링 최적화 코드 --------------------------\n",
    "\n",
    "inf = float('inf')\n",
    "\n",
    "car_rider = [rider for rider in ALL_RIDERS if rider.type == 'CAR'][0]\n",
    "bike_rider = [rider for rider in ALL_RIDERS if rider.type == 'BIKE'][0]\n",
    "walk_rider = [rider for rider in ALL_RIDERS if rider.type == 'WALK'][0]\n",
    "\n",
    "init_availables = [rider.available_number for rider in ALL_RIDERS]\n",
    "\n",
    "min_init_cost = inf\n",
    "min_init_cost_bundle = []\n",
    "min_init_cost_rider_availables = []\n",
    "\n",
    "# try_merging_bundles_by_dist // 모든 배달원과 모든 조합에서의 최소 거리를 보는 케이스\n",
    "# try_merging_bundles_by_dist_walk_prefered // 위와 동일하지만 우선적으로 도보 배달원을 할당하는 케이스\n",
    "# try_merging_bundles_by_cost // 번들 합칠 때 거리가 아닌 비용을 보는 케이스\n",
    "\n",
    "for weight1 in [0, 1]:\n",
    "    for weight2 in [-3, -2, -1.5, -1, -0.5, 0, 0.5]:\n",
    "        bundles, result_rider_availables, cost = get_init_bundle(K, ALL_RIDERS, ALL_ORDERS, DIST, init_availables, weight1, weight2, try_merging_bundles_by_dist, 4)\n",
    "\n",
    "        if cost < min_init_cost:\n",
    "            min_init_cost = cost\n",
    "            min_init_cost_bundles = bundles\n",
    "            min_init_cost_rider_availables = result_rider_availables\n",
    "\n",
    "for rider_i in range(3):\n",
    "    ALL_RIDERS[rider_i].available_number = min_init_cost_rider_availables[rider_i]\n",
    "all_bundles = min_init_cost_bundles\n",
    "\n",
    "\n",
    "## ----------------- 기본 배달원 재할당 코드 -------------------\n",
    "\n",
    "for bundle in all_bundles:\n",
    "    new_rider = get_cheaper_available_riders(ALL_RIDERS, bundle.rider)\n",
    "    if new_rider is not None:\n",
    "        old_rider = bundle.rider\n",
    "\n",
    "        check_result = check_bundle_rider_changing(ALL_ORDERS, bundle, new_rider)\n",
    "        if check_result:\n",
    "            bundle.shop_seq = check_result[0]\n",
    "            bundle.dlv_seq = check_result[1]\n",
    "            bundle.rider = check_result[2]\n",
    "            bundle.update_cost()\n",
    "\n",
    "            old_rider.available_number += 1\n",
    "            new_rider.available_number -= 1\n",
    "\n",
    "\n",
    "## ----------------- 커스텀 배달원 재할당 코드 -----------------------\n",
    "\n",
    "all_bundles, rider_availables = check_reassign_riders(K, ALL_ORDERS, ALL_RIDERS, DIST, init_availables, all_bundles)\n",
    "for rider_i in range(3):\n",
    "    ALL_RIDERS[rider_i].available_number = rider_availables[rider_i]\n",
    "\n",
    "## -------------- 솔루션 제작 및 실현 가능성 확인 코드 ---------------- \n",
    "\n",
    "solution = [\n",
    "        # rider type, shop_seq, dlv_seq\n",
    "        [bundle.rider.type, bundle.shop_seq, bundle.dlv_seq]\n",
    "        for bundle in all_bundles\n",
    "]\n",
    "\n",
    "with open(problem_file, 'r') as f:\n",
    "    prob = json.load(f)\n",
    "\n",
    "K = prob['K']\n",
    "\n",
    "ALL_ORDERS = [Order(order_info) for order_info in prob['ORDERS']]\n",
    "ALL_RIDERS = [Rider(rider_info) for rider_info in prob['RIDERS']]\n",
    "\n",
    "DIST = np.array(prob['DIST'])\n",
    "for r in ALL_RIDERS:\n",
    "    r.T = np.round(DIST/r.speed + r.service_time).astype(int)\n",
    "\n",
    "checked_solution = solution_check(K, ALL_ORDERS, ALL_RIDERS, DIST, solution)\n",
    "\n",
    "print(checked_solution['avg_cost'])\n"
   ]
  },
  {
   "cell_type": "code",
   "execution_count": null,
   "metadata": {},
   "outputs": [],
   "source": [
    "3761"
   ]
  },
  {
   "cell_type": "markdown",
   "metadata": {},
   "source": [
    "### 번들을 CAR 또는 WALK 배달원이 할당된 각각의 주문으로 분리하였을 때 비용이 줄어드는지 확인하고 분리하기"
   ]
  },
  {
   "cell_type": "code",
   "execution_count": 57,
   "metadata": {},
   "outputs": [
    {
     "name": "stdout",
     "output_type": "stream",
     "text": [
      "7635.200000000001 19533.0 BIKE 3\n",
      "8070.200000000001 20322.0 BIKE 3\n",
      "11045.0 21814.0 BIKE 3\n",
      "8552.0 18799.0 BIKE 3\n",
      "8579.0 19997.0 BIKE 3\n",
      "8889.2 22375.0 BIKE 3\n",
      "9517.0 21559.0 CAR 3\n",
      "9710.6 19105.0 BIKE 3\n",
      "9238.0 18648.0 CAR 3\n",
      "8618.0 24871.0 BIKE 3\n",
      "7331.6 20363.0 BIKE 3\n",
      "9553.0 13428.0 CAR 2\n",
      "11342.0 19237.0 CAR 3\n",
      "12006.0 23800.0 CAR 3\n",
      "9153.2 23235.0 BIKE 3\n",
      "7577.0 23024.0 BIKE 3\n",
      "10495.0 18038.0 CAR 3\n",
      "11072.599999999999 22200.0 BIKE 3\n",
      "8197.4 23937.0 BIKE 3\n",
      "7938.799999999999 16535.0 BIKE 2\n",
      "10159.4 16756.0 BIKE 2\n",
      "9322.400000000001 19242.0 BIKE 3\n",
      "8296.4 18243.0 BIKE 3\n",
      "7376.6 19768.0 BIKE 3\n",
      "8370.2 23960.0 BIKE 3\n",
      "8525.6 24017.0 BIKE 3\n",
      "6771.0 11565.0 CAR 2\n",
      "9899.0 14144.0 CAR 2\n",
      "9654.0 15195.0 CAR 2\n",
      "9781.0 12389.0 CAR 2\n",
      "9861.0 21471.0 CAR 3\n",
      "8887.0 13209.0 CAR 2\n",
      "7623.0 13952.0 CAR 2\n",
      "8178.0 12013.0 CAR 2\n"
     ]
    }
   ],
   "source": [
    "new_all_bundles = []\n",
    "\n",
    "for bundle in all_bundles:\n",
    "    if len(bundle.shop_seq) == 1:\n",
    "        continue\n",
    "\n",
    "    former_cost = bundle.cost\n",
    "\n",
    "    new_total_cost = 0\n",
    "    for order in bundle.shop_seq:\n",
    "        one_order_bundle = Bundle(ALL_RIDERS, car_rider, [order], [order], ALL_ORDERS[order].volume, DIST[order][order + K])\n",
    "\n",
    "        new_total_cost += one_order_bundle.cost\n",
    "\n",
    "    print(former_cost, new_total_cost, bundle.rider.type, len(bundle.shop_seq))\n",
    "\n",
    "    if new_total_cost < former_cost:\n",
    "        pass\n",
    "        # print(former_cost - new_total_cost, bundle.rider.type, len(bundle.shop_seq))"
   ]
  },
  {
   "cell_type": "code",
   "execution_count": 68,
   "metadata": {},
   "outputs": [
    {
     "name": "stdout",
     "output_type": "stream",
     "text": [
      "7635.200000000001 16359.9 BIKE 3\n",
      "8070.200000000001 16596.600000000002 BIKE 3\n",
      "11045.0 17044.2 BIKE 3\n",
      "8552.0 16139.7 BIKE 3\n",
      "8579.0 16499.1 BIKE 3\n",
      "8889.2 17212.5 BIKE 3\n",
      "9517.0 16967.699999999997 CAR 3\n",
      "9710.6 16231.5 BIKE 3\n",
      "9238.0 16094.4 CAR 3\n",
      "8618.0 17961.3 BIKE 3\n",
      "7331.6 16608.9 BIKE 3\n",
      "9553.0 11028.400000000001 CAR 2\n",
      "11342.0 16271.1 CAR 3\n",
      "12006.0 17640.0 CAR 3\n",
      "9153.2 17470.5 BIKE 3\n",
      "7577.0 17407.2 BIKE 3\n",
      "10495.0 15911.4 CAR 3\n",
      "11072.599999999999 17160.0 BIKE 3\n",
      "8197.4 17681.1 BIKE 3\n",
      "7938.799999999999 11960.5 BIKE 2\n",
      "10159.4 12026.8 BIKE 2\n",
      "9322.400000000001 16272.6 BIKE 3\n",
      "8296.4 15972.900000000001 BIKE 3\n",
      "7376.6 16430.4 BIKE 3\n",
      "8370.2 17688.0 BIKE 3\n",
      "8525.6 17705.1 BIKE 3\n",
      "6771.0 10469.5 CAR 2\n",
      "9899.0 11243.2 CAR 2\n",
      "9654.0 11558.5 CAR 2\n",
      "9781.0 10716.7 CAR 2\n",
      "9861.0 16941.300000000003 CAR 3\n",
      "8887.0 10962.7 CAR 2\n",
      "7623.0 11185.599999999999 CAR 2\n",
      "8178.0 10603.9 CAR 2\n"
     ]
    }
   ],
   "source": [
    "# WALK 배달원의 수 제한과 상관 없이 전부 WALK 배달원으로 할당해봄\n",
    "new_all_bundles = []\n",
    "\n",
    "for bundle in all_bundles:\n",
    "    if len(bundle.shop_seq) == 1:\n",
    "        continue\n",
    "\n",
    "    former_cost = bundle.cost\n",
    "\n",
    "    new_total_cost = 0\n",
    "    for order in bundle.shop_seq:\n",
    "        one_order_bundle = Bundle(ALL_RIDERS, walk_rider, [order], [order], ALL_ORDERS[order].volume, DIST[order][order + K])\n",
    "\n",
    "        new_total_cost += one_order_bundle.cost\n",
    "\n",
    "    print(former_cost, new_total_cost, bundle.rider.type, len(bundle.shop_seq))\n",
    "\n",
    "    if new_total_cost < former_cost:\n",
    "        pass\n",
    "        # print(former_cost - new_total_cost, bundle.rider.type, len(bundle.shop_seq))"
   ]
  },
  {
   "cell_type": "markdown",
   "metadata": {},
   "source": [
    "> 결과적으로 번들을 묶는 것이 이득이 아닌 경우가 없음을 발견하였다."
   ]
  },
  {
   "cell_type": "markdown",
   "metadata": {},
   "source": [
    "### 4번들 가능 여부 확인"
   ]
  },
  {
   "cell_type": "markdown",
   "metadata": {},
   "source": [
    "- 먼저 주문 2개씩만 가진 번들까지만 만든 다음에 주문 4개씩 가진 번들을 시도해봄"
   ]
  },
  {
   "cell_type": "code",
   "execution_count": 69,
   "metadata": {},
   "outputs": [
    {
     "data": {
      "text/plain": [
       "<function util_0630.get_init_bundle_4_order_bundle_maker(K, ALL_RIDERS, ALL_ORDERS, DIST, init_availables, weight1, weight2)>"
      ]
     },
     "execution_count": 69,
     "metadata": {},
     "output_type": "execute_result"
    }
   ],
   "source": [
    "get_init_bundle_4_order_bundle_maker"
   ]
  },
  {
   "cell_type": "code",
   "execution_count": 5,
   "metadata": {},
   "outputs": [
    {
     "name": "stdout",
     "output_type": "stream",
     "text": [
      "3542.1769999999997\n"
     ]
    }
   ],
   "source": [
    "\n",
    "problem_file = '../alg_test_problems_20240429/TEST_K100_1.json'\n",
    "# problem_file = r'C:\\Users\\hsh80\\Desktop\\LG CNS\\stage1_problems\\STAGE1_18.json'\n",
    "# problem_file = '../alg_test_problems_20240429/TEST_K100_2.json'\n",
    "\n",
    "## ------------------- 초기 상태 할당 코드 -------------------------\n",
    "\n",
    "with open(problem_file, 'r') as f:\n",
    "    prob = json.load(f)\n",
    "\n",
    "K = prob['K']\n",
    "\n",
    "ALL_ORDERS = [Order(order_info) for order_info in prob['ORDERS']]\n",
    "ALL_RIDERS = [Rider(rider_info) for rider_info in prob['RIDERS']]\n",
    "\n",
    "DIST = np.array(prob['DIST'])\n",
    "for r in ALL_RIDERS:\n",
    "    r.T = np.round(DIST/r.speed + r.service_time).astype(int)\n",
    "\n",
    "## --------------- 초기 번들링 최적화 코드 --------------------------\n",
    "\n",
    "inf = float('inf')\n",
    "\n",
    "car_rider = [rider for rider in ALL_RIDERS if rider.type == 'CAR'][0]\n",
    "bike_rider = [rider for rider in ALL_RIDERS if rider.type == 'BIKE'][0]\n",
    "walk_rider = [rider for rider in ALL_RIDERS if rider.type == 'WALK'][0]\n",
    "\n",
    "init_availables = [rider.available_number for rider in ALL_RIDERS]\n",
    "\n",
    "min_init_cost = inf\n",
    "min_init_cost_bundle = []\n",
    "min_init_cost_rider_availables = []\n",
    "\n",
    "# try_merging_bundles_by_dist // 모든 배달원과 모든 조합에서의 최소 거리를 보는 케이스\n",
    "# try_merging_bundles_by_dist_walk_prefered // 위와 동일하지만 우선적으로 도보 배달원을 할당하는 케이스\n",
    "# try_merging_bundles_by_cost // 번들 합칠 때 거리가 아닌 비용을 보는 케이스\n",
    "\n",
    "weight1 = 1\n",
    "weight2 = -1.5\n",
    "\n",
    "all_bundles, result_rider_availables, cost = get_init_bundle_4_order_bundle_maker(K, ALL_RIDERS, ALL_ORDERS, DIST, init_availables, weight1, weight2)\n",
    "\n",
    "for rider_i in range(3):\n",
    "    ALL_RIDERS[rider_i].available_number = result_rider_availables[rider_i]\n",
    "\n",
    "## ----------------- 기본 배달원 재할당 코드 -------------------\n",
    "\n",
    "for bundle in all_bundles:\n",
    "    new_rider = get_cheaper_available_riders(ALL_RIDERS, bundle.rider)\n",
    "    if new_rider is not None:\n",
    "        old_rider = bundle.rider\n",
    "\n",
    "        check_result = check_bundle_rider_changing(ALL_ORDERS, bundle, new_rider)\n",
    "        if check_result:\n",
    "            bundle.shop_seq = check_result[0]\n",
    "            bundle.dlv_seq = check_result[1]\n",
    "            bundle.rider = check_result[2]\n",
    "            bundle.update_cost()\n",
    "\n",
    "            old_rider.available_number += 1\n",
    "            new_rider.available_number -= 1\n",
    "\n",
    "\n",
    "## ----------------- 커스텀 배달원 재할당 코드 -----------------------\n",
    "\n",
    "all_bundles, rider_availables = check_reassign_riders(K, ALL_ORDERS, ALL_RIDERS, DIST, init_availables, all_bundles)\n",
    "for rider_i in range(3):\n",
    "    ALL_RIDERS[rider_i].available_number = rider_availables[rider_i]\n",
    "\n",
    "## -------------- 솔루션 제작 및 실현 가능성 확인 코드 ---------------- \n",
    "\n",
    "solution = [\n",
    "        # rider type, shop_seq, dlv_seq\n",
    "        [bundle.rider.type, bundle.shop_seq, bundle.dlv_seq]\n",
    "        for bundle in all_bundles\n",
    "]\n",
    "\n",
    "with open(problem_file, 'r') as f:\n",
    "    prob = json.load(f)\n",
    "\n",
    "K = prob['K']\n",
    "\n",
    "ALL_ORDERS = [Order(order_info) for order_info in prob['ORDERS']]\n",
    "ALL_RIDERS = [Rider(rider_info) for rider_info in prob['RIDERS']]\n",
    "\n",
    "DIST = np.array(prob['DIST'])\n",
    "for r in ALL_RIDERS:\n",
    "    r.T = np.round(DIST/r.speed + r.service_time).astype(int)\n",
    "\n",
    "checked_solution = solution_check(K, ALL_ORDERS, ALL_RIDERS, DIST, solution)\n",
    "\n",
    "print(checked_solution['avg_cost'])"
   ]
  },
  {
   "cell_type": "markdown",
   "metadata": {},
   "source": [
    "### Weight search도 다시 반영해줌"
   ]
  },
  {
   "cell_type": "code",
   "execution_count": 6,
   "metadata": {},
   "outputs": [
    {
     "name": "stdout",
     "output_type": "stream",
     "text": [
      "3487.3210000000004\n"
     ]
    }
   ],
   "source": [
    "\n",
    "problem_file = '../alg_test_problems_20240429/TEST_K100_1.json'\n",
    "# problem_file = '../alg_test_problems_20240429/TEST_K100_2.json'\n",
    "# problem_file = r'C:\\Users\\hsh80\\Desktop\\LG CNS\\stage1_problems\\STAGE1_18.json'\n",
    "# problem_file = '../alg_test_problems_20240429/TEST_K100_2.json'\n",
    "\n",
    "## ------------------- 초기 상태 할당 코드 -------------------------\n",
    "\n",
    "with open(problem_file, 'r') as f:\n",
    "    prob = json.load(f)\n",
    "\n",
    "K = prob['K']\n",
    "\n",
    "ALL_ORDERS = [Order(order_info) for order_info in prob['ORDERS']]\n",
    "ALL_RIDERS = [Rider(rider_info) for rider_info in prob['RIDERS']]\n",
    "\n",
    "DIST = np.array(prob['DIST'])\n",
    "for r in ALL_RIDERS:\n",
    "    r.T = np.round(DIST/r.speed + r.service_time).astype(int)\n",
    "\n",
    "## --------------- 초기 번들링 최적화 코드 --------------------------\n",
    "\n",
    "inf = float('inf')\n",
    "\n",
    "car_rider = [rider for rider in ALL_RIDERS if rider.type == 'CAR'][0]\n",
    "bike_rider = [rider for rider in ALL_RIDERS if rider.type == 'BIKE'][0]\n",
    "walk_rider = [rider for rider in ALL_RIDERS if rider.type == 'WALK'][0]\n",
    "\n",
    "init_availables = [rider.available_number for rider in ALL_RIDERS]\n",
    "\n",
    "min_init_cost = inf\n",
    "min_init_cost_bundle = []\n",
    "min_init_cost_rider_availables = []\n",
    "\n",
    "# try_merging_bundles_by_dist // 모든 배달원과 모든 조합에서의 최소 거리를 보는 케이스\n",
    "# try_merging_bundles_by_dist_walk_prefered // 위와 동일하지만 우선적으로 도보 배달원을 할당하는 케이스\n",
    "# try_merging_bundles_by_cost // 번들 합칠 때 거리가 아닌 비용을 보는 케이스\n",
    "\n",
    "for weight1 in [0, 1]:\n",
    "    for weight2 in [-3, -2, -1.5, -1, -0.5, 0, 0.5]:\n",
    "        bundles, result_rider_availables, cost = get_init_bundle_4_order_bundle_maker(K, ALL_RIDERS, ALL_ORDERS, DIST, init_availables, weight1, weight2)\n",
    "\n",
    "        if cost < min_init_cost:\n",
    "            min_init_cost = cost\n",
    "            min_init_cost_bundles = bundles\n",
    "            min_init_cost_rider_availables = result_rider_availables\n",
    "\n",
    "for rider_i in range(3):\n",
    "    ALL_RIDERS[rider_i].available_number = min_init_cost_rider_availables[rider_i]\n",
    "all_bundles = min_init_cost_bundles\n",
    "\n",
    "\n",
    "## ----------------- 기본 배달원 재할당 코드 -------------------\n",
    "\n",
    "for bundle in all_bundles:\n",
    "    new_rider = get_cheaper_available_riders(ALL_RIDERS, bundle.rider)\n",
    "    if new_rider is not None:\n",
    "        old_rider = bundle.rider\n",
    "\n",
    "        check_result = check_bundle_rider_changing(ALL_ORDERS, bundle, new_rider)\n",
    "        if check_result:\n",
    "            bundle.shop_seq = check_result[0]\n",
    "            bundle.dlv_seq = check_result[1]\n",
    "            bundle.rider = check_result[2]\n",
    "            bundle.update_cost()\n",
    "\n",
    "            old_rider.available_number += 1\n",
    "            new_rider.available_number -= 1\n",
    "\n",
    "\n",
    "## ----------------- 커스텀 배달원 재할당 코드 -----------------------\n",
    "\n",
    "all_bundles, rider_availables = check_reassign_riders(K, ALL_ORDERS, ALL_RIDERS, DIST, init_availables, all_bundles)\n",
    "for rider_i in range(3):\n",
    "    ALL_RIDERS[rider_i].available_number = rider_availables[rider_i]\n",
    "\n",
    "## -------------- 솔루션 제작 및 실현 가능성 확인 코드 ---------------- \n",
    "\n",
    "solution = [\n",
    "        # rider type, shop_seq, dlv_seq\n",
    "        [bundle.rider.type, bundle.shop_seq, bundle.dlv_seq]\n",
    "        for bundle in all_bundles\n",
    "]\n",
    "\n",
    "with open(problem_file, 'r') as f:\n",
    "    prob = json.load(f)\n",
    "\n",
    "K = prob['K']\n",
    "\n",
    "ALL_ORDERS = [Order(order_info) for order_info in prob['ORDERS']]\n",
    "ALL_RIDERS = [Rider(rider_info) for rider_info in prob['RIDERS']]\n",
    "\n",
    "DIST = np.array(prob['DIST'])\n",
    "for r in ALL_RIDERS:\n",
    "    r.T = np.round(DIST/r.speed + r.service_time).astype(int)\n",
    "\n",
    "checked_solution = solution_check(K, ALL_ORDERS, ALL_RIDERS, DIST, solution)\n",
    "\n",
    "print(checked_solution['avg_cost'])"
   ]
  },
  {
   "cell_type": "markdown",
   "metadata": {},
   "source": [
    "> 추가적인 실험 결과 번들로 묶는 최대 주문 수를 2 -> 4 -> 3으로 했을 때 바로 4개로 했을 때보다 오히려 시간이 적게 걸리면서도 비용이 낮았음."
   ]
  },
  {
   "cell_type": "markdown",
   "metadata": {},
   "source": [
    "## 제출용"
   ]
  },
  {
   "cell_type": "code",
   "execution_count": 6,
   "metadata": {},
   "outputs": [],
   "source": [
    "problem_file = '../alg_test_problems_20240429/TEST_K100_1.json'\n",
    "\n",
    "timelimit = 60\n",
    "\n",
    "with open(problem_file, 'r') as f:\n",
    "    prob = json.load(f)\n",
    "\n",
    "K = prob['K']\n",
    "\n",
    "ALL_ORDERS = [Order(order_info) for order_info in prob['ORDERS']]\n",
    "ALL_RIDERS = [Rider(rider_info) for rider_info in prob['RIDERS']]\n",
    "\n",
    "DIST = np.array(prob['DIST'])\n",
    "\n",
    "solution = algorithm(K, ALL_ORDERS, ALL_RIDERS, DIST, timelimit)"
   ]
  },
  {
   "cell_type": "code",
   "execution_count": 7,
   "metadata": {},
   "outputs": [
    {
     "data": {
      "text/plain": [
       "3487.3210000000004"
      ]
     },
     "execution_count": 7,
     "metadata": {},
     "output_type": "execute_result"
    }
   ],
   "source": [
    "with open(problem_file, 'r') as f:\n",
    "    prob = json.load(f)\n",
    "K = prob['K']\n",
    "ALL_ORDERS = [Order(order_info) for order_info in prob['ORDERS']]\n",
    "ALL_RIDERS = [Rider(rider_info) for rider_info in prob['RIDERS']]\n",
    "DIST = np.array(prob['DIST'])\n",
    "for r in ALL_RIDERS:\n",
    "    r.T = np.round(DIST/r.speed + r.service_time).astype(int)\n",
    "\n",
    "checked_solution = solution_check(K, ALL_ORDERS, ALL_RIDERS, DIST, solution)\n",
    "\n",
    "checked_solution['avg_cost']"
   ]
  }
 ],
 "metadata": {
  "kernelspec": {
   "display_name": "Python 3 (ipykernel)",
   "language": "python",
   "name": "python3"
  },
  "language_info": {
   "codemirror_mode": {
    "name": "ipython",
    "version": 3
   },
   "file_extension": ".py",
   "mimetype": "text/x-python",
   "name": "python",
   "nbconvert_exporter": "python",
   "pygments_lexer": "ipython3",
   "version": "3.10.13"
  }
 },
 "nbformat": 4,
 "nbformat_minor": 4
}
