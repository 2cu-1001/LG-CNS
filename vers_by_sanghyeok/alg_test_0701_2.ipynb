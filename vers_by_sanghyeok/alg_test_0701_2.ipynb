{
 "cells": [
  {
   "cell_type": "code",
   "execution_count": 1,
   "metadata": {},
   "outputs": [],
   "source": [
    "%load_ext autoreload\n",
    "%autoreload 2\n",
    "\n",
    "\n",
    "from util_0701 import *\n",
    "from myalgorithm_0701_1 import algorithm\n",
    "\n",
    "import pandas as pd\n",
    "\n",
    "import pickle\n",
    "\n",
    "import matplotlib as mpl\n",
    "from matplotlib import pyplot\n",
    "import numpy as np\n",
    "import seaborn as sns"
   ]
  },
  {
   "cell_type": "markdown",
   "metadata": {},
   "source": [
    "- 실험해볼 내용들\n",
    "\n",
    "1. weight1과 weight2의 -6~6 범위 내의 0.5 단위 구간별 비용 정보를 pickle로 저장하기"
   ]
  },
  {
   "cell_type": "markdown",
   "metadata": {},
   "source": [
    "## 특정 데이터 실험"
   ]
  },
  {
   "cell_type": "code",
   "execution_count": 2,
   "metadata": {},
   "outputs": [],
   "source": [
    "test_case_name = 'TEST_K200_1'\n",
    "initializer_name = 'get_init_bundle_4_order_bundle_prefered_with_reassigning_riders'"
   ]
  },
  {
   "cell_type": "code",
   "execution_count": 3,
   "metadata": {},
   "outputs": [],
   "source": [
    "problem_file = f'../alg_test_problems_20240429/{test_case_name}.json'\n",
    "\n",
    "# problem_file = '../stage1_problems/STAGE1_18.json'"
   ]
  },
  {
   "cell_type": "code",
   "execution_count": 4,
   "metadata": {},
   "outputs": [
    {
     "name": "stdout",
     "output_type": "stream",
     "text": [
      "TEST_K200_1\n",
      "0 1 \n"
     ]
    }
   ],
   "source": [
    "## ------------------- 초기 상태 할당 코드 -------------------------\n",
    "\n",
    "with open(problem_file, 'r') as f:\n",
    "    prob = json.load(f)\n",
    "\n",
    "K = prob['K']\n",
    "\n",
    "ALL_ORDERS = [Order(order_info) for order_info in prob['ORDERS']]\n",
    "ALL_RIDERS = [Rider(rider_info) for rider_info in prob['RIDERS']]\n",
    "\n",
    "DIST = np.array(prob['DIST'])\n",
    "for r in ALL_RIDERS:\n",
    "    r.T = np.round(DIST/r.speed + r.service_time).astype(int)\n",
    "\n",
    "## --------------- 초기 번들링 최적화 코드 --------------------------\n",
    "\n",
    "inf = float('inf')\n",
    "\n",
    "car_rider = [rider for rider in ALL_RIDERS if rider.type == 'CAR'][0]\n",
    "bike_rider = [rider for rider in ALL_RIDERS if rider.type == 'BIKE'][0]\n",
    "walk_rider = [rider for rider in ALL_RIDERS if rider.type == 'WALK'][0]\n",
    "\n",
    "init_availables = [rider.available_number for rider in ALL_RIDERS]\n",
    "\n",
    "weight_experiment_data = []\n",
    "grid = [-6, -5.5, -5, -4.5, -4, -3.5, -3, -2.5, -2, -1.5, -1, -0.5, 0, 0.5, 1, 1.5, 2, 2.5, 3, 3.5, 4, 4.5, 5, 5.5, 6]\n",
    "grid = [0, 1]\n",
    "\n",
    "print(test_case_name)\n",
    "for weight1 in grid:\n",
    "    print(weight1, end=' ')\n",
    "    for weight2 in grid:\n",
    "        bundles, result_rider_availables, cost = get_init_bundle_4_order_bundle_prefered_with_reassigning_riders(K, ALL_RIDERS, ALL_ORDERS, DIST, init_availables, weight1, weight2)\n",
    "        weight_experiment_data.append((weight1, weight2, cost))\n",
    "print()\n",
    "\n",
    "with open(f'alg_test_0701_cost_by_weights/{test_case_name}-{initializer_name}.pickle', 'wb') as file:\n",
    "    pickle.dump(weight_experiment_data, file)"
   ]
  },
  {
   "cell_type": "markdown",
   "metadata": {},
   "source": [
    "## 모든 test 데이터 실험"
   ]
  },
  {
   "cell_type": "code",
   "execution_count": 5,
   "metadata": {},
   "outputs": [
    {
     "name": "stdout",
     "output_type": "stream",
     "text": [
      "TEST_K50_1\n",
      "-6 -5.5 -5 -4.5 -4 -3.5 -3 -2.5 -2 -1.5 -1 -0.5 0 0.5 1 1.5 2 2.5 3 3.5 4 4.5 5 5.5 6 \n",
      "TEST_K50_2\n",
      "-6 -5.5 -5 -4.5 -4 -3.5 -3 -2.5 -2 -1.5 -1 -0.5 0 0.5 1 1.5 2 2.5 3 3.5 4 4.5 5 5.5 6 \n",
      "TEST_K100_1\n",
      "-6 -5.5 -5 -4.5 -4 -3.5 -3 -2.5 -2 -1.5 -1 -0.5 0 0.5 1 1.5 2 2.5 3 3.5 4 4.5 5 5.5 6 \n",
      "TEST_K100_2\n",
      "-6 -5.5 -5 -4.5 -4 -3.5 -3 -2.5 -2 -1.5 -1 -0.5 0 0.5 1 1.5 2 2.5 3 3.5 4 4.5 5 5.5 6 \n",
      "TEST_K200_1\n",
      "-6 -5.5 -5 -4.5 -4 -3.5 -3 -2.5 -2 -1.5 -1 -0.5 "
     ]
    }
   ],
   "source": [
    "initializer_name = 'get_init_bundle_4_order_bundle_prefered_with_reassigning_riders'\n",
    "\n",
    "for k_value in [50, 100, 200]:\n",
    "    for num_value in [1, 2]:\n",
    "        test_case_name = f'TEST_K{k_value}_{num_value}'\n",
    "\n",
    "        problem_file = f'../alg_test_problems_20240429/{test_case_name}.json'\n",
    "\n",
    "        with open(problem_file, 'r') as f:\n",
    "            prob = json.load(f)\n",
    "\n",
    "        K = prob['K']\n",
    "\n",
    "        ALL_ORDERS = [Order(order_info) for order_info in prob['ORDERS']]\n",
    "        ALL_RIDERS = [Rider(rider_info) for rider_info in prob['RIDERS']]\n",
    "\n",
    "        DIST = np.array(prob['DIST'])\n",
    "        for r in ALL_RIDERS:\n",
    "            r.T = np.round(DIST/r.speed + r.service_time).astype(int)\n",
    "\n",
    "        inf = float('inf')\n",
    "\n",
    "        car_rider = [rider for rider in ALL_RIDERS if rider.type == 'CAR'][0]\n",
    "        bike_rider = [rider for rider in ALL_RIDERS if rider.type == 'BIKE'][0]\n",
    "        walk_rider = [rider for rider in ALL_RIDERS if rider.type == 'WALK'][0]\n",
    "\n",
    "        init_availables = [rider.available_number for rider in ALL_RIDERS]\n",
    "\n",
    "        weight_experiment_data = []\n",
    "        grid = [-6, -5.5, -5, -4.5, -4, -3.5, -3, -2.5, -2, -1.5, -1, -0.5, 0, 0.5, 1, 1.5, 2, 2.5, 3, 3.5, 4, 4.5, 5, 5.5, 6]\n",
    "\n",
    "        print(test_case_name)\n",
    "        for weight1 in grid:\n",
    "            print(weight1, end=' ')\n",
    "            for weight2 in grid:\n",
    "                bundles, result_rider_availables, cost = get_init_bundle_4_order_bundle_prefered_with_reassigning_riders(K, ALL_RIDERS, ALL_ORDERS, DIST, init_availables, weight1, weight2)\n",
    "                weight_experiment_data.append((weight1, weight2, cost))\n",
    "        print()\n",
    "\n",
    "        with open(f'alg_test_0701_cost_by_weights/{test_case_name}-{initializer_name}.pickle', 'wb') as file:\n",
    "            pickle.dump(weight_experiment_data, file)\n",
    "                        \n"
   ]
  }
 ],
 "metadata": {
  "kernelspec": {
   "display_name": "Python 3 (ipykernel)",
   "language": "python",
   "name": "python3"
  },
  "language_info": {
   "codemirror_mode": {
    "name": "ipython",
    "version": 3
   },
   "file_extension": ".py",
   "mimetype": "text/x-python",
   "name": "python",
   "nbconvert_exporter": "python",
   "pygments_lexer": "ipython3",
   "version": "3.10.13"
  }
 },
 "nbformat": 4,
 "nbformat_minor": 4
}
