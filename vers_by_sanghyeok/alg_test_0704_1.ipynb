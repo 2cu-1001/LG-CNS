{
 "cells": [
  {
   "cell_type": "code",
   "execution_count": 8,
   "metadata": {},
   "outputs": [
    {
     "name": "stdout",
     "output_type": "stream",
     "text": [
      "The autoreload extension is already loaded. To reload it, use:\n",
      "  %reload_ext autoreload\n"
     ]
    }
   ],
   "source": [
    "%load_ext autoreload\n",
    "%autoreload 2\n",
    "\n",
    "from util_0704 import *\n",
    "from myalgorithm_0704_1 import algorithm\n",
    "\n",
    "import statsmodels.api as sm\n",
    "import pandas as pd"
   ]
  },
  {
   "cell_type": "markdown",
   "metadata": {},
   "source": [
    "- 실험해볼 내용들\n",
    "\n",
    "1. 좌표간 거리 계산에 유클리드 거리 대신에 민코프스키 거리를 사용하면 어떨까?"
   ]
  },
  {
   "cell_type": "markdown",
   "metadata": {},
   "source": [
    "## 기본 코드"
   ]
  },
  {
   "cell_type": "code",
   "execution_count": 7,
   "metadata": {},
   "outputs": [],
   "source": [
    "problem_file = '../alg_test_problems_20240429/TEST_K100_1.json'"
   ]
  },
  {
   "cell_type": "code",
   "execution_count": 74,
   "metadata": {},
   "outputs": [],
   "source": [
    "with open(problem_file, 'r') as f:\n",
    "    prob = json.load(f)\n",
    "\n",
    "K = prob['K']\n",
    "\n",
    "ALL_ORDERS = [Order(order_info) for order_info in prob['ORDERS']]\n",
    "ALL_RIDERS = [Rider(rider_info) for rider_info in prob['RIDERS']]\n",
    "\n",
    "DIST = np.array(prob['DIST'])\n",
    "for r in ALL_RIDERS:\n",
    "    r.T = np.round(DIST/r.speed + r.service_time).astype(int)"
   ]
  },
  {
   "cell_type": "markdown",
   "metadata": {},
   "source": [
    "### 기존 유클리드 거리를 이용한 단순선형회귀분석"
   ]
  },
  {
   "cell_type": "code",
   "execution_count": 75,
   "metadata": {},
   "outputs": [
    {
     "name": "stdout",
     "output_type": "stream",
     "text": [
      "0.9931478352343887\n"
     ]
    }
   ],
   "source": [
    "X2 = []\n",
    "y = []\n",
    "for i in range(K):\n",
    "    for j in range(i + 1, K):\n",
    "        x1 = ALL_ORDERS[i].shop_lat\n",
    "        y1 = ALL_ORDERS[i].shop_lon\n",
    "\n",
    "        x2 = ALL_ORDERS[j].shop_lat\n",
    "        y2 = ALL_ORDERS[j].shop_lon\n",
    "\n",
    "        dist = DIST[i][j]\n",
    "\n",
    "        diff1 = abs(x1 - x2)\n",
    "        diff2 = abs(y1 - y2)\n",
    "\n",
    "        X2.append((diff1 ** 2 + diff2 ** 2) ** (1/2) * 125950)\n",
    "        y.append(dist)\n",
    "\n",
    "X = pd.DataFrame({'X_value': X2})\n",
    "\n",
    "X = sm.add_constant(X)\n",
    "model = sm.OLS(y, X)\n",
    "result = model.fit()\n",
    "\n",
    "print(result.rsquared)"
   ]
  },
  {
   "cell_type": "markdown",
   "metadata": {},
   "source": [
    "### 민코프스키 거리를 이용한 단순선형회귀분석"
   ]
  },
  {
   "cell_type": "code",
   "execution_count": 76,
   "metadata": {},
   "outputs": [
    {
     "name": "stdout",
     "output_type": "stream",
     "text": [
      "1.6: 0.994766479718545\n"
     ]
    }
   ],
   "source": [
    "w = 1.6\n",
    "\n",
    "X2 = []\n",
    "X4 = []\n",
    "y = []\n",
    "for i in range(K):\n",
    "    for j in range(i + 1, K):\n",
    "        x1 = ALL_ORDERS[i].shop_lat\n",
    "        y1 = ALL_ORDERS[i].shop_lon\n",
    "\n",
    "        x2 = ALL_ORDERS[j].shop_lat\n",
    "        y2 = ALL_ORDERS[j].shop_lon\n",
    "\n",
    "        dist = DIST[i][j]\n",
    "\n",
    "        X4.append(get_minkowski_dist_by_coords(x1, y1, x2, y2, w))\n",
    "        y.append(dist)\n",
    "\n",
    "X = pd.DataFrame({'X_value': X4})\n",
    "\n",
    "X = sm.add_constant(X)\n",
    "model = sm.OLS(y, X)\n",
    "result = model.fit()\n",
    "\n",
    "print(f'{w}: {result.rsquared}')"
   ]
  },
  {
   "cell_type": "markdown",
   "metadata": {},
   "source": [
    "#### 가중치 그리드 탐색"
   ]
  },
  {
   "cell_type": "code",
   "execution_count": 68,
   "metadata": {},
   "outputs": [
    {
     "name": "stdout",
     "output_type": "stream",
     "text": [
      "1.611 0.9947686632169045\n"
     ]
    }
   ],
   "source": [
    "max_rsquared = -1\n",
    "max_rsquared_w = -1\n",
    "for w in range(1500, 1700):\n",
    "    w /= 1000\n",
    "    X2 = []\n",
    "    X4 = []\n",
    "    y = []\n",
    "    for i in range(K):\n",
    "        for j in range(i + 1, K):\n",
    "            x1 = ALL_ORDERS[i].shop_lat\n",
    "            y1 = ALL_ORDERS[i].shop_lon\n",
    "\n",
    "            x2 = ALL_ORDERS[j].shop_lat\n",
    "            y2 = ALL_ORDERS[j].shop_lon\n",
    "\n",
    "            dist = DIST[i][j]\n",
    "\n",
    "            X4.append(get_minkowski_dist_by_coords(x1, y1, x2, y2, w))\n",
    "            y.append(dist)\n",
    "\n",
    "    X = pd.DataFrame({'X_value': X4})\n",
    "\n",
    "    X = sm.add_constant(X)\n",
    "    model = sm.OLS(y, X)\n",
    "    result = model.fit()\n",
    "\n",
    "    # print(f'{w}: {result.rsquared}')\n",
    "\n",
    "    if result.rsquared > max_rsquared:\n",
    "        max_rsquared = result.rsquared\n",
    "        max_rsquared_w = w\n",
    "\n",
    "print(max_rsquared_w, max_rsquared)"
   ]
  },
  {
   "cell_type": "markdown",
   "metadata": {},
   "source": [
    "### 철화 제출본 확인"
   ]
  },
  {
   "cell_type": "code",
   "execution_count": 1,
   "metadata": {},
   "outputs": [],
   "source": [
    "from util_0704_ch import *\n",
    "from myalgorithm_0704_ch import algorithm"
   ]
  },
  {
   "cell_type": "code",
   "execution_count": 4,
   "metadata": {},
   "outputs": [],
   "source": [
    "problem_file = '../alg_test_problems_20240429/TEST_K100_2.json'\n",
    "\n",
    "timelimit = 60\n",
    "\n",
    "with open(problem_file, 'r') as f:\n",
    "    prob = json.load(f)\n",
    "\n",
    "K = prob['K']\n",
    "\n",
    "ALL_ORDERS = [Order(order_info) for order_info in prob['ORDERS']]\n",
    "ALL_RIDERS = [Rider(rider_info) for rider_info in prob['RIDERS']]\n",
    "\n",
    "DIST = np.array(prob['DIST'])\n",
    "\n",
    "solution = algorithm(K, ALL_ORDERS, ALL_RIDERS, DIST, timelimit)"
   ]
  }
 ],
 "metadata": {
  "kernelspec": {
   "display_name": "Python 3 (ipykernel)",
   "language": "python",
   "name": "python3"
  },
  "language_info": {
   "codemirror_mode": {
    "name": "ipython",
    "version": 3
   },
   "file_extension": ".py",
   "mimetype": "text/x-python",
   "name": "python",
   "nbconvert_exporter": "python",
   "pygments_lexer": "ipython3",
   "version": "3.10.13"
  }
 },
 "nbformat": 4,
 "nbformat_minor": 4
}
