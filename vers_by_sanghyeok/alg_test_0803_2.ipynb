{
 "cells": [
  {
   "cell_type": "code",
   "execution_count": 8,
   "metadata": {},
   "outputs": [
    {
     "name": "stdout",
     "output_type": "stream",
     "text": [
      "The autoreload extension is already loaded. To reload it, use:\n",
      "  %reload_ext autoreload\n"
     ]
    }
   ],
   "source": [
    "%load_ext autoreload\n",
    "%autoreload 2\n",
    "\n",
    "from util_0803_2 import *\n",
    "# from myalgorithm_0803_1 import algorithm\n",
    "\n",
    "import pandas as pd"
   ]
  },
  {
   "cell_type": "markdown",
   "metadata": {},
   "source": [
    "## 실험 내용\n",
    "- set을 이용해서 이미 불가능하다고 판단된 주문의 조합은 다시 확인하지 않기"
   ]
  },
  {
   "cell_type": "code",
   "execution_count": 46,
   "metadata": {},
   "outputs": [
    {
     "name": "stdout",
     "output_type": "stream",
     "text": [
      "0.33060336112976074 4412.215499999999\n",
      "0.22144246101379395 4337.919499999999\n",
      "0.13155817985534668 4370.759999999999\n",
      "0.13666749000549316 4389.153499999999\n",
      "0.09215426445007324 4457.306\n",
      "0.13454985618591309 4476.911\n",
      "0.31107449531555176 4551.579999999999\n",
      "0.22564411163330078 4633.433999999999\n",
      "0.20778274536132812 4731.247\n"
     ]
    }
   ],
   "source": [
    "problem_file = r'C:\\Users\\hsh80\\Desktop\\LG CNS\\stage1_problems\\STAGE1_15.json'\n",
    "# problem_file = '../alg_test_problems_20240429/TEST_K200_1.json'\n",
    "\n",
    "testcase_name = problem_file.split('\\\\')[-1].split('.')[0]\n",
    "\n",
    "start_time = time.time()\n",
    "\n",
    "## ------------------- 기본 변수 할당 ---------------------------\n",
    "\n",
    "with open(problem_file, 'r') as f:\n",
    "    prob = json.load(f)\n",
    "\n",
    "K = prob['K']\n",
    "\n",
    "ALL_ORDERS = [Order(order_info) for order_info in prob['ORDERS']]\n",
    "ALL_RIDERS = [Rider(rider_info) for rider_info in prob['RIDERS']]\n",
    "\n",
    "DIST = np.array(prob['DIST'])\n",
    "for r in ALL_RIDERS:\n",
    "    r.T = np.round(DIST/r.speed + r.service_time).astype(int)\n",
    "\n",
    "inf = float('inf')\n",
    "\n",
    "timelimit = 60\n",
    "\n",
    "## ------------------- 초기 상태 할당 코드 -------------------------\n",
    "\n",
    "with open(problem_file, 'r') as f:\n",
    "    prob = json.load(f)\n",
    "\n",
    "K = prob['K']\n",
    "\n",
    "ALL_ORDERS = [Order(order_info) for order_info in prob['ORDERS']]\n",
    "ALL_RIDERS = [Rider(rider_info) for rider_info in prob['RIDERS']]\n",
    "\n",
    "DIST = np.array(prob['DIST'])\n",
    "for r in ALL_RIDERS:\n",
    "    r.T = np.round(DIST/r.speed + r.service_time).astype(int)\n",
    "\n",
    "inf = float('inf')\n",
    "\n",
    "car_rider = [rider for rider in ALL_RIDERS if rider.type == 'CAR'][0]\n",
    "bike_rider = [rider for rider in ALL_RIDERS if rider.type == 'BIKE'][0]\n",
    "walk_rider = [rider for rider in ALL_RIDERS if rider.type == 'WALK'][0]\n",
    "\n",
    "init_availables = [rider.available_number for rider in ALL_RIDERS]\n",
    "\n",
    "all_bundles = []\n",
    "for ord in ALL_ORDERS:\n",
    "    new_bundle = Bundle(ALL_ORDERS, car_rider, [ord.id], [ord.id], ord.volume, DIST[ord.id, ord.id+K])\n",
    "    car_rider.available_number -= 1\n",
    "    all_bundles.append(new_bundle)\n",
    "\n",
    "## ------------------  주문 조합 가능성 행렬 제작하기 -----------------------------\n",
    "\n",
    "order_comb_possibility = [[True] * K for _ in range(K)]\n",
    "\n",
    "for i in range(len(all_bundles)):\n",
    "    for j in range(i + 1, len(all_bundles)):\n",
    "        bundle1 = all_bundles[i]\n",
    "        bundle2 = all_bundles[j]\n",
    "\n",
    "        order_num1 = bundle1.shop_seq[0]\n",
    "        order_num2 = bundle2.shop_seq[0]\n",
    "\n",
    "        ip = try_merging_bundles_by_dist(K, DIST, ALL_ORDERS, ALL_RIDERS, bundle1, bundle2)\n",
    "\n",
    "        if not ip:\n",
    "            order_comb_possibility[order_num1][order_num2] = False\n",
    "            order_comb_possibility[order_num2][order_num1] = False\n",
    "\n",
    "impossible_order_comb_st = set()\n",
    "\n",
    "min_init_cost = inf\n",
    "min_init_cost_bundles = []\n",
    "min_init_cost_rider_availables = []\n",
    "\n",
    "weight_grid = [(1, -1), (1, -1.5), (1, -2), (1, -2.5), (1, -3), (1, -3.5), (0.5, 1), (0.5, 2), (0.5, 3)]\n",
    "\n",
    "temp_process_time = -1\n",
    "for weight1, weight2 in weight_grid:\n",
    "    cur_time = time.time()\n",
    "\n",
    "    if cur_time - start_time > 30:\n",
    "        break\n",
    "\n",
    "    temp_start_time = time.time()\n",
    "\n",
    "    bundles, result_rider_availables, cost = get_init_bundle_4_order_bundle_prefered_with_reassigning_riders(\n",
    "            K, ALL_RIDERS, ALL_ORDERS, DIST, init_availables, weight1, weight2, order_comb_possibility, impossible_order_comb_st)\n",
    "    temp_end_time = time.time()\n",
    "\n",
    "    temp_process_time = temp_end_time - temp_start_time\n",
    "\n",
    "    print(temp_process_time, cost)\n",
    "\n",
    "    if cost < min_init_cost:\n",
    "        min_init_cost = cost\n",
    "        min_init_cost_bundles = bundles\n",
    "        min_init_cost_rider_availables = result_rider_availables"
   ]
  },
  {
   "cell_type": "code",
   "execution_count": null,
   "metadata": {},
   "outputs": [],
   "source": [
    "# 기본\n",
    "0.34907984733581543 4412.215499999999\n",
    "0.3235352039337158 4346.513999999999\n",
    "0.33890724182128906 4390.8944999999985\n",
    "0.3010122776031494 4406.860499999999\n",
    "0.2786216735839844 4454.075499999999\n",
    "0.3336360454559326 4468.93\n",
    "0.355849027633667 4559.7435\n",
    "0.3375818729400635 4629.9145\n",
    "0.3975405693054199 4618.075999999999\n",
    "\n",
    "# 불가능한 셋 확인\n",
    "0.3295269012451172 4412.215499999999\n",
    "0.21972107887268066 4337.919499999999\n",
    "0.13394522666931152 4370.759999999999\n",
    "0.1391456127166748 4389.153499999999\n",
    "0.09472036361694336 4457.306\n",
    "0.1281287670135498 4476.911\n",
    "0.298184871673584 4551.579999999999\n",
    "0.2136082649230957 4633.433999999999\n",
    "0.19490742683410645 4731.247\n",
    "\n",
    "# reduced 불가능한 셋 확인\n",
    "0.3341975212097168 4412.215499999999\n",
    "0.2240755558013916 4337.919499999999\n",
    "0.13451886177062988 4370.759999999999\n",
    "0.14487600326538086 4389.153499999999\n",
    "0.09656453132629395 4457.306\n",
    "0.1391897201538086 4476.911\n",
    "0.29976511001586914 4551.579999999999\n",
    "0.21927976608276367 4633.433999999999\n",
    "0.20402121543884277 4731.247\n",
    "\n"
   ]
  },
  {
   "cell_type": "markdown",
   "metadata": {},
   "source": [
    "> 확인 결과 차원 압축을 굳이 할 필요 없을 수도 있음"
   ]
  },
  {
   "cell_type": "code",
   "execution_count": 42,
   "metadata": {},
   "outputs": [
    {
     "data": {
      "text/plain": [
       "1003"
      ]
     },
     "execution_count": 42,
     "metadata": {},
     "output_type": "execute_result"
    }
   ],
   "source": [
    "def reduce_dimension(sorted_orders):\n",
    "    cur_w = 1\n",
    "\n",
    "    reduced_value = 0\n",
    "    for v in sorted_orders:\n",
    "        to_add = (v + 1) * cur_w\n",
    "        reduced_value += to_add\n",
    "\n",
    "        cur_w *= 500\n",
    "\n",
    "    return reduced_value\n",
    "\n",
    "reduce_dimension((2, 1))"
   ]
  }
 ],
 "metadata": {
  "kernelspec": {
   "display_name": "Python 3 (ipykernel)",
   "language": "python",
   "name": "python3"
  },
  "language_info": {
   "codemirror_mode": {
    "name": "ipython",
    "version": 3
   },
   "file_extension": ".py",
   "mimetype": "text/x-python",
   "name": "python",
   "nbconvert_exporter": "python",
   "pygments_lexer": "ipython3",
   "version": "3.10.13"
  }
 },
 "nbformat": 4,
 "nbformat_minor": 4
}
