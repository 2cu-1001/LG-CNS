{
 "cells": [
  {
   "cell_type": "code",
   "execution_count": 9,
   "metadata": {},
   "outputs": [
    {
     "name": "stdout",
     "output_type": "stream",
     "text": [
      "The autoreload extension is already loaded. To reload it, use:\n",
      "  %reload_ext autoreload\n"
     ]
    }
   ],
   "source": [
    "%load_ext autoreload\n",
    "%autoreload 2\n",
    "\n",
    "from util_0803_6 import *\n",
    "from myalgorithm_0803_3 import algorithm\n",
    "\n",
    "import pandas as pd"
   ]
  },
  {
   "cell_type": "markdown",
   "metadata": {},
   "source": [
    "## 실험 내용\n",
    "1. 크루스칼 정렬 후 랜덤하게 원소 위치를 바꿔보는 방식 사용해봄 -> 개선 잘 안됨\n",
    "2. 타임 윈도우 길이를 가중치로 추가함"
   ]
  },
  {
   "cell_type": "code",
   "execution_count": 19,
   "metadata": {},
   "outputs": [
    {
     "name": "stdout",
     "output_type": "stream",
     "text": [
      "TEST_K50_1 50 560 3625.0180000000005 (1, 0.5, -0.5, -1)\n",
      "TEST_K50_2 50 560 4039.322 (1, 1.5, 0, 2)\n",
      "TEST_K100_1 100 560 3460.855 (1, 1.0, -2.5, 0)\n",
      "TEST_K100_2 100 560 3623.4959999999996 (1, 0.5, -0.5, 0)\n",
      "TEST_K200_1 200 200 3286.1219999999994 (2, 0.5, -1.5, 0)\n",
      "TEST_K200_2 200 212 3247.8145 (1, 0.5, 0, 0)\n",
      "STAGE1_1 100 560 3752.5100000000007 (1, 0.5, 0, 0)\n",
      "STAGE1_2 100 560 3348.8740000000003 (1, 0.5, 0, 0)\n",
      "STAGE1_3 200 242 3056.2244999999994 (1, 0.5, 0, 0)\n",
      "STAGE1_4 200 210 2671.975999999999 (1, 0.5, 0, -1)\n",
      "STAGE1_5 300 80 2328.6326666666673 (1, 1.0, -2.0, 0)\n",
      "STAGE1_6 300 92 2511.2366666666658 (2, 0.5, 0, 1)\n",
      "STAGE1_7 100 560 3453.1779999999994 (2, 0.5, 0, -1)\n",
      "STAGE1_8 100 560 3214.8680000000004 (2, 0.5, 0, 0)\n",
      "STAGE1_9 200 230 3108.9205000000006 (1, 0.5, -2.5, -1)\n",
      "STAGE1_10 200 242 2575.7125 (2, 0.5, -1.0, 1)\n",
      "STAGE1_11 300 74 2496.8259999999996 (1, 0.5, 0, 0)\n",
      "STAGE1_12 300 108 2494.525666666667 (2, 0.5, -1.0, 1)\n",
      "STAGE1_13 100 560 4951.565999999999 (2, 0.5, -3.0, 1)\n",
      "STAGE1_14 100 560 4178.7519999999995 (2, 0.5, 0, 0)\n",
      "STAGE1_15 200 560 4325.002999999999 (1, 1.5, -2.0, 2)\n",
      "STAGE1_16 200 302 3344.079499999999 (1, 1.0, -1.5, 0)\n",
      "STAGE1_17 300 248 3513.7473333333323 (1, 1.0, -2.0, 0)\n",
      "STAGE1_18 300 122 3604.397666666666 (2, 0.5, -1.5, 1)\n"
     ]
    }
   ],
   "source": [
    "# 기본 데이터셋 추가\n",
    "data_sizes = [50, 100, 200]\n",
    "problem_files = []\n",
    "for data_size in data_sizes:\n",
    "    problem_files.append(fr'C:\\Users\\hsh80\\Desktop\\LG CNS\\alg_test_problems_20240429\\TEST_K{data_size}_1.json')\n",
    "    problem_files.append(fr'C:\\Users\\hsh80\\Desktop\\LG CNS\\alg_test_problems_20240429\\TEST_K{data_size}_2.json')\n",
    "\n",
    "# stage 데이터 추가\n",
    "for file_num in range(1, 19):\n",
    "    problem_file = fr'C:\\Users\\hsh80\\Desktop\\LG CNS\\stage1_problems\\STAGE1_{file_num}.json'\n",
    "\n",
    "    problem_files.append(problem_file)\n",
    "\n",
    "for problem_file in problem_files:\n",
    "    testcase_name = problem_file.split('\\\\')[-1].split('.')[0]\n",
    "\n",
    "    ## ------------------- 기본 변수 할당 ---------------------------\n",
    "\n",
    "    with open(problem_file, 'r') as f:\n",
    "        prob = json.load(f)\n",
    "\n",
    "    K = prob['K']\n",
    "\n",
    "    ALL_ORDERS = [Order(order_info) for order_info in prob['ORDERS']]\n",
    "    ALL_RIDERS = [Rider(rider_info) for rider_info in prob['RIDERS']]\n",
    "\n",
    "    DIST = np.array(prob['DIST'])\n",
    "    for r in ALL_RIDERS:\n",
    "        r.T = np.round(DIST/r.speed + r.service_time).astype(int)\n",
    "\n",
    "    inf = float('inf')\n",
    "\n",
    "    timelimit = 60\n",
    "\n",
    "    ## --------------------- 커스텀 코드 시작 ---------------------------\n",
    "\n",
    "    processed_weight_comb_c, min_init_cost, min_weight_comb = algorithm(K, ALL_ORDERS, ALL_RIDERS, DIST, timelimit)\n",
    "\n",
    "    print(testcase_name, K, processed_weight_comb_c, min_init_cost, min_weight_comb)"
   ]
  },
  {
   "cell_type": "raw",
   "metadata": {
    "vscode": {
     "languageId": "raw"
    }
   },
   "source": [
    "크루스칼 내 랜덤 이동 결과\n",
    "TEST_K50_1 50 70 3687.922 (2, 1.0, -1.0)\n",
    "TEST_K50_2 50 70 4060.742 (2, 1.0, 0)\n",
    "TEST_K100_1 100 70 3537.0560000000005 (1, 1.5, -3.0)\n",
    "TEST_K100_2 100 70 3654.8740000000003 (1, 0.5, -2.5)\n",
    "TEST_K200_1 200 70 3330.105 (2, 0.5, -1.5)\n",
    "TEST_K200_2 200 70 3243.8319999999994 (1, 0.5, 0)\n",
    "STAGE1_1 100 70 3747.8720000000003 (1, 0.5, 0)\n",
    "STAGE1_2 100 70 3405.162000000001 (1, 1.0, -2.5)\n",
    "STAGE1_3 200 70 3102.0795000000003 (2, 0.5, -0.5)"
   ]
  }
 ],
 "metadata": {
  "kernelspec": {
   "display_name": "Python 3 (ipykernel)",
   "language": "python",
   "name": "python3"
  },
  "language_info": {
   "codemirror_mode": {
    "name": "ipython",
    "version": 3
   },
   "file_extension": ".py",
   "mimetype": "text/x-python",
   "name": "python",
   "nbconvert_exporter": "python",
   "pygments_lexer": "ipython3",
   "version": "3.10.13"
  }
 },
 "nbformat": 4,
 "nbformat_minor": 4
}
