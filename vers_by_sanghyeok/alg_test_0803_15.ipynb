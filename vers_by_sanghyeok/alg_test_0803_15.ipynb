{
 "cells": [
  {
   "cell_type": "code",
   "execution_count": 1,
   "metadata": {},
   "outputs": [],
   "source": [
    "%load_ext autoreload\n",
    "%autoreload 2\n",
    "\n",
    "from util_0803_9 import *\n",
    "\n",
    "import pandas as pd"
   ]
  },
  {
   "cell_type": "markdown",
   "metadata": {},
   "source": [
    "## 실험 내용\n",
    "1. 5주문 번들 가능 여부 테스트"
   ]
  },
  {
   "cell_type": "markdown",
   "metadata": {},
   "source": [
    "### get_init 일반 함수를 이용한 5주문 번들 가능 여부 테스트"
   ]
  },
  {
   "cell_type": "code",
   "execution_count": 33,
   "metadata": {},
   "outputs": [
    {
     "name": "stdout",
     "output_type": "stream",
     "text": [
      "The autoreload extension is already loaded. To reload it, use:\n",
      "  %reload_ext autoreload\n",
      "1 -3 3378.3519999999994\n",
      "1 -1 3240.2880000000005\n",
      "0 -0.5 3457.323\n"
     ]
    }
   ],
   "source": [
    "%load_ext autoreload\n",
    "%autoreload 2\n",
    "\n",
    "from util_0803_9 import *\n",
    "\n",
    "problem_file = r'C:\\Users\\hsh80\\Desktop\\LG CNS\\stage1_problems\\STAGE1_8.json'\n",
    "# problem_file = r'C:\\Users\\hsh80\\Desktop\\LG CNS\\alg_test_problems_20240429\\TEST_K50_1.json'\n",
    "\n",
    "## ------------------- 기본 변수 할당 ---------------------------\n",
    "\n",
    "with open(problem_file, 'r') as f:\n",
    "    prob = json.load(f)\n",
    "\n",
    "K = prob['K']\n",
    "\n",
    "ALL_ORDERS = [Order(order_info) for order_info in prob['ORDERS']]\n",
    "ALL_RIDERS = [Rider(rider_info) for rider_info in prob['RIDERS']]\n",
    "\n",
    "DIST = np.array(prob['DIST'])\n",
    "for r in ALL_RIDERS:\n",
    "    r.T = np.round(DIST/r.speed + r.service_time).astype(int)\n",
    "\n",
    "inf = float('inf')\n",
    "\n",
    "timelimit = 60\n",
    "\n",
    "## ------------------- 초기 상태 할당 코드 -------------------------\n",
    "\n",
    "car_rider = [rider for rider in ALL_RIDERS if rider.type == 'CAR'][0]\n",
    "bike_rider = [rider for rider in ALL_RIDERS if rider.type == 'BIKE'][0]\n",
    "walk_rider = [rider for rider in ALL_RIDERS if rider.type == 'WALK'][0]\n",
    "\n",
    "init_availables = [rider.available_number for rider in ALL_RIDERS]\n",
    "\n",
    "all_bundles = []\n",
    "for ord in ALL_ORDERS:\n",
    "    new_bundle = Bundle(ALL_ORDERS, car_rider, [ord.id], [ord.id], ord.volume, DIST[ord.id, ord.id+K])\n",
    "    car_rider.available_number -= 1\n",
    "    all_bundles.append(new_bundle)\n",
    "\n",
    "## ------------------  주문 조합 가능성 행렬 제작하기 -----------------------------\n",
    "\n",
    "order_comb_possibility = [[True] * K for _ in range(K)]\n",
    "\n",
    "for i in range(len(all_bundles)):\n",
    "    for j in range(i + 1, len(all_bundles)):\n",
    "        bundle1 = all_bundles[i]\n",
    "        bundle2 = all_bundles[j]\n",
    "\n",
    "        order_num1 = bundle1.shop_seq[0]\n",
    "        order_num2 = bundle2.shop_seq[0]\n",
    "\n",
    "        ip = try_merging_bundles_by_dist(K, DIST, ALL_ORDERS, ALL_RIDERS, bundle1, bundle2)\n",
    "\n",
    "        if not ip:\n",
    "            order_comb_possibility[order_num1][order_num2] = False\n",
    "            order_comb_possibility[order_num2][order_num1] = False\n",
    "\n",
    "optimized_order_perms = [dict(), dict(), dict()] # optimized_order_perms[rider_i] = {orders_sorted: 최적 번들}\n",
    "\n",
    "min_init_cost = inf\n",
    "min_init_cost_bundles = []\n",
    "min_init_cost_rider_availables = []\n",
    "\n",
    "weight_grid = [(1, -3, 0), (1, -1, 0), (0, -0.5, 0)]\n",
    "temp_process_time = -1\n",
    "for weight1, weight2, weight3 in weight_grid:\n",
    "    bundles, result_rider_availables, cost = get_init_bundle(K, ALL_RIDERS, ALL_ORDERS, DIST, init_availables, weight1, weight2, weight3, try_merging_bundles_by_dist_possibles_only, order_comb_possibility, optimized_order_perms, False, 5)\n",
    "\n",
    "    bundles, result_rider_availables = reassign_riders(K, ALL_ORDERS, ALL_RIDERS, DIST, init_availables, bundles)\n",
    "    cost = sum((bundle.cost for bundle in bundles)) / K\n",
    "\n",
    "    if cost < min_init_cost:\n",
    "        min_init_cost = cost\n",
    "        min_init_cost_bundles = bundles\n",
    "        min_init_cost_rider_availables = result_rider_availables\n",
    "\n",
    "    print(weight1, weight2, cost)"
   ]
  },
  {
   "cell_type": "code",
   "execution_count": null,
   "metadata": {},
   "outputs": [],
   "source": [
    "1 -1 2850.1386666666663\n",
    "1 -1.5 2807.6073333333334"
   ]
  },
  {
   "cell_type": "code",
   "execution_count": 34,
   "metadata": {},
   "outputs": [
    {
     "data": {
      "text/plain": [
       "[Bundle(all_orders, BIKE, [1, 12, 0, 22], [12, 22, 0, 1], 60, True),\n",
       " Bundle(all_orders, BIKE, [3, 16, 11, 46], [11, 3, 16, 46], 77, True),\n",
       " Bundle(all_orders, CAR, [5, 9, 14, 43], [43, 5, 9, 14], 108, True),\n",
       " Bundle(all_orders, CAR, [6, 26, 35], [26, 35, 6], 110, True),\n",
       " Bundle(all_orders, BIKE, [49, 7, 39, 20], [7, 39, 20, 49], 84, True),\n",
       " Bundle(all_orders, BIKE, [8, 32, 54, 36, 47], [32, 36, 8, 54, 47], 99, True),\n",
       " Bundle(all_orders, CAR, [21, 10, 18, 44, 51], [10, 21, 18, 51, 44], 110, True),\n",
       " Bundle(all_orders, CAR, [58, 13, 72], [58, 13, 72], 165, True),\n",
       " Bundle(all_orders, BIKE, [59, 70, 79, 15], [59, 15, 70, 79], 81, True),\n",
       " Bundle(all_orders, CAR, [19], [19], 26, True),\n",
       " Bundle(all_orders, BIKE, [61, 23, 27, 66, 55], [23, 66, 27, 61, 55], 86, True),\n",
       " Bundle(all_orders, BIKE, [24, 62, 67, 80], [62, 80, 67, 24], 91, True),\n",
       " Bundle(all_orders, CAR, [25], [25], 26, True),\n",
       " Bundle(all_orders, BIKE, [52, 29, 30, 71], [71, 52, 30, 29], 99, True),\n",
       " Bundle(all_orders, CAR, [31, 63, 64, 81, 78], [31, 64, 63, 78, 81], 145, True),\n",
       " Bundle(all_orders, CAR, [57, 42, 68, 33], [57, 33, 68, 42], 104, True),\n",
       " Bundle(all_orders, CAR, [34, 82, 50], [50, 82, 34], 112, True),\n",
       " Bundle(all_orders, CAR, [53, 84, 76, 93], [53, 76, 84, 93], 109, True),\n",
       " Bundle(all_orders, CAR, [60, 73, 65, 74, 85], [65, 60, 73, 85, 74], 165, True),\n",
       " Bundle(all_orders, CAR, [77, 69], [77, 69], 59, True),\n",
       " Bundle(all_orders, CAR, [88, 83, 89], [83, 89, 88], 167, True),\n",
       " Bundle(all_orders, CAR, [99, 87, 91, 94], [91, 94, 87, 99], 102, True),\n",
       " Bundle(all_orders, CAR, [95, 90], [95, 90], 71, True),\n",
       " Bundle(all_orders, CAR, [96], [96], 46, True),\n",
       " Bundle(all_orders, BIKE, [86, 75], [75, 86], 63, True),\n",
       " Bundle(all_orders, BIKE, [4, 40, 2], [2, 4, 40], 53, True),\n",
       " Bundle(all_orders, BIKE, [41, 38, 48, 56], [48, 56, 38, 41], 98, True),\n",
       " Bundle(all_orders, BIKE, [45, 17, 28, 37], [37, 17, 28, 45], 96, True),\n",
       " Bundle(all_orders, BIKE, [92, 97, 98], [97, 98, 92], 66, True)]"
      ]
     },
     "execution_count": 34,
     "metadata": {},
     "output_type": "execute_result"
    }
   ],
   "source": [
    "min_init_cost_bundles"
   ]
  }
 ],
 "metadata": {
  "kernelspec": {
   "display_name": "Python 3 (ipykernel)",
   "language": "python",
   "name": "python3"
  },
  "language_info": {
   "codemirror_mode": {
    "name": "ipython",
    "version": 3
   },
   "file_extension": ".py",
   "mimetype": "text/x-python",
   "name": "python",
   "nbconvert_exporter": "python",
   "pygments_lexer": "ipython3",
   "version": "3.10.13"
  }
 },
 "nbformat": 4,
 "nbformat_minor": 4
}
