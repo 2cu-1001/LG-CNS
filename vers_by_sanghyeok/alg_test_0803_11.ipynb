{
 "cells": [
  {
   "cell_type": "code",
   "execution_count": 26,
   "metadata": {},
   "outputs": [
    {
     "name": "stdout",
     "output_type": "stream",
     "text": [
      "The autoreload extension is already loaded. To reload it, use:\n",
      "  %reload_ext autoreload\n"
     ]
    }
   ],
   "source": [
    "%load_ext autoreload\n",
    "%autoreload 2\n",
    "\n",
    "from util_0803_9 import *\n",
    "from myalgorithm_0803_7 import algorithm\n",
    "\n",
    "import pandas as pd"
   ]
  },
  {
   "cell_type": "markdown",
   "metadata": {},
   "source": [
    "## 실험 내용\n",
    "1. 크루스칼에 랜덤 가중치 부여"
   ]
  },
  {
   "cell_type": "markdown",
   "metadata": {},
   "source": [
    "### 데이터셋 하나 실험"
   ]
  },
  {
   "cell_type": "code",
   "execution_count": 24,
   "metadata": {},
   "outputs": [
    {
     "name": "stdout",
     "output_type": "stream",
     "text": [
      "start 3056.2244999999994\n",
      "changed 3050.4390000000003\n",
      "changed 3003.7234999999996\n",
      "3003.7234999999996\n"
     ]
    }
   ],
   "source": [
    "problem_file = fr'C:\\Users\\hsh80\\Desktop\\LG CNS\\stage1_problems\\STAGE1_3.json'\n",
    "testcase_name = problem_file.split('\\\\')[-1].split('.')[0]\n",
    "\n",
    "## ------------------- 기본 변수 할당 ---------------------------\n",
    "\n",
    "with open(problem_file, 'r') as f:\n",
    "    prob = json.load(f)\n",
    "\n",
    "K = prob['K']\n",
    "\n",
    "ALL_ORDERS = [Order(order_info) for order_info in prob['ORDERS']]\n",
    "ALL_RIDERS = [Rider(rider_info) for rider_info in prob['RIDERS']]\n",
    "\n",
    "DIST = np.array(prob['DIST'])\n",
    "for r in ALL_RIDERS:\n",
    "    r.T = np.round(DIST/r.speed + r.service_time).astype(int)\n",
    "\n",
    "inf = float('inf')\n",
    "\n",
    "timelimit = 60\n",
    "\n",
    "## --------------------- 커스텀 코드 시작 ---------------------------\n",
    "\n",
    "solution = algorithm(K, ALL_ORDERS, ALL_RIDERS, DIST, timelimit)\n",
    "\n",
    "with open(problem_file, 'r') as f:\n",
    "    prob = json.load(f)\n",
    "\n",
    "K = prob['K']\n",
    "\n",
    "ALL_ORDERS = [Order(order_info) for order_info in prob['ORDERS']]\n",
    "ALL_RIDERS = [Rider(rider_info) for rider_info in prob['RIDERS']]\n",
    "\n",
    "DIST = np.array(prob['DIST'])\n",
    "for r in ALL_RIDERS:\n",
    "    r.T = np.round(DIST/r.speed + r.service_time).astype(int)\n",
    "\n",
    "checked_solution = solution_check(K, ALL_ORDERS, ALL_RIDERS, DIST, solution)\n",
    "\n",
    "print(checked_solution['avg_cost'])"
   ]
  },
  {
   "cell_type": "markdown",
   "metadata": {},
   "source": [
    "### 모든 데이터셋 실험"
   ]
  },
  {
   "cell_type": "code",
   "execution_count": 30,
   "metadata": {},
   "outputs": [
    {
     "name": "stdout",
     "output_type": "stream",
     "text": [
      "TEST_K50_1 55.92113709449768 3632.4660000000003\n",
      "TEST_K50_2 55.91663575172424 4012.552\n",
      "TEST_K100_1 55.98682737350464 3460.855\n",
      "TEST_K100_2 55.898651361465454 3520.6089999999995\n",
      "TEST_K200_1 55.91668367385864 3297.2024999999994\n",
      "TEST_K200_2 56.059531450271606 3155.9004999999997\n",
      "STAGE1_1 56.00565767288208 3655.5640000000003\n",
      "STAGE1_2 55.78038167953491 3272.5959999999995\n",
      "STAGE1_3 56.016048431396484 2977.064\n",
      "STAGE1_4 56.117464542388916 2643.8094999999994\n",
      "STAGE1_5 56.38641953468323 2286.3113333333336\n",
      "STAGE1_6 56.29190182685852 2478.699666666666\n",
      "STAGE1_7 55.910056829452515 3383.7860000000005\n",
      "STAGE1_8 56.02573609352112 3140.3720000000003\n",
      "STAGE1_9 56.066262006759644 3065.865\n",
      "STAGE1_10 56.070969343185425 2542.3695\n",
      "STAGE1_11 56.566768407821655 2488.378\n",
      "STAGE1_12 56.23708629608154 2463.641\n",
      "STAGE1_13 55.80436635017395 4898.058\n",
      "STAGE1_14 55.94513154029846 4226.757\n",
      "STAGE1_15 56.09994697570801 4281.785499999998\n",
      "STAGE1_16 56.09296727180481 3280.9269999999997\n",
      "STAGE1_17 56.2698233127594 3490.827666666665\n",
      "STAGE1_18 56.529456615448 3539.390333333333\n"
     ]
    }
   ],
   "source": [
    "# 기본 데이터셋 추가\n",
    "data_sizes = [50, 100, 200]\n",
    "problem_files = []\n",
    "for data_size in data_sizes:\n",
    "    problem_files.append(fr'C:\\Users\\hsh80\\Desktop\\LG CNS\\alg_test_problems_20240429\\TEST_K{data_size}_1.json')\n",
    "    problem_files.append(fr'C:\\Users\\hsh80\\Desktop\\LG CNS\\alg_test_problems_20240429\\TEST_K{data_size}_2.json')\n",
    "\n",
    "# stage 데이터 추가\n",
    "for file_num in range(1, 19):\n",
    "    problem_file = fr'C:\\Users\\hsh80\\Desktop\\LG CNS\\stage1_problems\\STAGE1_{file_num}.json'\n",
    "\n",
    "    problem_files.append(problem_file)\n",
    "\n",
    "results = []\n",
    "for problem_file in problem_files:\n",
    "    start_time = time.time()\n",
    "\n",
    "    testcase_name = problem_file.split('\\\\')[-1].split('.')[0]\n",
    "\n",
    "    ## ------------------- 기본 변수 할당 ---------------------------\n",
    "\n",
    "    with open(problem_file, 'r') as f:\n",
    "        prob = json.load(f)\n",
    "\n",
    "    K = prob['K']\n",
    "\n",
    "    ALL_ORDERS = [Order(order_info) for order_info in prob['ORDERS']]\n",
    "    ALL_RIDERS = [Rider(rider_info) for rider_info in prob['RIDERS']]\n",
    "\n",
    "    DIST = np.array(prob['DIST'])\n",
    "    for r in ALL_RIDERS:\n",
    "        r.T = np.round(DIST/r.speed + r.service_time).astype(int)\n",
    "\n",
    "    inf = float('inf')\n",
    "\n",
    "    timelimit = 60\n",
    "\n",
    "    ## --------------------- 커스텀 코드 시작 ---------------------------\n",
    "\n",
    "    solution = algorithm(K, ALL_ORDERS, ALL_RIDERS, DIST, timelimit)\n",
    "\n",
    "    end_time = time.time()\n",
    "    process_time = end_time - start_time\n",
    "\n",
    "    with open(problem_file, 'r') as f:\n",
    "        prob = json.load(f)\n",
    "\n",
    "    K = prob['K']\n",
    "\n",
    "    ALL_ORDERS = [Order(order_info) for order_info in prob['ORDERS']]\n",
    "    ALL_RIDERS = [Rider(rider_info) for rider_info in prob['RIDERS']]\n",
    "\n",
    "    DIST = np.array(prob['DIST'])\n",
    "    for r in ALL_RIDERS:\n",
    "        r.T = np.round(DIST/r.speed + r.service_time).astype(int)\n",
    "\n",
    "    checked_solution = solution_check(K, ALL_ORDERS, ALL_RIDERS, DIST, solution)\n",
    "\n",
    "    results.append((problem_file, checked_solution['avg_cost']))\n",
    "\n",
    "    print(testcase_name, process_time, checked_solution['avg_cost'])\n",
    "\n",
    "df = pd.DataFrame(results, columns=['Name', 'Score'])\n",
    "\n",
    "df.to_csv('8-3_bundling_opt_ver1_KruskalRandom.csv', index=False, encoding='utf-8-sig')"
   ]
  }
 ],
 "metadata": {
  "kernelspec": {
   "display_name": "Python 3 (ipykernel)",
   "language": "python",
   "name": "python3"
  },
  "language_info": {
   "codemirror_mode": {
    "name": "ipython",
    "version": 3
   },
   "file_extension": ".py",
   "mimetype": "text/x-python",
   "name": "python",
   "nbconvert_exporter": "python",
   "pygments_lexer": "ipython3",
   "version": "3.10.13"
  }
 },
 "nbformat": 4,
 "nbformat_minor": 4
}
