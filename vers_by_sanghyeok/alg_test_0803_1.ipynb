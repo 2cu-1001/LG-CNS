{
 "cells": [
  {
   "cell_type": "code",
   "execution_count": 1,
   "metadata": {},
   "outputs": [],
   "source": [
    "%load_ext autoreload\n",
    "%autoreload 2\n",
    "\n",
    "from util_0803_1 import *\n",
    "from myalgorithm_0803_1 import algorithm\n",
    "\n",
    "import pandas as pd"
   ]
  },
  {
   "cell_type": "markdown",
   "metadata": {},
   "source": [
    "## 실험 내용\n",
    "- 주문 쌍 사전 확인 코드로 가중치 탐색을 30초 동안 하는 경우 데이터셋별 가중치 조합 몇 개를 탐색하는지 확인하기"
   ]
  },
  {
   "cell_type": "markdown",
   "metadata": {},
   "source": [
    "### 가중치 탐색을 30초 동안 하는 경우 데이터셋별 가중치 조합 몇 개를 탐색하는지 확인하기"
   ]
  },
  {
   "cell_type": "code",
   "execution_count": 3,
   "metadata": {},
   "outputs": [
    {
     "name": "stdout",
     "output_type": "stream",
     "text": [
      "C:\\Users\\hsh80\\Desktop\\LG CNS\\alg_test_problems_20240429\\TEST_K50_1.json 50 417 3698.22\n",
      "C:\\Users\\hsh80\\Desktop\\LG CNS\\alg_test_problems_20240429\\TEST_K50_2.json 50 531 4039.758\n",
      "C:\\Users\\hsh80\\Desktop\\LG CNS\\alg_test_problems_20240429\\TEST_K100_1.json 100 165 3460.855\n",
      "C:\\Users\\hsh80\\Desktop\\LG CNS\\alg_test_problems_20240429\\TEST_K100_2.json 100 132 3623.4959999999996\n",
      "C:\\Users\\hsh80\\Desktop\\LG CNS\\alg_test_problems_20240429\\TEST_K200_1.json 200 38 3327.332999999999\n",
      "C:\\Users\\hsh80\\Desktop\\LG CNS\\alg_test_problems_20240429\\TEST_K200_2.json 200 43 3247.8145\n",
      "C:\\Users\\hsh80\\Desktop\\LG CNS\\stage1_problems\\STAGE1_1.json 100 149 3752.5100000000007\n",
      "C:\\Users\\hsh80\\Desktop\\LG CNS\\stage1_problems\\STAGE1_2.json 100 175 3348.8740000000003\n",
      "C:\\Users\\hsh80\\Desktop\\LG CNS\\stage1_problems\\STAGE1_3.json 200 55 3056.2244999999994\n",
      "C:\\Users\\hsh80\\Desktop\\LG CNS\\stage1_problems\\STAGE1_4.json 200 82 2693.6929999999993\n",
      "C:\\Users\\hsh80\\Desktop\\LG CNS\\stage1_problems\\STAGE1_5.json 300 35 2328.6326666666673\n",
      "C:\\Users\\hsh80\\Desktop\\LG CNS\\stage1_problems\\STAGE1_6.json 300 51 2553.760999999999\n",
      "C:\\Users\\hsh80\\Desktop\\LG CNS\\stage1_problems\\STAGE1_7.json 100 180 3480.4299999999994\n",
      "C:\\Users\\hsh80\\Desktop\\LG CNS\\stage1_problems\\STAGE1_8.json 100 178 3268.9390000000008\n",
      "C:\\Users\\hsh80\\Desktop\\LG CNS\\stage1_problems\\STAGE1_9.json 200 38 3119.6810000000005\n",
      "C:\\Users\\hsh80\\Desktop\\LG CNS\\stage1_problems\\STAGE1_10.json 200 97 2598.0840000000007\n",
      "C:\\Users\\hsh80\\Desktop\\LG CNS\\stage1_problems\\STAGE1_11.json 300 26 2496.8259999999996\n",
      "C:\\Users\\hsh80\\Desktop\\LG CNS\\stage1_problems\\STAGE1_12.json 300 57 2513.0070000000005\n",
      "C:\\Users\\hsh80\\Desktop\\LG CNS\\stage1_problems\\STAGE1_13.json 100 389 4985.172\n",
      "C:\\Users\\hsh80\\Desktop\\LG CNS\\stage1_problems\\STAGE1_14.json 100 238 4280.268999999999\n",
      "C:\\Users\\hsh80\\Desktop\\LG CNS\\stage1_problems\\STAGE1_15.json 200 95 4346.513999999999\n",
      "C:\\Users\\hsh80\\Desktop\\LG CNS\\stage1_problems\\STAGE1_16.json 200 99 3344.079499999999\n",
      "C:\\Users\\hsh80\\Desktop\\LG CNS\\stage1_problems\\STAGE1_17.json 300 46 3513.7473333333323\n",
      "C:\\Users\\hsh80\\Desktop\\LG CNS\\stage1_problems\\STAGE1_18.json 300 56 3644.8086666666663\n"
     ]
    }
   ],
   "source": [
    "# 기본 데이터셋 추가\n",
    "data_sizes = [50, 100, 200]\n",
    "problem_files = []\n",
    "for data_size in data_sizes:\n",
    "    problem_files.append(fr'C:\\Users\\hsh80\\Desktop\\LG CNS\\alg_test_problems_20240429\\TEST_K{data_size}_1.json')\n",
    "    problem_files.append(fr'C:\\Users\\hsh80\\Desktop\\LG CNS\\alg_test_problems_20240429\\TEST_K{data_size}_2.json')\n",
    "\n",
    "# stage 데이터 추가\n",
    "for file_num in range(1, 19):\n",
    "    problem_file = fr'C:\\Users\\hsh80\\Desktop\\LG CNS\\stage1_problems\\STAGE1_{file_num}.json'\n",
    "\n",
    "    problem_files.append(problem_file)\n",
    "\n",
    "for problem_file in problem_files:\n",
    "    ## ------------------- 기본 변수 할당 ---------------------------\n",
    "\n",
    "    with open(problem_file, 'r') as f:\n",
    "        prob = json.load(f)\n",
    "\n",
    "    K = prob['K']\n",
    "\n",
    "    ALL_ORDERS = [Order(order_info) for order_info in prob['ORDERS']]\n",
    "    ALL_RIDERS = [Rider(rider_info) for rider_info in prob['RIDERS']]\n",
    "\n",
    "    DIST = np.array(prob['DIST'])\n",
    "    for r in ALL_RIDERS:\n",
    "        r.T = np.round(DIST/r.speed + r.service_time).astype(int)\n",
    "\n",
    "    inf = float('inf')\n",
    "\n",
    "    timelimit = 60\n",
    "\n",
    "    ## --------------------- 커스텀 코드 시작 ---------------------------\n",
    "\n",
    "    processed_weight_comb_c, min_init_cost = algorithm(K, ALL_ORDERS, ALL_RIDERS, DIST, timelimit)\n",
    "\n",
    "    print(problem_file, K, processed_weight_comb_c, min_init_cost)"
   ]
  }
 ],
 "metadata": {
  "kernelspec": {
   "display_name": "Python 3 (ipykernel)",
   "language": "python",
   "name": "python3"
  },
  "language_info": {
   "codemirror_mode": {
    "name": "ipython",
    "version": 3
   },
   "file_extension": ".py",
   "mimetype": "text/x-python",
   "name": "python",
   "nbconvert_exporter": "python",
   "pygments_lexer": "ipython3",
   "version": "3.10.13"
  }
 },
 "nbformat": 4,
 "nbformat_minor": 4
}
