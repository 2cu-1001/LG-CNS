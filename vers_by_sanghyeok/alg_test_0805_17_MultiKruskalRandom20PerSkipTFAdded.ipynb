{
 "cells": [
  {
   "cell_type": "code",
   "execution_count": 1,
   "metadata": {},
   "outputs": [],
   "source": [
    "%load_ext autoreload\n",
    "%autoreload 2\n",
    "\n",
    "from util_0805_17 import *\n",
    "from myalgorithm_0805_17_MultiKruskalRandom20PerSkipTFAdded import algorithm"
   ]
  },
  {
   "cell_type": "markdown",
   "metadata": {},
   "source": [
    "## 실험 내용\n",
    "1. 크루스칼 돌릴 때 20% 랜덤으로 건너뛰는 방식 + 기존 더하기 방식의 KruskalRandom 적용한 멀티 프로세싱 - MultiKruskalRandom20PerSkipTFAdded"
   ]
  },
  {
   "cell_type": "code",
   "execution_count": 2,
   "metadata": {},
   "outputs": [
    {
     "name": "stdout",
     "output_type": "stream",
     "text": [
      "TEST_K50_1 56.300004720687866 3580.7659999999996\n",
      "TEST_K50_2 56.20383548736572 3993.778\n",
      "TEST_K100_1 56.175636768341064 3448.4870000000005\n",
      "TEST_K100_2 56.45345449447632 3561.9799999999996\n",
      "TEST_K200_1 56.97024703025818 3348.1709999999994\n",
      "TEST_K200_2 56.70440673828125 3292.667\n",
      "STAGE1_1 58.77279734611511 3753.506\n",
      "STAGE1_2 57.175877809524536 3353.8499999999995\n",
      "STAGE1_3 57.487805128097534 3100.939499999999\n",
      "STAGE1_4 59.11712050437927 2714.8059999999996\n",
      "STAGE1_5 56.93923592567444 2388.5353333333337\n",
      "STAGE1_6 56.88012146949768 2544.6646666666666\n",
      "STAGE1_7 56.30107855796814 3362.5999999999995\n",
      "STAGE1_8 56.4188232421875 3244.5959999999995\n",
      "STAGE1_9 56.53037357330322 3126.7779999999993\n",
      "STAGE1_10 56.612513065338135 2613.2104999999997\n",
      "STAGE1_11 56.745198488235474 2588.461\n",
      "STAGE1_12 56.930636167526245 2543.8126666666662\n",
      "STAGE1_13 56.53311014175415 4927.8679999999995\n",
      "STAGE1_14 56.2340087890625 4214.414000000001\n",
      "STAGE1_15 56.31507158279419 4320.825999999999\n",
      "STAGE1_16 56.52392792701721 3298.2470000000008\n",
      "STAGE1_17 56.57323884963989 3534.5943333333335\n",
      "STAGE1_18 56.81632471084595 3647.2563333333337\n"
     ]
    }
   ],
   "source": [
    "import pandas as pd\n",
    "\n",
    "# 기본 데이터셋 추가\n",
    "data_sizes = [50, 100, 200]\n",
    "problem_files = []\n",
    "for data_size in data_sizes:\n",
    "    problem_files.append(fr'C:\\Users\\hsh80\\Desktop\\LG CNS\\alg_test_problems_20240429\\TEST_K{data_size}_1.json')\n",
    "    problem_files.append(fr'C:\\Users\\hsh80\\Desktop\\LG CNS\\alg_test_problems_20240429\\TEST_K{data_size}_2.json')\n",
    "\n",
    "# stage 데이터 추가\n",
    "for file_num in range(1, 19):\n",
    "    problem_file = fr'C:\\Users\\hsh80\\Desktop\\LG CNS\\stage1_problems\\STAGE1_{file_num}.json'\n",
    "\n",
    "    problem_files.append(problem_file)\n",
    "\n",
    "results = []\n",
    "solutions = []\n",
    "for problem_file in problem_files:\n",
    "    start_time = time.time()\n",
    "\n",
    "    testcase_name = problem_file.split('\\\\')[-1].split('.')[0]\n",
    "\n",
    "    ## ------------------- 기본 변수 할당 ---------------------------\n",
    "\n",
    "    with open(problem_file, 'r') as f:\n",
    "        prob = json.load(f)\n",
    "\n",
    "    K = prob['K']\n",
    "\n",
    "    ALL_ORDERS = [Order(order_info) for order_info in prob['ORDERS']]\n",
    "    ALL_RIDERS = [Rider(rider_info) for rider_info in prob['RIDERS']]\n",
    "\n",
    "    DIST = np.array(prob['DIST'])\n",
    "    for r in ALL_RIDERS:\n",
    "        r.T = np.round(DIST/r.speed + r.service_time).astype(int)\n",
    "\n",
    "    inf = float('inf')\n",
    "\n",
    "    timelimit = 60\n",
    "\n",
    "    ## --------------------- 커스텀 코드 시작 ---------------------------\n",
    "\n",
    "    solution = algorithm(K, ALL_ORDERS, ALL_RIDERS, DIST, timelimit)\n",
    "    solutions.append(solution)\n",
    "\n",
    "    end_time = time.time()\n",
    "    process_time = end_time - start_time\n",
    "\n",
    "    with open(problem_file, 'r') as f:\n",
    "        prob = json.load(f)\n",
    "\n",
    "    K = prob['K']\n",
    "\n",
    "    ALL_ORDERS = [Order(order_info) for order_info in prob['ORDERS']]\n",
    "    ALL_RIDERS = [Rider(rider_info) for rider_info in prob['RIDERS']]\n",
    "\n",
    "    DIST = np.array(prob['DIST'])\n",
    "    for r in ALL_RIDERS:\n",
    "        r.T = np.round(DIST/r.speed + r.service_time).astype(int)\n",
    "\n",
    "    checked_solution = solution_check(K, ALL_ORDERS, ALL_RIDERS, DIST, solution)\n",
    "\n",
    "    results.append((problem_file, checked_solution['avg_cost']))\n",
    "\n",
    "    print(testcase_name, process_time, checked_solution['avg_cost'])\n",
    "\n",
    "df = pd.DataFrame(results, columns=['Name', 'Score'])\n",
    "\n",
    "df.to_csv('8-5_MultiKruskalRandom20PerSkipTFAdded.csv', index=False, encoding='utf-8-sig')"
   ]
  }
 ],
 "metadata": {
  "kernelspec": {
   "display_name": "Python 3 (ipykernel)",
   "language": "python",
   "name": "python3"
  },
  "language_info": {
   "codemirror_mode": {
    "name": "ipython",
    "version": 3
   },
   "file_extension": ".py",
   "mimetype": "text/x-python",
   "name": "python",
   "nbconvert_exporter": "python",
   "pygments_lexer": "ipython3",
   "version": "3.10.13"
  }
 },
 "nbformat": 4,
 "nbformat_minor": 4
}
