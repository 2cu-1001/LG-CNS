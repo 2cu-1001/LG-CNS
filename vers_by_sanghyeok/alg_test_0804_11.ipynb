{
 "cells": [
  {
   "cell_type": "markdown",
   "metadata": {},
   "source": [
    "## 실험 내용\n",
    "1. 5번들 번들링 개선 시도 - 2 -> 5"
   ]
  },
  {
   "cell_type": "markdown",
   "metadata": {},
   "source": [
    "### 모든 데이터셋 실험"
   ]
  },
  {
   "cell_type": "code",
   "execution_count": 3,
   "metadata": {},
   "outputs": [
    {
     "name": "stdout",
     "output_type": "stream",
     "text": [
      "TEST_K50_1 56.04914355278015 3641.924000000001\n",
      "TEST_K50_2 55.97681283950806 4036.644\n",
      "TEST_K100_1 56.02295470237732 3473.034\n",
      "TEST_K100_2 56.02518367767334 3562.2189999999996\n",
      "TEST_K200_1 56.46464991569519 3238.6319999999996\n",
      "TEST_K200_2 56.14464211463928 3224.9475000000007\n",
      "STAGE1_1 56.30345892906189 3667.604\n",
      "STAGE1_2 56.68561935424805 3214.6899999999996\n",
      "STAGE1_3 56.4117591381073 3034.8559999999993\n",
      "STAGE1_4 57.52924561500549 2652.933\n",
      "STAGE1_5 58.36797904968262 2272.7056666666676\n",
      "STAGE1_6 70.34917569160461 2433.0106666666675\n",
      "STAGE1_7 56.39637637138367 3377.4900000000007\n",
      "STAGE1_8 57.13705372810364 3108.37\n",
      "STAGE1_9 56.32592511177063 3117.67\n",
      "STAGE1_10 58.44670343399048 2496.6385000000005\n",
      "STAGE1_11 56.77680587768555 2573.584666666668\n",
      "STAGE1_12 57.89303708076477 2333.5603333333333\n",
      "STAGE1_13 55.85189723968506 4938.41\n",
      "STAGE1_14 56.19488048553467 4085.314\n",
      "STAGE1_15 55.931795597076416 4269.335999999999\n",
      "STAGE1_16 56.88597297668457 3293.6690000000003\n",
      "STAGE1_17 56.130478858947754 3510.9813333333336\n",
      "STAGE1_18 58.113855838775635 3454.2120000000004\n"
     ]
    }
   ],
   "source": [
    "%load_ext autoreload\n",
    "%autoreload 2\n",
    "\n",
    "from util_0804_11 import *\n",
    "from myalgorithm_0804_11 import algorithm\n",
    "\n",
    "import pandas as pd\n",
    "\n",
    "# 기본 데이터셋 추가\n",
    "data_sizes = [50, 100, 200]\n",
    "problem_files = []\n",
    "for data_size in data_sizes:\n",
    "    problem_files.append(fr'C:\\Users\\hsh80\\Desktop\\LG CNS\\alg_test_problems_20240429\\TEST_K{data_size}_1.json')\n",
    "    problem_files.append(fr'C:\\Users\\hsh80\\Desktop\\LG CNS\\alg_test_problems_20240429\\TEST_K{data_size}_2.json')\n",
    "\n",
    "# stage 데이터 추가\n",
    "for file_num in range(1, 19):\n",
    "    problem_file = fr'C:\\Users\\hsh80\\Desktop\\LG CNS\\stage1_problems\\STAGE1_{file_num}.json'\n",
    "\n",
    "    problem_files.append(problem_file)\n",
    "\n",
    "results = []\n",
    "solutions = []\n",
    "for problem_file in problem_files:\n",
    "    start_time = time.time()\n",
    "\n",
    "    testcase_name = problem_file.split('\\\\')[-1].split('.')[0]\n",
    "\n",
    "    ## ------------------- 기본 변수 할당 ---------------------------\n",
    "\n",
    "    with open(problem_file, 'r') as f:\n",
    "        prob = json.load(f)\n",
    "\n",
    "    K = prob['K']\n",
    "\n",
    "    ALL_ORDERS = [Order(order_info) for order_info in prob['ORDERS']]\n",
    "    ALL_RIDERS = [Rider(rider_info) for rider_info in prob['RIDERS']]\n",
    "\n",
    "    DIST = np.array(prob['DIST'])\n",
    "    for r in ALL_RIDERS:\n",
    "        r.T = np.round(DIST/r.speed + r.service_time).astype(int)\n",
    "\n",
    "    inf = float('inf')\n",
    "\n",
    "    timelimit = 60\n",
    "\n",
    "    ## --------------------- 커스텀 코드 시작 ---------------------------\n",
    "\n",
    "    solution = algorithm(K, ALL_ORDERS, ALL_RIDERS, DIST, timelimit)\n",
    "    solutions.append(solution)\n",
    "\n",
    "    end_time = time.time()\n",
    "    process_time = end_time - start_time\n",
    "\n",
    "    with open(problem_file, 'r') as f:\n",
    "        prob = json.load(f)\n",
    "\n",
    "    K = prob['K']\n",
    "\n",
    "    ALL_ORDERS = [Order(order_info) for order_info in prob['ORDERS']]\n",
    "    ALL_RIDERS = [Rider(rider_info) for rider_info in prob['RIDERS']]\n",
    "\n",
    "    DIST = np.array(prob['DIST'])\n",
    "    for r in ALL_RIDERS:\n",
    "        r.T = np.round(DIST/r.speed + r.service_time).astype(int)\n",
    "\n",
    "    checked_solution = solution_check(K, ALL_ORDERS, ALL_RIDERS, DIST, solution)\n",
    "\n",
    "    results.append((problem_file, checked_solution['avg_cost']))\n",
    "\n",
    "    print(testcase_name, process_time, checked_solution['avg_cost'])\n",
    "\n",
    "df = pd.DataFrame(results, columns=['Name', 'Score'])\n",
    "\n",
    "df.to_csv('8-4_bundling_opt_ver1_5Orders5.csv', index=False, encoding='utf-8-sig')"
   ]
  }
 ],
 "metadata": {
  "kernelspec": {
   "display_name": "Python 3 (ipykernel)",
   "language": "python",
   "name": "python3"
  },
  "language_info": {
   "codemirror_mode": {
    "name": "ipython",
    "version": 3
   },
   "file_extension": ".py",
   "mimetype": "text/x-python",
   "name": "python",
   "nbconvert_exporter": "python",
   "pygments_lexer": "ipython3",
   "version": "3.10.13"
  }
 },
 "nbformat": 4,
 "nbformat_minor": 4
}
