{
 "cells": [
  {
   "cell_type": "code",
   "execution_count": 2,
   "metadata": {},
   "outputs": [],
   "source": [
    "%load_ext autoreload\n",
    "%autoreload 2\n",
    "\n",
    "from util_0804_2 import *\n",
    "from myalgorithm_0804_2 import algorithm\n",
    "\n",
    "import pandas as pd"
   ]
  },
  {
   "cell_type": "markdown",
   "metadata": {},
   "source": [
    "## 실험 내용\n",
    "1. 크루스칼에 랜덤 기존 가중치 및 추가 가중치 부여, K >= 200 케이스워크, SA 포함\n",
    "2. 번들 내 주문 수에 따른 WALK 배달원의 존재 여부 확인"
   ]
  },
  {
   "cell_type": "markdown",
   "metadata": {},
   "source": [
    "### 모든 데이터셋 실험"
   ]
  },
  {
   "cell_type": "code",
   "execution_count": 3,
   "metadata": {},
   "outputs": [
    {
     "name": "stdout",
     "output_type": "stream",
     "text": [
      "TEST_K50_1 55.61930847167969 3564.1220000000008\n",
      "TEST_K50_2 55.650933027267456 4005.3259999999996\n",
      "TEST_K100_1 55.6440007686615 3449.761\n",
      "TEST_K100_2 55.712443351745605 3567.8759999999997\n",
      "TEST_K200_1 56.04261255264282 3247.563\n",
      "TEST_K200_2 55.89876699447632 3195.6354999999994\n",
      "STAGE1_1 55.78688406944275 3682.2699999999995\n",
      "STAGE1_2 55.868902921676636 3323.59\n",
      "STAGE1_3 55.93895101547241 3033.8140000000003\n",
      "STAGE1_4 57.29049754142761 2667.6674999999987\n",
      "STAGE1_5 56.52853298187256 2310.670000000001\n",
      "STAGE1_6 56.41171169281006 2521.3326666666662\n",
      "STAGE1_7 55.95998287200928 3414.764\n",
      "STAGE1_8 56.071224212646484 3164.9180000000006\n",
      "STAGE1_9 56.157474517822266 3072.3725\n",
      "STAGE1_10 56.01429772377014 2593.925\n",
      "STAGE1_11 56.1100594997406 2494.2926666666667\n",
      "STAGE1_12 56.13504981994629 2467.9240000000004\n",
      "STAGE1_13 56.308717012405396 4896.0779999999995\n",
      "STAGE1_14 56.410820960998535 4161.932\n",
      "STAGE1_15 56.02087593078613 4229.023499999999\n",
      "STAGE1_16 56.189797163009644 3315.2824999999993\n",
      "STAGE1_17 56.35945272445679 3494.7829999999994\n",
      "STAGE1_18 56.44981026649475 3562.269\n"
     ]
    }
   ],
   "source": [
    "# 기본 데이터셋 추가\n",
    "data_sizes = [50, 100, 200]\n",
    "problem_files = []\n",
    "for data_size in data_sizes:\n",
    "    problem_files.append(fr'C:\\Users\\hsh80\\Desktop\\LG CNS\\alg_test_problems_20240429\\TEST_K{data_size}_1.json')\n",
    "    problem_files.append(fr'C:\\Users\\hsh80\\Desktop\\LG CNS\\alg_test_problems_20240429\\TEST_K{data_size}_2.json')\n",
    "\n",
    "# stage 데이터 추가\n",
    "for file_num in range(1, 19):\n",
    "    problem_file = fr'C:\\Users\\hsh80\\Desktop\\LG CNS\\stage1_problems\\STAGE1_{file_num}.json'\n",
    "\n",
    "    problem_files.append(problem_file)\n",
    "\n",
    "results = []\n",
    "solutions = []\n",
    "for problem_file in problem_files:\n",
    "    start_time = time.time()\n",
    "\n",
    "    testcase_name = problem_file.split('\\\\')[-1].split('.')[0]\n",
    "\n",
    "    ## ------------------- 기본 변수 할당 ---------------------------\n",
    "\n",
    "    with open(problem_file, 'r') as f:\n",
    "        prob = json.load(f)\n",
    "\n",
    "    K = prob['K']\n",
    "\n",
    "    ALL_ORDERS = [Order(order_info) for order_info in prob['ORDERS']]\n",
    "    ALL_RIDERS = [Rider(rider_info) for rider_info in prob['RIDERS']]\n",
    "\n",
    "    DIST = np.array(prob['DIST'])\n",
    "    for r in ALL_RIDERS:\n",
    "        r.T = np.round(DIST/r.speed + r.service_time).astype(int)\n",
    "\n",
    "    inf = float('inf')\n",
    "\n",
    "    timelimit = 60\n",
    "\n",
    "    ## --------------------- 커스텀 코드 시작 ---------------------------\n",
    "\n",
    "    solution, cost = algorithm(K, ALL_ORDERS, ALL_RIDERS, DIST, timelimit)\n",
    "    solutions.append(solution)\n",
    "\n",
    "    end_time = time.time()\n",
    "    process_time = end_time - start_time\n",
    "\n",
    "    results.append((problem_file, cost))\n",
    "    print(testcase_name, process_time, cost)\n",
    "\n",
    "df = pd.DataFrame(results, columns=['Name', 'Score'])\n",
    "\n",
    "df.to_csv('8-4_bundling_opt_ver1_KruskalDiverseRandom_KCasework.csv', index=False, encoding='utf-8-sig')"
   ]
  }
 ],
 "metadata": {
  "kernelspec": {
   "display_name": "Python 3 (ipykernel)",
   "language": "python",
   "name": "python3"
  },
  "language_info": {
   "codemirror_mode": {
    "name": "ipython",
    "version": 3
   },
   "file_extension": ".py",
   "mimetype": "text/x-python",
   "name": "python",
   "nbconvert_exporter": "python",
   "pygments_lexer": "ipython3",
   "version": "3.10.13"
  }
 },
 "nbformat": 4,
 "nbformat_minor": 4
}
