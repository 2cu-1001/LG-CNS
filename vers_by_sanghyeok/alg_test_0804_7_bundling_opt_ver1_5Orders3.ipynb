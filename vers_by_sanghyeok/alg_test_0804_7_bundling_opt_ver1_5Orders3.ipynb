{
 "cells": [
  {
   "cell_type": "code",
   "execution_count": null,
   "metadata": {},
   "outputs": [],
   "source": [
    "%load_ext autoreload\n",
    "%autoreload 2\n",
    "\n",
    "from util_0804_7 import *\n",
    "from myalgorithm_0804_7 import algorithm\n",
    "\n",
    "import pandas as pd"
   ]
  },
  {
   "cell_type": "markdown",
   "metadata": {},
   "source": [
    "## 실험 내용\n",
    "1. 5번들 번들링 개선 시도 - 3 -> 5"
   ]
  },
  {
   "cell_type": "markdown",
   "metadata": {},
   "source": [
    "### 모든 데이터셋 실험"
   ]
  },
  {
   "cell_type": "code",
   "execution_count": 2,
   "metadata": {},
   "outputs": [
    {
     "name": "stdout",
     "output_type": "stream",
     "text": [
      "TEST_K50_1 56.0023307800293 3641.924000000001\n",
      "TEST_K50_2 55.97101140022278 4036.644\n",
      "TEST_K100_1 56.11103367805481 3470.5760000000005\n",
      "TEST_K100_2 56.057958364486694 3590.107\n",
      "TEST_K200_1 56.401923179626465 3256.3469999999998\n",
      "TEST_K200_2 56.40916085243225 3173.8414999999995\n",
      "STAGE1_1 56.28272461891174 3677.7059999999997\n",
      "STAGE1_2 56.707539081573486 3245.4399999999996\n",
      "STAGE1_3 56.54204082489014 3065.4295\n",
      "STAGE1_4 57.44947028160095 2640.175\n",
      "STAGE1_5 56.99504518508911 2262.3183333333336\n",
      "STAGE1_6 59.06091570854187 2391.734\n",
      "STAGE1_7 56.060731172561646 3370.1180000000004\n",
      "STAGE1_8 56.905465841293335 3112.014\n",
      "STAGE1_9 56.20278286933899 3117.67\n",
      "STAGE1_10 58.48498606681824 2480.1705000000006\n",
      "STAGE1_11 56.49621081352234 2557.285666666667\n",
      "STAGE1_12 59.43893027305603 2335.199666666667\n",
      "STAGE1_13 56.24991726875305 4927.071999999999\n",
      "STAGE1_14 56.752657890319824 4073.8379999999997\n",
      "STAGE1_15 56.27057456970215 4285.0655\n",
      "STAGE1_16 57.29813051223755 3323.1450000000004\n",
      "STAGE1_17 56.46467161178589 3509.627666666666\n",
      "STAGE1_18 59.49358344078064 3498.4540000000006\n"
     ]
    }
   ],
   "source": [
    "# 기본 데이터셋 추가\n",
    "data_sizes = [50, 100, 200]\n",
    "problem_files = []\n",
    "for data_size in data_sizes:\n",
    "    problem_files.append(fr'C:\\Users\\hsh80\\Desktop\\LG CNS\\alg_test_problems_20240429\\TEST_K{data_size}_1.json')\n",
    "    problem_files.append(fr'C:\\Users\\hsh80\\Desktop\\LG CNS\\alg_test_problems_20240429\\TEST_K{data_size}_2.json')\n",
    "\n",
    "# stage 데이터 추가\n",
    "for file_num in range(1, 19):\n",
    "    problem_file = fr'C:\\Users\\hsh80\\Desktop\\LG CNS\\stage1_problems\\STAGE1_{file_num}.json'\n",
    "\n",
    "    problem_files.append(problem_file)\n",
    "\n",
    "results = []\n",
    "solutions = []\n",
    "for problem_file in problem_files:\n",
    "    start_time = time.time()\n",
    "\n",
    "    testcase_name = problem_file.split('\\\\')[-1].split('.')[0]\n",
    "\n",
    "    ## ------------------- 기본 변수 할당 ---------------------------\n",
    "\n",
    "    with open(problem_file, 'r') as f:\n",
    "        prob = json.load(f)\n",
    "\n",
    "    K = prob['K']\n",
    "\n",
    "    ALL_ORDERS = [Order(order_info) for order_info in prob['ORDERS']]\n",
    "    ALL_RIDERS = [Rider(rider_info) for rider_info in prob['RIDERS']]\n",
    "\n",
    "    DIST = np.array(prob['DIST'])\n",
    "    for r in ALL_RIDERS:\n",
    "        r.T = np.round(DIST/r.speed + r.service_time).astype(int)\n",
    "\n",
    "    inf = float('inf')\n",
    "\n",
    "    timelimit = 60\n",
    "\n",
    "    ## --------------------- 커스텀 코드 시작 ---------------------------\n",
    "\n",
    "    solution = algorithm(K, ALL_ORDERS, ALL_RIDERS, DIST, timelimit)\n",
    "    solutions.append(solution)\n",
    "\n",
    "    end_time = time.time()\n",
    "    process_time = end_time - start_time\n",
    "\n",
    "    with open(problem_file, 'r') as f:\n",
    "        prob = json.load(f)\n",
    "\n",
    "    K = prob['K']\n",
    "\n",
    "    ALL_ORDERS = [Order(order_info) for order_info in prob['ORDERS']]\n",
    "    ALL_RIDERS = [Rider(rider_info) for rider_info in prob['RIDERS']]\n",
    "\n",
    "    DIST = np.array(prob['DIST'])\n",
    "    for r in ALL_RIDERS:\n",
    "        r.T = np.round(DIST/r.speed + r.service_time).astype(int)\n",
    "\n",
    "    checked_solution = solution_check(K, ALL_ORDERS, ALL_RIDERS, DIST, solution)\n",
    "\n",
    "    results.append((problem_file, checked_solution['avg_cost']))\n",
    "\n",
    "    print(testcase_name, process_time, checked_solution['avg_cost'])\n",
    "\n",
    "df = pd.DataFrame(results, columns=['Name', 'Score'])\n",
    "\n",
    "df.to_csv('8-4_bundling_opt_ver1_5Orders3.csv', index=False, encoding='utf-8-sig')"
   ]
  }
 ],
 "metadata": {
  "kernelspec": {
   "display_name": "Python 3 (ipykernel)",
   "language": "python",
   "name": "python3"
  },
  "language_info": {
   "codemirror_mode": {
    "name": "ipython",
    "version": 3
   },
   "file_extension": ".py",
   "mimetype": "text/x-python",
   "name": "python",
   "nbconvert_exporter": "python",
   "pygments_lexer": "ipython3",
   "version": "3.10.13"
  }
 },
 "nbformat": 4,
 "nbformat_minor": 4
}
