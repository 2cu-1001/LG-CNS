{
 "cells": [
  {
   "cell_type": "code",
   "execution_count": 1,
   "metadata": {},
   "outputs": [],
   "source": [
    "%load_ext autoreload\n",
    "%autoreload 2\n",
    "\n",
    "from util_0805_7 import *\n",
    "from myalgorithm_0805_7 import algorithm"
   ]
  },
  {
   "cell_type": "markdown",
   "metadata": {},
   "source": [
    "## 실험 내용\n",
    "1. SA에서 기존 방법에 추가적으로 랜덤으로 몇 개 풀고 크루스칼로 다시 묶는 실험은 비용도 그렇게 개선 안되고 주문이 배정이 안될 때 또한 존재함. -> SA를 풀고 최적 값으로 다시 MP 돌리는 것을 반복하면 어떨까?"
   ]
  },
  {
   "cell_type": "code",
   "execution_count": 2,
   "metadata": {},
   "outputs": [
    {
     "name": "stdout",
     "output_type": "stream",
     "text": [
      "TEST_K50_1 50.07041835784912 3583.552\n",
      "TEST_K50_2 50.05074191093445 4035.71\n",
      "TEST_K100_1 50.10132694244385 3460.855\n",
      "TEST_K100_2 50.10341024398804 3520.225\n",
      "TEST_K200_1 50.29679727554321 3228.183499999999\n",
      "TEST_K200_2 50.338284730911255 3175.3835\n",
      "STAGE1_1 50.158798933029175 3692.7429999999995\n",
      "STAGE1_2 50.582870960235596 3276.349\n",
      "STAGE1_3 50.39709424972534 3026.869\n",
      "STAGE1_4 51.87714076042175 2635.7869999999994\n",
      "STAGE1_5 51.69583868980408 2256.453666666667\n",
      "STAGE1_6 53.80217742919922 2438.398666666667\n",
      "STAGE1_7 50.18616724014282 3380.5690000000004\n",
      "STAGE1_8 51.97204089164734 3129.012\n",
      "STAGE1_9 50.264891386032104 3067.1385000000005\n",
      "STAGE1_10 54.01000785827637 2498.6320000000005\n",
      "STAGE1_11 51.96663188934326 2502.632666666667\n",
      "STAGE1_12 57.45542669296265 2481.581666666666\n",
      "STAGE1_13 50.070425271987915 4951.565999999999\n",
      "STAGE1_14 50.2032425403595 4170.252\n",
      "STAGE1_15 50.23601579666138 4187.601\n",
      "STAGE1_16 51.85630226135254 3323.1450000000004\n",
      "STAGE1_17 50.5408296585083 3481.777\n",
      "STAGE1_18 53.57488560676575 3499.9013333333332\n"
     ]
    }
   ],
   "source": [
    "import pandas as pd\n",
    "\n",
    "# 기본 데이터셋 추가\n",
    "data_sizes = [50, 100, 200]\n",
    "problem_files = []\n",
    "for data_size in data_sizes:\n",
    "    problem_files.append(fr'C:\\Users\\hsh80\\Desktop\\LG CNS\\alg_test_problems_20240429\\TEST_K{data_size}_1.json')\n",
    "    problem_files.append(fr'C:\\Users\\hsh80\\Desktop\\LG CNS\\alg_test_problems_20240429\\TEST_K{data_size}_2.json')\n",
    "\n",
    "# stage 데이터 추가\n",
    "for file_num in range(1, 19):\n",
    "    problem_file = fr'C:\\Users\\hsh80\\Desktop\\LG CNS\\stage1_problems\\STAGE1_{file_num}.json'\n",
    "\n",
    "    problem_files.append(problem_file)\n",
    "\n",
    "results = []\n",
    "solutions = []\n",
    "for problem_file in problem_files:\n",
    "    start_time = time.time()\n",
    "\n",
    "    testcase_name = problem_file.split('\\\\')[-1].split('.')[0]\n",
    "\n",
    "    ## ------------------- 기본 변수 할당 ---------------------------\n",
    "\n",
    "    with open(problem_file, 'r') as f:\n",
    "        prob = json.load(f)\n",
    "\n",
    "    K = prob['K']\n",
    "\n",
    "    ALL_ORDERS = [Order(order_info) for order_info in prob['ORDERS']]\n",
    "    ALL_RIDERS = [Rider(rider_info) for rider_info in prob['RIDERS']]\n",
    "\n",
    "    DIST = np.array(prob['DIST'])\n",
    "    for r in ALL_RIDERS:\n",
    "        r.T = np.round(DIST/r.speed + r.service_time).astype(int)\n",
    "\n",
    "    inf = float('inf')\n",
    "\n",
    "    timelimit = 60\n",
    "\n",
    "    ## --------------------- 커스텀 코드 시작 ---------------------------\n",
    "\n",
    "    solution = algorithm(K, ALL_ORDERS, ALL_RIDERS, DIST, timelimit)\n",
    "    solutions.append(solution)\n",
    "\n",
    "    end_time = time.time()\n",
    "    process_time = end_time - start_time\n",
    "\n",
    "    with open(problem_file, 'r') as f:\n",
    "        prob = json.load(f)\n",
    "\n",
    "    K = prob['K']\n",
    "\n",
    "    ALL_ORDERS = [Order(order_info) for order_info in prob['ORDERS']]\n",
    "    ALL_RIDERS = [Rider(rider_info) for rider_info in prob['RIDERS']]\n",
    "\n",
    "    DIST = np.array(prob['DIST'])\n",
    "    for r in ALL_RIDERS:\n",
    "        r.T = np.round(DIST/r.speed + r.service_time).astype(int)\n",
    "\n",
    "    checked_solution = solution_check(K, ALL_ORDERS, ALL_RIDERS, DIST, solution)\n",
    "\n",
    "    results.append((problem_file, checked_solution['avg_cost']))\n",
    "\n",
    "    print(testcase_name, process_time, checked_solution['avg_cost'])\n",
    "\n",
    "df = pd.DataFrame(results, columns=['Name', 'Score'])\n",
    "\n",
    "df.to_csv('8-5_MP_ver1_ManySA', index=False, encoding='utf-8-sig')"
   ]
  }
 ],
 "metadata": {
  "kernelspec": {
   "display_name": "Python 3 (ipykernel)",
   "language": "python",
   "name": "python3"
  },
  "language_info": {
   "codemirror_mode": {
    "name": "ipython",
    "version": 3
   },
   "file_extension": ".py",
   "mimetype": "text/x-python",
   "name": "python",
   "nbconvert_exporter": "python",
   "pygments_lexer": "ipython3",
   "version": "3.10.13"
  }
 },
 "nbformat": 4,
 "nbformat_minor": 4
}
