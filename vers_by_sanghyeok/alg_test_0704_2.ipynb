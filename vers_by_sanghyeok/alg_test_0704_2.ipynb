{
 "cells": [
  {
   "cell_type": "code",
   "execution_count": 28,
   "metadata": {},
   "outputs": [
    {
     "name": "stdout",
     "output_type": "stream",
     "text": [
      "The autoreload extension is already loaded. To reload it, use:\n",
      "  %reload_ext autoreload\n"
     ]
    }
   ],
   "source": [
    "%load_ext autoreload\n",
    "%autoreload 2\n",
    "\n",
    "from util_0704 import *\n",
    "from myalgorithm_0704_1 import algorithm\n",
    "\n",
    "import statsmodels.api as sm\n",
    "import pandas as pd"
   ]
  },
  {
   "cell_type": "markdown",
   "metadata": {},
   "source": [
    "- 실험해볼 내용들\n",
    "\n",
    "1. 초기 최적화 종료 후 인접한 번들끼리 원소를 교환해보면 어떨까?\n",
    "2. 인접한 2번들1과 2번들2가 있을 때 3번들1, 1번들1로 바꾼 후에 다시 1번들을 묶어보면 어떨까? "
   ]
  },
  {
   "cell_type": "markdown",
   "metadata": {},
   "source": [
    "## 기본 코드"
   ]
  },
  {
   "cell_type": "code",
   "execution_count": 77,
   "metadata": {},
   "outputs": [],
   "source": [
    "problem_file = '../alg_test_problems_20240429/TEST_K200_1.json'"
   ]
  },
  {
   "cell_type": "code",
   "execution_count": 127,
   "metadata": {},
   "outputs": [],
   "source": [
    "with open(problem_file, 'r') as f:\n",
    "    prob = json.load(f)\n",
    "\n",
    "K = prob['K']\n",
    "\n",
    "ALL_ORDERS = [Order(order_info) for order_info in prob['ORDERS']]\n",
    "ALL_RIDERS = [Rider(rider_info) for rider_info in prob['RIDERS']]\n",
    "\n",
    "DIST = np.array(prob['DIST'])\n",
    "for r in ALL_RIDERS:\n",
    "    r.T = np.round(DIST/r.speed + r.service_time).astype(int)"
   ]
  },
  {
   "cell_type": "code",
   "execution_count": 138,
   "metadata": {},
   "outputs": [
    {
     "name": "stdout",
     "output_type": "stream",
     "text": [
      "3413.8435000000004\n"
     ]
    }
   ],
   "source": [
    "## ------------------- 초기 상태 할당 코드 -------------------------\n",
    "\n",
    "with open(problem_file, 'r') as f:\n",
    "    prob = json.load(f)\n",
    "\n",
    "K = prob['K']\n",
    "\n",
    "ALL_ORDERS = [Order(order_info) for order_info in prob['ORDERS']]\n",
    "ALL_RIDERS = [Rider(rider_info) for rider_info in prob['RIDERS']]\n",
    "\n",
    "DIST = np.array(prob['DIST'])\n",
    "for r in ALL_RIDERS:\n",
    "    r.T = np.round(DIST/r.speed + r.service_time).astype(int)\n",
    "\n",
    "## --------------- 초기 번들링 최적화 코드 --------------------------\n",
    "\n",
    "inf = float('inf')\n",
    "\n",
    "car_rider = [rider for rider in ALL_RIDERS if rider.type == 'CAR'][0]\n",
    "bike_rider = [rider for rider in ALL_RIDERS if rider.type == 'BIKE'][0]\n",
    "walk_rider = [rider for rider in ALL_RIDERS if rider.type == 'WALK'][0]\n",
    "\n",
    "init_availables = [rider.available_number for rider in ALL_RIDERS]\n",
    "\n",
    "min_init_cost = inf\n",
    "min_init_cost_bundle = []\n",
    "min_init_cost_rider_availables = []\n",
    "\n",
    "weight1 = 1\n",
    "weight2 = -1.5\n",
    "\n",
    "all_bundles, rider_availables, cost = get_init_bundle_4_order_bundle_prefered_with_reassigning_riders(K, ALL_RIDERS, ALL_ORDERS, DIST, init_availables, weight1, weight2, get_dist_by_coords)\n",
    "for rider_i in range(3):\n",
    "    ALL_RIDERS[rider_i].available_number = rider_availables[rider_i]\n",
    "\n",
    "## -------------- 솔루션 제작 및 실현 가능성 확인 코드 ---------------- \n",
    "\n",
    "solution = [\n",
    "        # rider type, shop_seq, dlv_seq\n",
    "        [bundle.rider.type, bundle.shop_seq, bundle.dlv_seq]\n",
    "        for bundle in all_bundles\n",
    "]\n",
    "\n",
    "with open(problem_file, 'r') as f:\n",
    "    prob = json.load(f)\n",
    "\n",
    "K = prob['K']\n",
    "\n",
    "ALL_ORDERS = [Order(order_info) for order_info in prob['ORDERS']]\n",
    "ALL_RIDERS = [Rider(rider_info) for rider_info in prob['RIDERS']]\n",
    "\n",
    "DIST = np.array(prob['DIST'])\n",
    "for r in ALL_RIDERS:\n",
    "    r.T = np.round(DIST/r.speed + r.service_time).astype(int)\n",
    "\n",
    "checked_solution = solution_check(K, ALL_ORDERS, ALL_RIDERS, DIST, solution)\n",
    "\n",
    "print(checked_solution['avg_cost'])"
   ]
  },
  {
   "cell_type": "markdown",
   "metadata": {},
   "source": [
    "### 초기 최적화 종료 후 인접한 번들끼리 원소를 교환해보기"
   ]
  },
  {
   "cell_type": "code",
   "execution_count": 80,
   "metadata": {},
   "outputs": [],
   "source": [
    "all_bundles_len = len(all_bundles)\n",
    "\n",
    "G = [[] * all_bundles_len for _ in range(all_bundles_len)]\n",
    "\n",
    "for bundle_i in range(all_bundles_len):\n",
    "    bundle = all_bundles[bundle_i]\n",
    "\n",
    "    shop_seq = bundle.shop_seq\n",
    "\n",
    "    xs_s_sum = 0\n",
    "    ys_s_sum = 0\n",
    "\n",
    "    xs_e_sum = 0\n",
    "    ys_e_sum = 0\n",
    "\n",
    "    readytimes_sum = 0\n",
    "    deadlines_sum = 0\n",
    "\n",
    "    shop_seq_len = len(shop_seq)\n",
    "\n",
    "    for order_num in shop_seq:\n",
    "        order = ALL_ORDERS[order_num]\n",
    "\n",
    "        xs_s_sum += order.shop_lat\n",
    "        ys_s_sum += order.shop_lon\n",
    "\n",
    "        xs_e_sum += order.dlv_lat\n",
    "        ys_e_sum += order.dlv_lon\n",
    "\n",
    "        readytimes_sum += order.ready_time\n",
    "        deadlines_sum += order.deadline\n",
    "\n",
    "    xs_s_avg = xs_s_sum / shop_seq_len\n",
    "    ys_s_avg = ys_s_sum / shop_seq_len\n",
    "\n",
    "    xs_e_avg = xs_e_sum / shop_seq_len\n",
    "    ys_e_avg = ys_e_sum / shop_seq_len\n",
    "\n",
    "    readytimes_avg = readytimes_sum / shop_seq_len\n",
    "    deadlines_avg = deadlines_sum / shop_seq_len\n",
    "\n",
    "    avg_info = [xs_s_avg, ys_s_avg, xs_e_avg, ys_e_avg, readytimes_avg, deadlines_avg]\n",
    "\n",
    "    bundle.avg_info = avg_info\n",
    "\n",
    "edges = []\n",
    "for i in range(len(all_bundles)):\n",
    "    for j in range(i + 1, len(all_bundles)):\n",
    "        avg_info1 = all_bundles[i].avg_info\n",
    "        avg_info2 = all_bundles[j].avg_info\n",
    "\n",
    "        sx1, sy1, ex1, ey1, r1, d1 = avg_info1\n",
    "        sx2, sy2, ex2, ey2, r2, d2 = avg_info2\n",
    "\n",
    "        r_diff = abs(r1 - r2)\n",
    "        d_diff = abs(d1 - d2)\n",
    "\n",
    "        start_end_diff = get_dist_by_coords((sx1 + sx2) / 2, (sy1 + sy2) / 2, (ex1 + ex2) / 2, (ey1 + ey2) / 2)\n",
    "\n",
    "        dist1 = get_dist_by_coords(sx1, sy1, sx2, sy2)\n",
    "        dist2 = get_dist_by_coords(ex1, ey1, ex2, ey2)\n",
    "\n",
    "        diff_score = dist1 + dist2 + r_diff * weight1 + d_diff * weight1 + start_end_diff * weight2\n",
    "\n",
    "        edges.append((i, j, diff_score))\n",
    "\n",
    "edges.sort(key=lambda x: x[2])"
   ]
  },
  {
   "cell_type": "code",
   "execution_count": 81,
   "metadata": {},
   "outputs": [],
   "source": [
    "for bundle_i1, bundle_i2, _ in edges:\n",
    "    G[bundle_i1].append(bundle_i2)\n",
    "    G[bundle_i2].append(bundle_i1)"
   ]
  },
  {
   "cell_type": "code",
   "execution_count": 82,
   "metadata": {},
   "outputs": [],
   "source": [
    "for bundle_i1 in range(all_bundles_len):\n",
    "    G[bundle_i1] = G[bundle_i1][:5]"
   ]
  },
  {
   "cell_type": "code",
   "execution_count": 83,
   "metadata": {},
   "outputs": [
    {
     "name": "stdout",
     "output_type": "stream",
     "text": [
      "exchanged exchanged "
     ]
    }
   ],
   "source": [
    "for _ in range(100000):\n",
    "    bundle_i1 = random.randint(0, all_bundles_len - 1)\n",
    "    bundle_i2_nth = len(G[bundle_i1]) - 1\n",
    "    bundle_i2 = G[bundle_i1][bundle_i2_nth]\n",
    "\n",
    "    bundle1 = all_bundles[bundle_i1]\n",
    "    bundle2 = all_bundles[bundle_i2]\n",
    "\n",
    "    shop_seq1 = bundle1.shop_seq\n",
    "    shop_seq2 = bundle2.shop_seq\n",
    "\n",
    "    ex_1_to_2_i = random.randint(0, len(bundle1.shop_seq) - 1)\n",
    "    ex_2_to_1_i = random.randint(0, len(bundle2.shop_seq) - 1)\n",
    "\n",
    "    ex_1_to_2 = shop_seq1[ex_1_to_2_i]\n",
    "    ex_2_to_1 = shop_seq2[ex_2_to_1_i]\n",
    "\n",
    "    new_shop_seq1 = shop_seq1.copy()\n",
    "    new_shop_seq2 = shop_seq2.copy()\n",
    "\n",
    "    new_shop_seq1.remove(ex_1_to_2)\n",
    "    new_shop_seq1.append(ex_2_to_1)\n",
    "    new_shop_seq2.remove(ex_2_to_1)\n",
    "    new_shop_seq2.append(ex_1_to_2)\n",
    "\n",
    "    rider1 = bundle1.rider\n",
    "    rider2 = bundle2.rider\n",
    "\n",
    "    new_bundle1 = try_feasible_route(K, DIST, ALL_ORDERS, ALL_RIDERS, new_shop_seq1, rider1)\n",
    "    new_bundle2 = try_feasible_route(K, DIST, ALL_ORDERS, ALL_RIDERS, new_shop_seq2, rider2)\n",
    "\n",
    "    if new_bundle1 and new_bundle2:\n",
    "        old_cost = bundle1.cost + bundle2.cost\n",
    "        new_cost = new_bundle1.cost + new_bundle2.cost\n",
    "\n",
    "        if new_cost < old_cost:\n",
    "            print('exchanged', end=' ')\n",
    "\n",
    "            all_bundles[bundle_i1] = new_bundle1\n",
    "            all_bundles[bundle_i2] = new_bundle2"
   ]
  },
  {
   "cell_type": "markdown",
   "metadata": {},
   "source": [
    "> 결과가 개선되는 경우가 거의 없음"
   ]
  },
  {
   "cell_type": "markdown",
   "metadata": {},
   "source": [
    "### 인접한 2번들1과 2번들2가 있을 때 3번들1, 1번들1로 바꾼 후에 다시 1번들을 묶어보기"
   ]
  },
  {
   "cell_type": "code",
   "execution_count": 94,
   "metadata": {},
   "outputs": [],
   "source": [
    "two_order_bundles = [v for v in all_bundles if len(v.shop_seq) == 2]\n",
    "other_length_bundles = [v for v in all_bundles if len(v.shop_seq) != 2]\n",
    "\n",
    "two_order_bundles_len = len(two_order_bundles)\n",
    "\n",
    "G = [[] * two_order_bundles_len for _ in range(two_order_bundles_len)]\n",
    "\n",
    "for bundle_i in range(two_order_bundles_len):\n",
    "    bundle = two_order_bundles[bundle_i]\n",
    "\n",
    "    shop_seq = bundle.shop_seq\n",
    "\n",
    "    xs_s_sum = 0\n",
    "    ys_s_sum = 0\n",
    "\n",
    "    xs_e_sum = 0\n",
    "    ys_e_sum = 0\n",
    "\n",
    "    readytimes_sum = 0\n",
    "    deadlines_sum = 0\n",
    "\n",
    "    shop_seq_len = len(shop_seq)\n",
    "\n",
    "    for order_num in shop_seq:\n",
    "        order = ALL_ORDERS[order_num]\n",
    "\n",
    "        xs_s_sum += order.shop_lat\n",
    "        ys_s_sum += order.shop_lon\n",
    "\n",
    "        xs_e_sum += order.dlv_lat\n",
    "        ys_e_sum += order.dlv_lon\n",
    "\n",
    "        readytimes_sum += order.ready_time\n",
    "        deadlines_sum += order.deadline\n",
    "\n",
    "    xs_s_avg = xs_s_sum / shop_seq_len\n",
    "    ys_s_avg = ys_s_sum / shop_seq_len\n",
    "\n",
    "    xs_e_avg = xs_e_sum / shop_seq_len\n",
    "    ys_e_avg = ys_e_sum / shop_seq_len\n",
    "\n",
    "    readytimes_avg = readytimes_sum / shop_seq_len\n",
    "    deadlines_avg = deadlines_sum / shop_seq_len\n",
    "\n",
    "    avg_info = [xs_s_avg, ys_s_avg, xs_e_avg, ys_e_avg, readytimes_avg, deadlines_avg]\n",
    "\n",
    "    bundle.avg_info = avg_info\n",
    "\n",
    "edges = []\n",
    "for i in range(len(two_order_bundles)):\n",
    "    for j in range(i + 1, len(two_order_bundles)):\n",
    "        avg_info1 = two_order_bundles[i].avg_info\n",
    "        avg_info2 = two_order_bundles[j].avg_info\n",
    "\n",
    "        sx1, sy1, ex1, ey1, r1, d1 = avg_info1\n",
    "        sx2, sy2, ex2, ey2, r2, d2 = avg_info2\n",
    "\n",
    "        r_diff = abs(r1 - r2)\n",
    "        d_diff = abs(d1 - d2)\n",
    "\n",
    "        start_end_diff = get_dist_by_coords((sx1 + sx2) / 2, (sy1 + sy2) / 2, (ex1 + ex2) / 2, (ey1 + ey2) / 2)\n",
    "\n",
    "        dist1 = get_dist_by_coords(sx1, sy1, sx2, sy2)\n",
    "        dist2 = get_dist_by_coords(ex1, ey1, ex2, ey2)\n",
    "\n",
    "        diff_score = dist1 + dist2 + r_diff * weight1 + d_diff * weight1 + start_end_diff * weight2\n",
    "\n",
    "        edges.append((i, j, diff_score))\n",
    "\n",
    "edges.sort(key=lambda x: x[2])"
   ]
  },
  {
   "cell_type": "markdown",
   "metadata": {},
   "source": [
    "#### 일부 검사"
   ]
  },
  {
   "cell_type": "code",
   "execution_count": 95,
   "metadata": {},
   "outputs": [
    {
     "name": "stdout",
     "output_type": "stream",
     "text": [
      "moved moved moved "
     ]
    }
   ],
   "source": [
    "for bundle_i1, bundle_i2, _ in edges:\n",
    "    G[bundle_i1].append(bundle_i2)\n",
    "    G[bundle_i2].append(bundle_i1)\n",
    "\n",
    "for i in range(two_order_bundles_len):\n",
    "    G[i] = G[i][:4]\n",
    "\n",
    "is_moved = [False] * two_order_bundles_len\n",
    "newerly_made_bundles = []\n",
    "for bundle_i1 in range(two_order_bundles_len):\n",
    "    for bundle_i2 in G[bundle_i1]:\n",
    "        if is_moved[bundle_i1] or is_moved[bundle_i2]:\n",
    "            continue\n",
    "\n",
    "        bundle1 = two_order_bundles[bundle_i1]\n",
    "        bundle2 = two_order_bundles[bundle_i2]\n",
    "\n",
    "        shop_seq1 = bundle1.shop_seq\n",
    "        shop_seq2 = bundle2.shop_seq\n",
    "\n",
    "        rider1 = bundle1.rider\n",
    "        rider2 = bundle2.rider\n",
    "\n",
    "        for i in range(2):\n",
    "            new_shop_seq1 = shop_seq1.copy()\n",
    "            new_shop_seq2 = shop_seq2.copy()\n",
    "\n",
    "            new_shop_seq2.append(new_shop_seq1.pop(i))\n",
    "\n",
    "            new_bundle1 = try_feasible_route(K, DIST, ALL_ORDERS, ALL_RIDERS, new_shop_seq1, rider1)\n",
    "            new_bundle2 = try_feasible_route(K, DIST, ALL_ORDERS, ALL_RIDERS, new_shop_seq2, rider2)\n",
    "\n",
    "            if new_bundle1 and new_bundle2:\n",
    "                print('moved', end=' ')\n",
    "\n",
    "                is_moved[bundle_i1] = is_moved[bundle_i2] = True\n",
    "                newerly_made_bundles.append(new_bundle1)\n",
    "                newerly_made_bundles.append(new_bundle2)\n",
    "            "
   ]
  },
  {
   "cell_type": "markdown",
   "metadata": {},
   "source": [
    "#### 전체 검사"
   ]
  },
  {
   "cell_type": "code",
   "execution_count": 132,
   "metadata": {},
   "outputs": [
    {
     "name": "stdout",
     "output_type": "stream",
     "text": [
      "moved moved moved moved moved "
     ]
    }
   ],
   "source": [
    "for bundle_i1, bundle_i2, _ in edges:\n",
    "    G[bundle_i1].append(bundle_i2)\n",
    "    G[bundle_i2].append(bundle_i1)\n",
    "\n",
    "is_moved = [False] * two_order_bundles_len\n",
    "newerly_made_bundles = []\n",
    "for j in range(two_order_bundles_len):\n",
    "    for bundle_i1 in range(two_order_bundles_len):\n",
    "        bundle_i2 = G[bundle_i1][j]\n",
    "        \n",
    "        if is_moved[bundle_i1] or is_moved[bundle_i2]:\n",
    "            continue\n",
    "\n",
    "        bundle1 = two_order_bundles[bundle_i1]\n",
    "        bundle2 = two_order_bundles[bundle_i2]\n",
    "\n",
    "        shop_seq1 = bundle1.shop_seq\n",
    "        shop_seq2 = bundle2.shop_seq\n",
    "\n",
    "        rider1 = bundle1.rider\n",
    "        rider2 = bundle2.rider\n",
    "\n",
    "        for i in range(2):\n",
    "            new_shop_seq1 = shop_seq1.copy()\n",
    "            new_shop_seq2 = shop_seq2.copy()\n",
    "\n",
    "            new_shop_seq2.append(new_shop_seq1.pop(i))\n",
    "\n",
    "            new_bundle1 = try_feasible_route(K, DIST, ALL_ORDERS, ALL_RIDERS, new_shop_seq1, rider1)\n",
    "            new_bundle2 = try_feasible_route(K, DIST, ALL_ORDERS, ALL_RIDERS, new_shop_seq2, rider2)\n",
    "\n",
    "            if new_bundle1 and new_bundle2:\n",
    "                print('moved', end=' ')\n",
    "\n",
    "                is_moved[bundle_i1] = is_moved[bundle_i2] = True\n",
    "                newerly_made_bundles.append(new_bundle1)\n",
    "                newerly_made_bundles.append(new_bundle2)\n",
    "            "
   ]
  },
  {
   "cell_type": "markdown",
   "metadata": {},
   "source": [
    "> 결과는 일부일 때에 비해 옮겨지는 경우가 늘어났음"
   ]
  },
  {
   "cell_type": "code",
   "execution_count": 133,
   "metadata": {},
   "outputs": [],
   "source": [
    "new_two_order_bundles = [two_order_bundles[i] for i in range(two_order_bundles_len) if not is_moved[i]]\n",
    "\n",
    "new_all_bundles = new_two_order_bundles + newerly_made_bundles + other_length_bundles"
   ]
  },
  {
   "cell_type": "code",
   "execution_count": 135,
   "metadata": {},
   "outputs": [],
   "source": [
    "new_all_bundles2, result_availables = kruskal_bundling(K, DIST, ALL_ORDERS, ALL_RIDERS, 1, -1.5, try_merging_bundles_by_dist, 4, 'avg', new_all_bundles, get_dist_by_coords)\n",
    "for rider_i in range(3):\n",
    "    ALL_RIDERS[rider_i].available_number = result_availables[rider_i]"
   ]
  },
  {
   "cell_type": "code",
   "execution_count": 137,
   "metadata": {},
   "outputs": [
    {
     "name": "stdout",
     "output_type": "stream",
     "text": [
      "3399.8945000000003\n"
     ]
    }
   ],
   "source": [
    "solution = [\n",
    "        # rider type, shop_seq, dlv_seq\n",
    "        [bundle.rider.type, bundle.shop_seq, bundle.dlv_seq]\n",
    "        for bundle in new_all_bundles2\n",
    "]\n",
    "\n",
    "with open(problem_file, 'r') as f:\n",
    "    prob = json.load(f)\n",
    "\n",
    "K = prob['K']\n",
    "\n",
    "ALL_ORDERS = [Order(order_info) for order_info in prob['ORDERS']]\n",
    "ALL_RIDERS = [Rider(rider_info) for rider_info in prob['RIDERS']]\n",
    "\n",
    "DIST = np.array(prob['DIST'])\n",
    "for r in ALL_RIDERS:\n",
    "    r.T = np.round(DIST/r.speed + r.service_time).astype(int)\n",
    "\n",
    "checked_solution = solution_check(K, ALL_ORDERS, ALL_RIDERS, DIST, solution)\n",
    "\n",
    "print(checked_solution['avg_cost'])"
   ]
  }
 ],
 "metadata": {
  "kernelspec": {
   "display_name": "Python 3 (ipykernel)",
   "language": "python",
   "name": "python3"
  },
  "language_info": {
   "codemirror_mode": {
    "name": "ipython",
    "version": 3
   },
   "file_extension": ".py",
   "mimetype": "text/x-python",
   "name": "python",
   "nbconvert_exporter": "python",
   "pygments_lexer": "ipython3",
   "version": "3.10.13"
  }
 },
 "nbformat": 4,
 "nbformat_minor": 4
}
