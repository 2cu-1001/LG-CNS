{
 "cells": [
  {
   "cell_type": "code",
   "execution_count": 1,
   "metadata": {},
   "outputs": [],
   "source": [
    "%load_ext autoreload\n",
    "%autoreload 2\n",
    "\n",
    "from util_0804_6 import *\n",
    "from myalgorithm_0804_6 import algorithm\n",
    "\n",
    "import pandas as pd"
   ]
  },
  {
   "cell_type": "markdown",
   "metadata": {},
   "source": [
    "## 실험 내용\n",
    "1. 4주문 번들 SOTA 8-3_bundling_opt_ver1_KruskalRandom_KCasework로 WALK 확인"
   ]
  },
  {
   "cell_type": "markdown",
   "metadata": {},
   "source": [
    "### 모든 데이터셋 실험"
   ]
  },
  {
   "cell_type": "code",
   "execution_count": 2,
   "metadata": {},
   "outputs": [
    {
     "name": "stdout",
     "output_type": "stream",
     "text": [
      "TEST_K50_1 55.78734087944031 3557.0260000000003 [[0, 0], [5, 1], [0, 4], [0, 8], [0, 3], [0, 0]]\n",
      "TEST_K50_2 55.787193059921265 3988.3459999999995 [[0, 0], [4, 2], [0, 8], [0, 8], [0, 1], [0, 0]]\n",
      "TEST_K100_1 55.85739874839783 3460.855 [[0, 0], [0, 3], [1, 11], [0, 19], [0, 4], [0, 0]]\n",
      "TEST_K100_2 55.81309461593628 3582.788 [[0, 0], [5, 5], [0, 10], [0, 18], [0, 4], [0, 0]]\n",
      "TEST_K200_1 56.210516929626465 3245.765 [[0, 0], [5, 3], [1, 19], [0, 32], [0, 14], [0, 0]]\n",
      "TEST_K200_2 56.346033334732056 3223.146 [[0, 0], [4, 2], [0, 23], [0, 32], [0, 13], [0, 0]]\n",
      "STAGE1_1 55.9782075881958 3699.8979999999992 [[0, 0], [0, 2], [0, 8], [0, 18], [0, 7], [0, 0]]\n",
      "STAGE1_2 55.97719693183899 3291.82 [[0, 0], [0, 0], [0, 3], [0, 10], [0, 16], [0, 0]]\n",
      "STAGE1_3 56.16830539703369 3043.3965 [[0, 0], [3, 0], [4, 15], [0, 29], [0, 18], [0, 0]]\n",
      "STAGE1_4 56.29206442832947 2679.9609999999993 [[0, 0], [0, 0], [0, 4], [0, 12], [0, 39], [0, 0]]\n",
      "STAGE1_5 56.56155467033386 2306.393000000001 [[0, 0], [3, 0], [6, 8], [0, 27], [0, 47], [0, 0]]\n",
      "STAGE1_6 56.390345096588135 2483.517999999999 [[0, 0], [2, 0], [5, 7], [1, 9], [2, 59], [0, 0]]\n",
      "STAGE1_7 56.02988839149475 3402.6640000000007 [[0, 0], [0, 3], [0, 11], [0, 9], [0, 12], [0, 0]]\n",
      "STAGE1_8 56.087921380996704 3172.4060000000004 [[0, 0], [0, 1], [0, 1], [0, 11], [0, 16], [0, 0]]\n",
      "STAGE1_9 56.180227756500244 3069.7580000000003 [[0, 0], [5, 0], [1, 13], [0, 33], [0, 17], [0, 0]]\n",
      "STAGE1_10 56.355472803115845 2559.7720000000004 [[0, 0], [1, 0], [0, 1], [0, 11], [0, 41], [0, 0]]\n",
      "STAGE1_11 56.49049377441406 2459.3646666666673 [[0, 0], [2, 1], [3, 12], [1, 40], [0, 36], [0, 0]]\n",
      "STAGE1_12 56.52237677574158 2460.8946666666666 [[0, 0], [4, 0], [2, 2], [2, 14], [0, 60], [0, 0]]\n",
      "STAGE1_13 56.13424777984619 4898.058 [[0, 0], [0, 21], [0, 19], [0, 11], [0, 2], [0, 0]]\n",
      "STAGE1_14 56.18475794792175 4154.1179999999995 [[0, 0], [0, 3], [1, 8], [0, 9], [0, 13], [0, 0]]\n",
      "STAGE1_15 56.24662399291992 4224.146499999999 [[0, 0], [15, 4], [1, 30], [0, 33], [0, 5], [0, 0]]\n",
      "STAGE1_16 56.378175497055054 3309.488500000001 [[0, 0], [4, 0], [4, 5], [1, 9], [0, 37], [0, 0]]\n",
      "STAGE1_17 56.652403116226196 3487.132666666667 [[0, 0], [18, 5], [2, 33], [0, 49], [0, 15], [0, 0]]\n",
      "STAGE1_18 57.26165962219238 3567.319333333333 [[0, 0], [6, 0], [4, 8], [0, 10], [0, 60], [0, 0]]\n"
     ]
    }
   ],
   "source": [
    "# 기본 데이터셋 추가\n",
    "data_sizes = [50, 100, 200]\n",
    "problem_files = []\n",
    "for data_size in data_sizes:\n",
    "    problem_files.append(fr'C:\\Users\\hsh80\\Desktop\\LG CNS\\alg_test_problems_20240429\\TEST_K{data_size}_1.json')\n",
    "    problem_files.append(fr'C:\\Users\\hsh80\\Desktop\\LG CNS\\alg_test_problems_20240429\\TEST_K{data_size}_2.json')\n",
    "\n",
    "# stage 데이터 추가\n",
    "for file_num in range(1, 19):\n",
    "    problem_file = fr'C:\\Users\\hsh80\\Desktop\\LG CNS\\stage1_problems\\STAGE1_{file_num}.json'\n",
    "\n",
    "    problem_files.append(problem_file)\n",
    "\n",
    "cts = []\n",
    "for problem_file in problem_files:\n",
    "    start_time = time.time()\n",
    "\n",
    "    testcase_name = problem_file.split('\\\\')[-1].split('.')[0]\n",
    "\n",
    "    ## ------------------- 기본 변수 할당 ---------------------------\n",
    "\n",
    "    with open(problem_file, 'r') as f:\n",
    "        prob = json.load(f)\n",
    "\n",
    "    K = prob['K']\n",
    "\n",
    "    ALL_ORDERS = [Order(order_info) for order_info in prob['ORDERS']]\n",
    "    ALL_RIDERS = [Rider(rider_info) for rider_info in prob['RIDERS']]\n",
    "\n",
    "    DIST = np.array(prob['DIST'])\n",
    "    for r in ALL_RIDERS:\n",
    "        r.T = np.round(DIST/r.speed + r.service_time).astype(int)\n",
    "\n",
    "    inf = float('inf')\n",
    "\n",
    "    timelimit = 60\n",
    "\n",
    "    ## --------------------- 커스텀 코드 시작 ---------------------------\n",
    "\n",
    "    solution, result_bundles = algorithm(K, ALL_ORDERS, ALL_RIDERS, DIST, timelimit)\n",
    "\n",
    "    end_time = time.time()\n",
    "    process_time = end_time - start_time\n",
    "\n",
    "    with open(problem_file, 'r') as f:\n",
    "        prob = json.load(f)\n",
    "\n",
    "    K = prob['K']\n",
    "\n",
    "    ALL_ORDERS = [Order(order_info) for order_info in prob['ORDERS']]\n",
    "    ALL_RIDERS = [Rider(rider_info) for rider_info in prob['RIDERS']]\n",
    "\n",
    "    DIST = np.array(prob['DIST'])\n",
    "    for r in ALL_RIDERS:\n",
    "        r.T = np.round(DIST/r.speed + r.service_time).astype(int)\n",
    "\n",
    "    checked_solution = solution_check(K, ALL_ORDERS, ALL_RIDERS, DIST, solution)\n",
    "\n",
    "    # ---------------------- WALK 확인용 코드 ----------------------------\n",
    "\n",
    "    used_rider_info = [(v.rider.type, len(v.shop_seq)) for v in result_bundles]\n",
    "\n",
    "    ct = [[0, 0] for _ in range(6)] # ct[order_c] = [walk_c, non_walk_c]\n",
    "    for rider_type, order_c in used_rider_info:\n",
    "        if rider_type == 'WALK':\n",
    "            ct[order_c][0] += 1\n",
    "        else:\n",
    "            ct[order_c][1] += 1\n",
    "\n",
    "    cts.append(ct)\n",
    "\n",
    "    print(testcase_name, process_time, checked_solution['avg_cost'], ct)"
   ]
  },
  {
   "cell_type": "code",
   "execution_count": null,
   "metadata": {},
   "outputs": [],
   "source": [
    "STAGE1_6 56.390345096588135 2483.517999999999 [[0, 0], [2, 0], [5, 7], [1, 9], [2, 59], [0, 0]]"
   ]
  }
 ],
 "metadata": {
  "kernelspec": {
   "display_name": "Python 3 (ipykernel)",
   "language": "python",
   "name": "python3"
  },
  "language_info": {
   "codemirror_mode": {
    "name": "ipython",
    "version": 3
   },
   "file_extension": ".py",
   "mimetype": "text/x-python",
   "name": "python",
   "nbconvert_exporter": "python",
   "pygments_lexer": "ipython3",
   "version": "3.10.13"
  }
 },
 "nbformat": 4,
 "nbformat_minor": 4
}
