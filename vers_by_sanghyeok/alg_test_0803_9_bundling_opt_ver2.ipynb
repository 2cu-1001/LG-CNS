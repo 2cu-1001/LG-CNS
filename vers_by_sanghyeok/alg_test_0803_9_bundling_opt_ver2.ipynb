{
 "cells": [
  {
   "cell_type": "code",
   "execution_count": 5,
   "metadata": {},
   "outputs": [
    {
     "name": "stdout",
     "output_type": "stream",
     "text": [
      "The autoreload extension is already loaded. To reload it, use:\n",
      "  %reload_ext autoreload\n"
     ]
    }
   ],
   "source": [
    "%load_ext autoreload\n",
    "%autoreload 2\n",
    "\n",
    "from util_0803_7 import *\n",
    "from myalgorithm_0803_5 import algorithm\n",
    "\n",
    "import pandas as pd"
   ]
  },
  {
   "cell_type": "markdown",
   "metadata": {},
   "source": [
    "## 실험 내용\n",
    "- SA 부분에도 주문 조합 한 번만 보는 것을 적용해봄"
   ]
  },
  {
   "cell_type": "code",
   "execution_count": 6,
   "metadata": {},
   "outputs": [
    {
     "name": "stdout",
     "output_type": "stream",
     "text": [
      "C:\\Users\\hsh80\\Desktop\\LG CNS\\alg_test_problems_20240429\\TEST_K50_1.json\n",
      "TEST_K50_1 56.211134910583496\n",
      "C:\\Users\\hsh80\\Desktop\\LG CNS\\alg_test_problems_20240429\\TEST_K50_2.json\n",
      "TEST_K50_2 56.05388355255127\n",
      "C:\\Users\\hsh80\\Desktop\\LG CNS\\alg_test_problems_20240429\\TEST_K100_1.json\n",
      "TEST_K100_1 56.2089638710022\n",
      "C:\\Users\\hsh80\\Desktop\\LG CNS\\alg_test_problems_20240429\\TEST_K100_2.json\n",
      "TEST_K100_2 56.18849444389343\n",
      "C:\\Users\\hsh80\\Desktop\\LG CNS\\alg_test_problems_20240429\\TEST_K200_1.json\n",
      "TEST_K200_1 55.9838593006134\n",
      "C:\\Users\\hsh80\\Desktop\\LG CNS\\alg_test_problems_20240429\\TEST_K200_2.json\n",
      "TEST_K200_2 55.90923285484314\n",
      "C:\\Users\\hsh80\\Desktop\\LG CNS\\stage1_problems\\STAGE1_1.json\n",
      "STAGE1_1 55.85254716873169\n",
      "C:\\Users\\hsh80\\Desktop\\LG CNS\\stage1_problems\\STAGE1_2.json\n",
      "STAGE1_2 55.85072064399719\n",
      "C:\\Users\\hsh80\\Desktop\\LG CNS\\stage1_problems\\STAGE1_3.json\n",
      "STAGE1_3 56.01152443885803\n",
      "C:\\Users\\hsh80\\Desktop\\LG CNS\\stage1_problems\\STAGE1_4.json\n",
      "STAGE1_4 55.9876184463501\n",
      "C:\\Users\\hsh80\\Desktop\\LG CNS\\stage1_problems\\STAGE1_5.json\n",
      "STAGE1_5 56.21771240234375\n",
      "C:\\Users\\hsh80\\Desktop\\LG CNS\\stage1_problems\\STAGE1_6.json\n",
      "STAGE1_6 56.137168645858765\n",
      "C:\\Users\\hsh80\\Desktop\\LG CNS\\stage1_problems\\STAGE1_7.json\n",
      "STAGE1_7 55.84441828727722\n",
      "C:\\Users\\hsh80\\Desktop\\LG CNS\\stage1_problems\\STAGE1_8.json\n",
      "STAGE1_8 55.78453278541565\n",
      "C:\\Users\\hsh80\\Desktop\\LG CNS\\stage1_problems\\STAGE1_9.json\n",
      "STAGE1_9 56.012019872665405\n",
      "C:\\Users\\hsh80\\Desktop\\LG CNS\\stage1_problems\\STAGE1_10.json\n",
      "STAGE1_10 56.064539432525635\n",
      "C:\\Users\\hsh80\\Desktop\\LG CNS\\stage1_problems\\STAGE1_11.json\n",
      "STAGE1_11 56.11244797706604\n",
      "C:\\Users\\hsh80\\Desktop\\LG CNS\\stage1_problems\\STAGE1_12.json\n",
      "STAGE1_12 56.0886766910553\n",
      "C:\\Users\\hsh80\\Desktop\\LG CNS\\stage1_problems\\STAGE1_13.json\n",
      "STAGE1_13 56.162593841552734\n",
      "C:\\Users\\hsh80\\Desktop\\LG CNS\\stage1_problems\\STAGE1_14.json\n",
      "STAGE1_14 56.111464977264404\n",
      "C:\\Users\\hsh80\\Desktop\\LG CNS\\stage1_problems\\STAGE1_15.json\n",
      "STAGE1_15 56.219974994659424\n",
      "C:\\Users\\hsh80\\Desktop\\LG CNS\\stage1_problems\\STAGE1_16.json\n",
      "STAGE1_16 56.479719400405884\n",
      "C:\\Users\\hsh80\\Desktop\\LG CNS\\stage1_problems\\STAGE1_17.json\n",
      "STAGE1_17 56.137683153152466\n",
      "C:\\Users\\hsh80\\Desktop\\LG CNS\\stage1_problems\\STAGE1_18.json\n",
      "STAGE1_18 56.568405628204346\n"
     ]
    }
   ],
   "source": [
    "# 기본 데이터셋 추가\n",
    "data_sizes = [50, 100, 200]\n",
    "problem_files = []\n",
    "for data_size in data_sizes:\n",
    "    problem_files.append(fr'C:\\Users\\hsh80\\Desktop\\LG CNS\\alg_test_problems_20240429\\TEST_K{data_size}_1.json')\n",
    "    problem_files.append(fr'C:\\Users\\hsh80\\Desktop\\LG CNS\\alg_test_problems_20240429\\TEST_K{data_size}_2.json')\n",
    "\n",
    "# stage 데이터 추가\n",
    "for file_num in range(1, 19):\n",
    "    problem_file = fr'C:\\Users\\hsh80\\Desktop\\LG CNS\\stage1_problems\\STAGE1_{file_num}.json'\n",
    "\n",
    "    problem_files.append(problem_file)\n",
    "\n",
    "results = []\n",
    "for problem_file in problem_files:\n",
    "    start_time = time.time()\n",
    "\n",
    "    testcase_name = problem_file.split('\\\\')[-1].split('.')[0]\n",
    "\n",
    "    ## ------------------- 기본 변수 할당 ---------------------------\n",
    "\n",
    "    with open(problem_file, 'r') as f:\n",
    "        prob = json.load(f)\n",
    "\n",
    "    K = prob['K']\n",
    "\n",
    "    ALL_ORDERS = [Order(order_info) for order_info in prob['ORDERS']]\n",
    "    ALL_RIDERS = [Rider(rider_info) for rider_info in prob['RIDERS']]\n",
    "\n",
    "    DIST = np.array(prob['DIST'])\n",
    "    for r in ALL_RIDERS:\n",
    "        r.T = np.round(DIST/r.speed + r.service_time).astype(int)\n",
    "\n",
    "    inf = float('inf')\n",
    "\n",
    "    timelimit = 60\n",
    "\n",
    "    ## --------------------- 커스텀 코드 시작 ---------------------------\n",
    "\n",
    "    solution = algorithm(K, ALL_ORDERS, ALL_RIDERS, DIST, timelimit)\n",
    "\n",
    "    end_time = time.time()\n",
    "    process_time = end_time - start_time\n",
    "\n",
    "    with open(problem_file, 'r') as f:\n",
    "        prob = json.load(f)\n",
    "\n",
    "    K = prob['K']\n",
    "\n",
    "    ALL_ORDERS = [Order(order_info) for order_info in prob['ORDERS']]\n",
    "    ALL_RIDERS = [Rider(rider_info) for rider_info in prob['RIDERS']]\n",
    "\n",
    "    DIST = np.array(prob['DIST'])\n",
    "    for r in ALL_RIDERS:\n",
    "        r.T = np.round(DIST/r.speed + r.service_time).astype(int)\n",
    "\n",
    "    checked_solution = solution_check(K, ALL_ORDERS, ALL_RIDERS, DIST, solution)\n",
    "\n",
    "    print(problem_file)\n",
    "\n",
    "    results.append((problem_file, checked_solution['avg_cost']))\n",
    "\n",
    "    print(testcase_name, process_time)\n",
    "\n",
    "df = pd.DataFrame(results, columns=['Name', 'Score'])\n",
    "\n",
    "df.to_csv('8-3_bundling_opt_ver2.csv', index=False, encoding='utf-8-sig')"
   ]
  }
 ],
 "metadata": {
  "kernelspec": {
   "display_name": "Python 3 (ipykernel)",
   "language": "python",
   "name": "python3"
  },
  "language_info": {
   "codemirror_mode": {
    "name": "ipython",
    "version": 3
   },
   "file_extension": ".py",
   "mimetype": "text/x-python",
   "name": "python",
   "nbconvert_exporter": "python",
   "pygments_lexer": "ipython3",
   "version": "3.10.13"
  }
 },
 "nbformat": 4,
 "nbformat_minor": 4
}
