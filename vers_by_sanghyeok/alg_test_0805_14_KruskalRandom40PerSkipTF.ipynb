{
 "cells": [
  {
   "cell_type": "code",
   "execution_count": 1,
   "metadata": {},
   "outputs": [],
   "source": [
    "%load_ext autoreload\n",
    "%autoreload 2\n",
    "\n",
    "from util_0805_14 import *\n",
    "from myalgorithm_0805_14 import algorithm"
   ]
  },
  {
   "cell_type": "markdown",
   "metadata": {},
   "source": [
    "## 실험 내용\n",
    "1. 크루스칼 돌릴 때 40% 랜덤으로 건너뛰고 전체 커버 -> 랜덤순 대신 랜덤 -> 전체 커버 방식 사용"
   ]
  },
  {
   "cell_type": "code",
   "execution_count": 2,
   "metadata": {},
   "outputs": [
    {
     "name": "stdout",
     "output_type": "stream",
     "text": [
      "TEST_K50_1 56.25225353240967 3605.758\n",
      "TEST_K50_2 56.13757014274597 4081.2960000000003\n",
      "TEST_K100_1 56.55645394325256 3460.4960000000005\n",
      "TEST_K100_2 56.23292779922485 3526.11\n",
      "TEST_K200_1 56.51402997970581 3400.912999999999\n",
      "TEST_K200_2 56.42195415496826 3333.655\n",
      "STAGE1_1 56.26816487312317 3728.1240000000007\n",
      "STAGE1_2 56.363136291503906 3335.0199999999986\n",
      "STAGE1_3 56.51814579963684 3081.918999999999\n",
      "STAGE1_4 56.69062662124634 2744.528499999999\n",
      "STAGE1_5 57.13333439826965 2344.4640000000004\n",
      "STAGE1_6 56.716649770736694 2553.8\n",
      "STAGE1_7 56.13361072540283 3532.644\n",
      "STAGE1_8 56.09747242927551 3285.414\n",
      "STAGE1_9 56.20680236816406 3187.5649999999987\n",
      "STAGE1_10 56.20421075820923 2590.5115000000005\n",
      "STAGE1_11 56.69197869300842 2567.873333333334\n",
      "STAGE1_12 56.450984954833984 2563.4210000000003\n",
      "STAGE1_13 56.0658655166626 4945.643999999999\n",
      "STAGE1_14 56.05536484718323 4132.382\n",
      "STAGE1_15 56.22034001350403 4356.550999999999\n",
      "STAGE1_16 56.10205149650574 3395.777\n",
      "STAGE1_17 56.638161182403564 3580.271000000001\n",
      "STAGE1_18 56.75378751754761 3673.209666666666\n"
     ]
    }
   ],
   "source": [
    "import pandas as pd\n",
    "\n",
    "# 기본 데이터셋 추가\n",
    "data_sizes = [50, 100, 200]\n",
    "problem_files = []\n",
    "for data_size in data_sizes:\n",
    "    problem_files.append(fr'C:\\Users\\hsh80\\Desktop\\LG CNS\\alg_test_problems_20240429\\TEST_K{data_size}_1.json')\n",
    "    problem_files.append(fr'C:\\Users\\hsh80\\Desktop\\LG CNS\\alg_test_problems_20240429\\TEST_K{data_size}_2.json')\n",
    "\n",
    "# stage 데이터 추가\n",
    "for file_num in range(1, 19):\n",
    "    problem_file = fr'C:\\Users\\hsh80\\Desktop\\LG CNS\\stage1_problems\\STAGE1_{file_num}.json'\n",
    "\n",
    "    problem_files.append(problem_file)\n",
    "\n",
    "results = []\n",
    "solutions = []\n",
    "for problem_file in problem_files:\n",
    "    start_time = time.time()\n",
    "\n",
    "    testcase_name = problem_file.split('\\\\')[-1].split('.')[0]\n",
    "\n",
    "    ## ------------------- 기본 변수 할당 ---------------------------\n",
    "\n",
    "    with open(problem_file, 'r') as f:\n",
    "        prob = json.load(f)\n",
    "\n",
    "    K = prob['K']\n",
    "\n",
    "    ALL_ORDERS = [Order(order_info) for order_info in prob['ORDERS']]\n",
    "    ALL_RIDERS = [Rider(rider_info) for rider_info in prob['RIDERS']]\n",
    "\n",
    "    DIST = np.array(prob['DIST'])\n",
    "    for r in ALL_RIDERS:\n",
    "        r.T = np.round(DIST/r.speed + r.service_time).astype(int)\n",
    "\n",
    "    inf = float('inf')\n",
    "\n",
    "    timelimit = 60\n",
    "\n",
    "    ## --------------------- 커스텀 코드 시작 ---------------------------\n",
    "\n",
    "    solution = algorithm(K, ALL_ORDERS, ALL_RIDERS, DIST, timelimit)\n",
    "    solutions.append(solution)\n",
    "\n",
    "    end_time = time.time()\n",
    "    process_time = end_time - start_time\n",
    "\n",
    "    with open(problem_file, 'r') as f:\n",
    "        prob = json.load(f)\n",
    "\n",
    "    K = prob['K']\n",
    "\n",
    "    ALL_ORDERS = [Order(order_info) for order_info in prob['ORDERS']]\n",
    "    ALL_RIDERS = [Rider(rider_info) for rider_info in prob['RIDERS']]\n",
    "\n",
    "    DIST = np.array(prob['DIST'])\n",
    "    for r in ALL_RIDERS:\n",
    "        r.T = np.round(DIST/r.speed + r.service_time).astype(int)\n",
    "\n",
    "    checked_solution = solution_check(K, ALL_ORDERS, ALL_RIDERS, DIST, solution)\n",
    "\n",
    "    results.append((problem_file, checked_solution['avg_cost']))\n",
    "\n",
    "    print(testcase_name, process_time, checked_solution['avg_cost'])\n",
    "\n",
    "df = pd.DataFrame(results, columns=['Name', 'Score'])\n",
    "\n",
    "df.to_csv('8-5_KruskalRandom40PerSkipTF.csv', index=False, encoding='utf-8-sig')"
   ]
  }
 ],
 "metadata": {
  "kernelspec": {
   "display_name": "Python 3 (ipykernel)",
   "language": "python",
   "name": "python3"
  },
  "language_info": {
   "codemirror_mode": {
    "name": "ipython",
    "version": 3
   },
   "file_extension": ".py",
   "mimetype": "text/x-python",
   "name": "python",
   "nbconvert_exporter": "python",
   "pygments_lexer": "ipython3",
   "version": "3.10.13"
  }
 },
 "nbformat": 4,
 "nbformat_minor": 4
}
