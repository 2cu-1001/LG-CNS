{
 "cells": [
  {
   "cell_type": "code",
   "execution_count": 2,
   "metadata": {},
   "outputs": [
    {
     "name": "stdout",
     "output_type": "stream",
     "text": [
      "The autoreload extension is already loaded. To reload it, use:\n",
      "  %reload_ext autoreload\n"
     ]
    }
   ],
   "source": [
    "%load_ext autoreload\n",
    "%autoreload 2\n",
    "\n",
    "from util_0803_8 import *\n",
    "from myalgorithm_0803_6 import algorithm\n",
    "\n",
    "import pandas as pd"
   ]
  },
  {
   "cell_type": "markdown",
   "metadata": {},
   "source": [
    "## 실험 내용\n",
    "1. SA 부분의 cook_time -> ready_time"
   ]
  },
  {
   "cell_type": "code",
   "execution_count": 3,
   "metadata": {},
   "outputs": [
    {
     "name": "stdout",
     "output_type": "stream",
     "text": [
      "C:\\Users\\hsh80\\Desktop\\LG CNS\\alg_test_problems_20240429\\TEST_K50_1.json\n",
      "TEST_K50_1 56.131139278411865\n",
      "C:\\Users\\hsh80\\Desktop\\LG CNS\\alg_test_problems_20240429\\TEST_K50_2.json\n",
      "TEST_K50_2 56.196813106536865\n",
      "C:\\Users\\hsh80\\Desktop\\LG CNS\\alg_test_problems_20240429\\TEST_K100_1.json\n",
      "TEST_K100_1 56.437522649765015\n",
      "C:\\Users\\hsh80\\Desktop\\LG CNS\\alg_test_problems_20240429\\TEST_K100_2.json\n",
      "TEST_K100_2 56.290993452072144\n",
      "C:\\Users\\hsh80\\Desktop\\LG CNS\\alg_test_problems_20240429\\TEST_K200_1.json\n",
      "TEST_K200_1 56.42667579650879\n",
      "C:\\Users\\hsh80\\Desktop\\LG CNS\\alg_test_problems_20240429\\TEST_K200_2.json\n",
      "TEST_K200_2 56.00521373748779\n",
      "C:\\Users\\hsh80\\Desktop\\LG CNS\\stage1_problems\\STAGE1_1.json\n",
      "STAGE1_1 55.91630148887634\n",
      "C:\\Users\\hsh80\\Desktop\\LG CNS\\stage1_problems\\STAGE1_2.json\n",
      "STAGE1_2 55.97134208679199\n",
      "C:\\Users\\hsh80\\Desktop\\LG CNS\\stage1_problems\\STAGE1_3.json\n",
      "STAGE1_3 56.00983238220215\n",
      "C:\\Users\\hsh80\\Desktop\\LG CNS\\stage1_problems\\STAGE1_4.json\n",
      "STAGE1_4 56.037024974823\n",
      "C:\\Users\\hsh80\\Desktop\\LG CNS\\stage1_problems\\STAGE1_5.json\n",
      "STAGE1_5 56.25673794746399\n",
      "C:\\Users\\hsh80\\Desktop\\LG CNS\\stage1_problems\\STAGE1_6.json\n",
      "STAGE1_6 56.15639686584473\n",
      "C:\\Users\\hsh80\\Desktop\\LG CNS\\stage1_problems\\STAGE1_7.json\n",
      "STAGE1_7 55.86818170547485\n",
      "C:\\Users\\hsh80\\Desktop\\LG CNS\\stage1_problems\\STAGE1_8.json\n",
      "STAGE1_8 55.83010911941528\n",
      "C:\\Users\\hsh80\\Desktop\\LG CNS\\stage1_problems\\STAGE1_9.json\n",
      "STAGE1_9 55.986552715301514\n",
      "C:\\Users\\hsh80\\Desktop\\LG CNS\\stage1_problems\\STAGE1_10.json\n",
      "STAGE1_10 56.01579570770264\n",
      "C:\\Users\\hsh80\\Desktop\\LG CNS\\stage1_problems\\STAGE1_11.json\n",
      "STAGE1_11 56.13835096359253\n",
      "C:\\Users\\hsh80\\Desktop\\LG CNS\\stage1_problems\\STAGE1_12.json\n",
      "STAGE1_12 56.089271545410156\n",
      "C:\\Users\\hsh80\\Desktop\\LG CNS\\stage1_problems\\STAGE1_13.json\n",
      "STAGE1_13 55.84604454040527\n",
      "C:\\Users\\hsh80\\Desktop\\LG CNS\\stage1_problems\\STAGE1_14.json\n",
      "STAGE1_14 55.88045120239258\n",
      "C:\\Users\\hsh80\\Desktop\\LG CNS\\stage1_problems\\STAGE1_15.json\n",
      "STAGE1_15 56.156935691833496\n",
      "C:\\Users\\hsh80\\Desktop\\LG CNS\\stage1_problems\\STAGE1_16.json\n",
      "STAGE1_16 56.00614094734192\n",
      "C:\\Users\\hsh80\\Desktop\\LG CNS\\stage1_problems\\STAGE1_17.json\n",
      "STAGE1_17 56.075072288513184\n",
      "C:\\Users\\hsh80\\Desktop\\LG CNS\\stage1_problems\\STAGE1_18.json\n",
      "STAGE1_18 56.375879764556885\n"
     ]
    }
   ],
   "source": [
    "# 기본 데이터셋 추가\n",
    "data_sizes = [50, 100, 200]\n",
    "problem_files = []\n",
    "for data_size in data_sizes:\n",
    "    problem_files.append(fr'C:\\Users\\hsh80\\Desktop\\LG CNS\\alg_test_problems_20240429\\TEST_K{data_size}_1.json')\n",
    "    problem_files.append(fr'C:\\Users\\hsh80\\Desktop\\LG CNS\\alg_test_problems_20240429\\TEST_K{data_size}_2.json')\n",
    "\n",
    "# stage 데이터 추가\n",
    "for file_num in range(1, 19):\n",
    "    problem_file = fr'C:\\Users\\hsh80\\Desktop\\LG CNS\\stage1_problems\\STAGE1_{file_num}.json'\n",
    "\n",
    "    problem_files.append(problem_file)\n",
    "\n",
    "results = []\n",
    "for problem_file in problem_files:\n",
    "    start_time = time.time()\n",
    "\n",
    "    testcase_name = problem_file.split('\\\\')[-1].split('.')[0]\n",
    "\n",
    "    ## ------------------- 기본 변수 할당 ---------------------------\n",
    "\n",
    "    with open(problem_file, 'r') as f:\n",
    "        prob = json.load(f)\n",
    "\n",
    "    K = prob['K']\n",
    "\n",
    "    ALL_ORDERS = [Order(order_info) for order_info in prob['ORDERS']]\n",
    "    ALL_RIDERS = [Rider(rider_info) for rider_info in prob['RIDERS']]\n",
    "\n",
    "    DIST = np.array(prob['DIST'])\n",
    "    for r in ALL_RIDERS:\n",
    "        r.T = np.round(DIST/r.speed + r.service_time).astype(int)\n",
    "\n",
    "    inf = float('inf')\n",
    "\n",
    "    timelimit = 60\n",
    "\n",
    "    ## --------------------- 커스텀 코드 시작 ---------------------------\n",
    "\n",
    "    solution = algorithm(K, ALL_ORDERS, ALL_RIDERS, DIST, timelimit)\n",
    "\n",
    "    end_time = time.time()\n",
    "    process_time = end_time - start_time\n",
    "\n",
    "    with open(problem_file, 'r') as f:\n",
    "        prob = json.load(f)\n",
    "\n",
    "    K = prob['K']\n",
    "\n",
    "    ALL_ORDERS = [Order(order_info) for order_info in prob['ORDERS']]\n",
    "    ALL_RIDERS = [Rider(rider_info) for rider_info in prob['RIDERS']]\n",
    "\n",
    "    DIST = np.array(prob['DIST'])\n",
    "    for r in ALL_RIDERS:\n",
    "        r.T = np.round(DIST/r.speed + r.service_time).astype(int)\n",
    "\n",
    "    checked_solution = solution_check(K, ALL_ORDERS, ALL_RIDERS, DIST, solution)\n",
    "\n",
    "    print(problem_file)\n",
    "\n",
    "    results.append((problem_file, checked_solution['avg_cost']))\n",
    "\n",
    "    print(testcase_name, process_time)\n",
    "\n",
    "df = pd.DataFrame(results, columns=['Name', 'Score'])\n",
    "\n",
    "df.to_csv('8-3_bundling_opt_ver2_SAReady_time.csv', index=False, encoding='utf-8-sig')"
   ]
  }
 ],
 "metadata": {
  "kernelspec": {
   "display_name": "Python 3 (ipykernel)",
   "language": "python",
   "name": "python3"
  },
  "language_info": {
   "codemirror_mode": {
    "name": "ipython",
    "version": 3
   },
   "file_extension": ".py",
   "mimetype": "text/x-python",
   "name": "python",
   "nbconvert_exporter": "python",
   "pygments_lexer": "ipython3",
   "version": "3.10.13"
  }
 },
 "nbformat": 4,
 "nbformat_minor": 4
}
