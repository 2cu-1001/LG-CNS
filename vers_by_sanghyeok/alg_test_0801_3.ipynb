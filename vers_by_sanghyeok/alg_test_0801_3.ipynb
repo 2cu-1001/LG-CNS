{
 "cells": [
  {
   "cell_type": "code",
   "execution_count": 43,
   "metadata": {},
   "outputs": [
    {
     "name": "stdout",
     "output_type": "stream",
     "text": [
      "The autoreload extension is already loaded. To reload it, use:\n",
      "  %reload_ext autoreload\n"
     ]
    }
   ],
   "source": [
    "%load_ext autoreload\n",
    "%autoreload 2\n",
    "\n",
    "from util_0701 import *\n",
    "# from myalgorithm_0801_1 import algorithm\n",
    "\n",
    "from collections import Counter\n",
    "import pickle\n",
    "\n",
    "import pandas as pd\n",
    "\n",
    "import matplotlib as mpl\n",
    "from matplotlib import pyplot\n",
    "import numpy as np\n",
    "import seaborn as sns"
   ]
  },
  {
   "cell_type": "markdown",
   "metadata": {},
   "source": [
    "## 실험 내용\n",
    "\n",
    "- 라이더의 조건과 출발지, 도착지 특징이 변경되었을 때 최적의 가중치 조합이 어떻게 달라지는지 확인하기"
   ]
  },
  {
   "cell_type": "markdown",
   "metadata": {},
   "source": [
    "### 데이터셋별 라이더 특징 비교"
   ]
  },
  {
   "cell_type": "code",
   "execution_count": 36,
   "metadata": {},
   "outputs": [],
   "source": [
    "# 기본 데이터셋 추가\n",
    "data_sizes = [50, 100, 200]\n",
    "problem_files = []\n",
    "for data_size in data_sizes:\n",
    "    problem_files.append(fr'C:\\Users\\hsh80\\Desktop\\LG CNS\\alg_test_problems_20240429\\TEST_K{data_size}_1.json')\n",
    "    problem_files.append(fr'C:\\Users\\hsh80\\Desktop\\LG CNS\\alg_test_problems_20240429\\TEST_K{data_size}_2.json')\n",
    "\n",
    "# stage 데이터 추가\n",
    "for file_num in range(1, 19):\n",
    "    problem_file = fr'C:\\Users\\hsh80\\Desktop\\LG CNS\\stage1_problems\\STAGE1_{file_num}.json'\n",
    "\n",
    "    problem_files.append(problem_file)\n",
    "\n",
    "rider_infos = []\n",
    "rider_fixed_cost_infos = []\n",
    "K_infos = []\n",
    "for problem_file in problem_files:\n",
    "    with open(problem_file, 'r') as f:\n",
    "        prob = json.load(f)\n",
    "\n",
    "    K = prob['K']\n",
    "    ALL_RIDERS = [Rider(rider_info) for rider_info in prob['RIDERS']]\n",
    "\n",
    "    rider_info = []\n",
    "    rider_fixed_cost_info = []\n",
    "\n",
    "    for v in ALL_RIDERS:\n",
    "        rider_info.append(v)\n",
    "        rider_fixed_cost_info.append(v.fixed_cost)\n",
    "        \n",
    "    rider_infos.append(rider_info)\n",
    "    rider_fixed_cost_infos.append(rider_fixed_cost_info)\n",
    "\n",
    "    K_infos.append(K)"
   ]
  },
  {
   "cell_type": "markdown",
   "metadata": {},
   "source": [
    "> rider_info 확인 결과 가용한 수량과 고정 비용을 제외하면 모든 테스트 케이스에서 동일함. 그러므로 고정 비용의 변화로 인한 최적 가중치의 변화 결과를 확인하는게 가장 효과적으로 보임"
   ]
  },
  {
   "cell_type": "code",
   "execution_count": 23,
   "metadata": {},
   "outputs": [],
   "source": [
    "# for v in rider_fixed_cost_infos:\n",
    "#     print(v)"
   ]
  },
  {
   "cell_type": "code",
   "execution_count": 60,
   "metadata": {},
   "outputs": [
    {
     "name": "stdout",
     "output_type": "stream",
     "text": [
      "{(6000, 6000, 6000), (5000, 5000, 5000), (9000, 4000, 5000), (8000, 8000, 6000)}\n"
     ]
    }
   ],
   "source": [
    "rider_fixed_cost_comb_st = set([tuple(v) for v in rider_fixed_cost_infos])\n",
    "\n",
    "print(rider_fixed_cost_comb_st)"
   ]
  },
  {
   "cell_type": "markdown",
   "metadata": {},
   "source": [
    "### 라이더의 조건과 출발지, 도착지 특징이 변경되었을 때 최적의 가중치 조합이 어떻게 달라지는지 확인"
   ]
  },
  {
   "cell_type": "code",
   "execution_count": 70,
   "metadata": {},
   "outputs": [
    {
     "name": "stdout",
     "output_type": "stream",
     "text": [
      "STAGE1_1\n",
      "Rider([BIKE, 5.291005291005291, 100, 60, 8000, 120, 20])\n",
      "Rider([WALK, 1.3227513227513228, 70, 30, 8000, 120, 30])\n",
      "Rider([CAR, 4.2328042328042335, 200, 100, 6000, 180, 100])\n",
      "100\n"
     ]
    }
   ],
   "source": [
    "\n",
    "problem_file = r'C:/Users/hsh80/Desktop/LG CNS/stage1_problems/STAGE1_1.json'\n",
    "# problem_file = '../alg_test_problems_20240429/TEST_K50_2.json'\n",
    "\n",
    "test_case_name = problem_file.split('/')[-1].split('.')[0]\n",
    "print(test_case_name)\n",
    "\n",
    "with open(problem_file, 'r') as f:\n",
    "    prob = json.load(f)\n",
    "\n",
    "K = prob['K']\n",
    "ALL_RIDERS = [Rider(rider_info) for rider_info in prob['RIDERS']]\n",
    "\n",
    "for v in ALL_RIDERS:\n",
    "    print(v)\n",
    "\n",
    "print(K)"
   ]
  },
  {
   "cell_type": "code",
   "execution_count": 71,
   "metadata": {},
   "outputs": [
    {
     "data": {
      "text/plain": [
       "'8000 8000 6000'"
      ]
     },
     "execution_count": 71,
     "metadata": {},
     "output_type": "execute_result"
    }
   ],
   "source": [
    "rider_fixed_cost_str = ' '.join([str(rider.fixed_cost) for rider in ALL_RIDERS])\n",
    "rider_fixed_cost_str"
   ]
  },
  {
   "cell_type": "code",
   "execution_count": 72,
   "metadata": {},
   "outputs": [
    {
     "name": "stdout",
     "output_type": "stream",
     "text": [
      "STAGE1_1 (6000, 6000, 6000)\n",
      "0 0.5 1 1.5 2 \n",
      "STAGE1_1 (5000, 5000, 5000)\n",
      "0 0.5 1 1.5 2 \n",
      "STAGE1_1 (9000, 4000, 5000)\n",
      "0 0.5 1 1.5 2 \n",
      "STAGE1_1 (8000, 8000, 6000)\n",
      "0 0.5 1 1.5 2 \n"
     ]
    }
   ],
   "source": [
    "for rider_cost_comb in rider_fixed_cost_comb_st:\n",
    "    ## ------------------- 초기 상태 할당 코드 -------------------------\n",
    "\n",
    "    with open(problem_file, 'r') as f:\n",
    "        prob = json.load(f)\n",
    "\n",
    "    K = prob['K']\n",
    "\n",
    "    ALL_ORDERS = [Order(order_info) for order_info in prob['ORDERS']]\n",
    "    ALL_RIDERS = [Rider(rider_info) for rider_info in prob['RIDERS']]\n",
    "    for i in range(3):\n",
    "        ALL_RIDERS[i].fixed_cost = rider_cost_comb[i]\n",
    "    rider_fixed_cost_str = ' '.join([str(rider.fixed_cost) for rider in ALL_RIDERS])\n",
    "\n",
    "    DIST = np.array(prob['DIST'])\n",
    "    for r in ALL_RIDERS:\n",
    "        r.T = np.round(DIST/r.speed + r.service_time).astype(int)\n",
    "\n",
    "    ## --------------- 초기 번들링 최적화 코드 --------------------------\n",
    "\n",
    "    inf = float('inf')\n",
    "\n",
    "    car_rider = [rider for rider in ALL_RIDERS if rider.type == 'CAR'][0]\n",
    "    bike_rider = [rider for rider in ALL_RIDERS if rider.type == 'BIKE'][0]\n",
    "    walk_rider = [rider for rider in ALL_RIDERS if rider.type == 'WALK'][0]\n",
    "\n",
    "    init_availables = [rider.available_number for rider in ALL_RIDERS]\n",
    "\n",
    "    weight_experiment_data = []\n",
    "    weight1_grid = [0, 0.5, 1, 1.5, 2]\n",
    "    weight2_grid = [-3, -2.5, -2, -1.5, -1, -0.5, 0]\n",
    "\n",
    "    print(test_case_name, rider_cost_comb)\n",
    "    \n",
    "    for weight1 in weight1_grid:\n",
    "        print(weight1, end=' ')\n",
    "        for weight2 in weight2_grid:\n",
    "            bundles, result_rider_availables, cost = get_init_bundle_4_order_bundle_prefered_with_reassigning_riders(K, ALL_RIDERS, ALL_ORDERS, DIST, init_availables, weight1, weight2)\n",
    "            weight_experiment_data.append((weight1, weight2, cost))\n",
    "    print()\n",
    "\n",
    "    with open(f'alg_test_0801_cost_by_weights/{test_case_name}-{rider_fixed_cost_str}.pickle', 'wb') as file:\n",
    "        pickle.dump(weight_experiment_data, file)"
   ]
  },
  {
   "cell_type": "code",
   "execution_count": null,
   "metadata": {},
   "outputs": [],
   "source": [
    "for rider_cost_comb in rider_fixed_cost_comb_st:\n",
    "    rider_fixed_cost_str = ' '.join(map(str, rider_cost_comb))\n",
    "    \n",
    "    with open(f'alg_test_0801_cost_by_weights/{test_case_name}-{rider_fixed_cost_str}.pickle', 'rb') as file:\n",
    "        weight_experiment_data = pickle.load(file)\n",
    "\n",
    "    weight1_grid = [0, 0.5, 1, 1.5, 2]\n",
    "    weight2_grid = [-3, -2.5, -2, -1.5, -1, -0.5, 0]\n",
    "\n",
    "    weight_experiment_data.sort()\n",
    "\n",
    "    weight_experiment_data2 = []\n",
    "    labels = []\n",
    "    temp_labels = []\n",
    "    temp_data = []\n",
    "    for _, _, v in weight_experiment_data:\n",
    "        temp_data.append(v)\n",
    "        temp_labels.append(str(int(v / 10)))\n",
    "\n",
    "        if len(temp_labels) == len(weight2_grid):\n",
    "            weight_experiment_data2.append(temp_data)\n",
    "            labels.append(temp_labels)\n",
    "\n",
    "            temp_data = []\n",
    "            temp_labels = []\n",
    "\n",
    "    weight_experiment_data2.reverse()\n",
    "    labels.reverse()\n",
    "\n",
    "    data_df = pd.DataFrame(data=weight_experiment_data2, columns=weight2_grid, index=reversed(weight1_grid))\n",
    "    plt.figure(figsize=(12, 11))\n",
    "\n",
    "    plt.title(f'{test_case_name}\\n\\n{rider_fixed_cost_str}\\n')\n",
    "\n",
    "    ax = sns.heatmap(data_df, cmap=\"inferno\", annot=labels, annot_kws={'fontsize': 16}, fmt='s')\n",
    "    ax.set_xlabel('Weight 2')\n",
    "    ax.set_ylabel('Weight 1')\n",
    "\n",
    "    # plt.show()\n",
    "    plt.savefig(f'alg_test_0801_cost_by_weights_visualized/{test_case_name}-{rider_fixed_cost_str}.png', bbox_inches='tight')"
   ]
  },
  {
   "cell_type": "markdown",
   "metadata": {},
   "source": [
    "> 고정 비용이 모두 5000이나 6000일 때는 비슷하나, 그 외는 달라지는 경우가 많았다."
   ]
  }
 ],
 "metadata": {
  "kernelspec": {
   "display_name": "Python 3 (ipykernel)",
   "language": "python",
   "name": "python3"
  },
  "language_info": {
   "codemirror_mode": {
    "name": "ipython",
    "version": 3
   },
   "file_extension": ".py",
   "mimetype": "text/x-python",
   "name": "python",
   "nbconvert_exporter": "python",
   "pygments_lexer": "ipython3",
   "version": "3.10.13"
  }
 },
 "nbformat": 4,
 "nbformat_minor": 4
}
