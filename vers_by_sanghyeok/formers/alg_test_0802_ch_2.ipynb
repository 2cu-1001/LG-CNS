{
 "cells": [
  {
   "cell_type": "code",
   "execution_count": 9,
   "metadata": {},
   "outputs": [
    {
     "name": "stdout",
     "output_type": "stream",
     "text": [
      "The autoreload extension is already loaded. To reload it, use:\n",
      "  %reload_ext autoreload\n"
     ]
    }
   ],
   "source": [
    "%load_ext autoreload\n",
    "%autoreload 2\n",
    "\n",
    "from util_0802_ch_2 import *\n",
    "from myalgorithm_0802_ch_2 import algorithm\n",
    "\n",
    "import pandas as pd"
   ]
  },
  {
   "cell_type": "code",
   "execution_count": 10,
   "metadata": {},
   "outputs": [
    {
     "name": "stdout",
     "output_type": "stream",
     "text": [
      "SA start\n",
      "C:\\Users\\hsh80\\Desktop\\LG CNS\\alg_test_problems_20240429\\TEST_K50_1.json\n",
      "SA start\n",
      "C:\\Users\\hsh80\\Desktop\\LG CNS\\alg_test_problems_20240429\\TEST_K50_2.json\n",
      "SA start\n",
      "C:\\Users\\hsh80\\Desktop\\LG CNS\\alg_test_problems_20240429\\TEST_K100_1.json\n",
      "SA start\n",
      "C:\\Users\\hsh80\\Desktop\\LG CNS\\alg_test_problems_20240429\\TEST_K100_2.json\n",
      "SA start\n",
      "C:\\Users\\hsh80\\Desktop\\LG CNS\\alg_test_problems_20240429\\TEST_K200_1.json\n",
      "SA start\n",
      "C:\\Users\\hsh80\\Desktop\\LG CNS\\alg_test_problems_20240429\\TEST_K200_2.json\n",
      "SA start\n",
      "C:\\Users\\hsh80\\Desktop\\LG CNS\\stage1_problems\\STAGE1_1.json\n",
      "SA start\n",
      "C:\\Users\\hsh80\\Desktop\\LG CNS\\stage1_problems\\STAGE1_2.json\n",
      "SA start\n",
      "C:\\Users\\hsh80\\Desktop\\LG CNS\\stage1_problems\\STAGE1_3.json\n",
      "SA start\n",
      "C:\\Users\\hsh80\\Desktop\\LG CNS\\stage1_problems\\STAGE1_4.json\n",
      "SA start\n",
      "C:\\Users\\hsh80\\Desktop\\LG CNS\\stage1_problems\\STAGE1_5.json\n",
      "SA start\n",
      "C:\\Users\\hsh80\\Desktop\\LG CNS\\stage1_problems\\STAGE1_6.json\n",
      "SA start\n",
      "C:\\Users\\hsh80\\Desktop\\LG CNS\\stage1_problems\\STAGE1_7.json\n",
      "SA start\n",
      "C:\\Users\\hsh80\\Desktop\\LG CNS\\stage1_problems\\STAGE1_8.json\n",
      "SA start\n",
      "C:\\Users\\hsh80\\Desktop\\LG CNS\\stage1_problems\\STAGE1_9.json\n",
      "SA start\n",
      "C:\\Users\\hsh80\\Desktop\\LG CNS\\stage1_problems\\STAGE1_10.json\n",
      "SA start\n",
      "C:\\Users\\hsh80\\Desktop\\LG CNS\\stage1_problems\\STAGE1_11.json\n",
      "SA start\n",
      "C:\\Users\\hsh80\\Desktop\\LG CNS\\stage1_problems\\STAGE1_12.json\n",
      "SA start\n",
      "C:\\Users\\hsh80\\Desktop\\LG CNS\\stage1_problems\\STAGE1_13.json\n",
      "SA start\n",
      "C:\\Users\\hsh80\\Desktop\\LG CNS\\stage1_problems\\STAGE1_14.json\n",
      "SA start\n",
      "C:\\Users\\hsh80\\Desktop\\LG CNS\\stage1_problems\\STAGE1_15.json\n",
      "SA start\n",
      "C:\\Users\\hsh80\\Desktop\\LG CNS\\stage1_problems\\STAGE1_16.json\n",
      "SA start\n",
      "C:\\Users\\hsh80\\Desktop\\LG CNS\\stage1_problems\\STAGE1_17.json\n",
      "SA start\n",
      "C:\\Users\\hsh80\\Desktop\\LG CNS\\stage1_problems\\STAGE1_18.json\n"
     ]
    }
   ],
   "source": [
    "# 기본 데이터셋 추가\n",
    "data_sizes = [50, 100, 200]\n",
    "problem_files = []\n",
    "for data_size in data_sizes:\n",
    "    problem_files.append(fr'C:\\Users\\hsh80\\Desktop\\LG CNS\\alg_test_problems_20240429\\TEST_K{data_size}_1.json')\n",
    "    problem_files.append(fr'C:\\Users\\hsh80\\Desktop\\LG CNS\\alg_test_problems_20240429\\TEST_K{data_size}_2.json')\n",
    "\n",
    "# stage 데이터 추가\n",
    "for file_num in range(1, 19):\n",
    "    problem_file = fr'C:\\Users\\hsh80\\Desktop\\LG CNS\\stage1_problems\\STAGE1_{file_num}.json'\n",
    "\n",
    "    problem_files.append(problem_file)\n",
    "\n",
    "results = []\n",
    "for problem_file in problem_files:\n",
    "    ## ------------------- 기본 변수 할당 ---------------------------\n",
    "\n",
    "    with open(problem_file, 'r') as f:\n",
    "        prob = json.load(f)\n",
    "\n",
    "    K = prob['K']\n",
    "\n",
    "    ALL_ORDERS = [Order(order_info) for order_info in prob['ORDERS']]\n",
    "    ALL_RIDERS = [Rider(rider_info) for rider_info in prob['RIDERS']]\n",
    "\n",
    "    DIST = np.array(prob['DIST'])\n",
    "    for r in ALL_RIDERS:\n",
    "        r.T = np.round(DIST/r.speed + r.service_time).astype(int)\n",
    "\n",
    "    inf = float('inf')\n",
    "\n",
    "    timelimit = 60\n",
    "\n",
    "    ## --------------------- 커스텀 코드 시작 ---------------------------\n",
    "\n",
    "    solution = algorithm(K, ALL_ORDERS, ALL_RIDERS, DIST, timelimit)\n",
    "\n",
    "    with open(problem_file, 'r') as f:\n",
    "        prob = json.load(f)\n",
    "\n",
    "    K = prob['K']\n",
    "\n",
    "    ALL_ORDERS = [Order(order_info) for order_info in prob['ORDERS']]\n",
    "    ALL_RIDERS = [Rider(rider_info) for rider_info in prob['RIDERS']]\n",
    "\n",
    "    DIST = np.array(prob['DIST'])\n",
    "    for r in ALL_RIDERS:\n",
    "        r.T = np.round(DIST/r.speed + r.service_time).astype(int)\n",
    "\n",
    "    checked_solution = solution_check(K, ALL_ORDERS, ALL_RIDERS, DIST, solution)\n",
    "\n",
    "    print(problem_file)\n",
    "\n",
    "    results.append((problem_file, checked_solution['avg_cost']))\n",
    "\n",
    "df = pd.DataFrame(results, columns=['Name', 'Score'])\n",
    "\n",
    "df.to_csv('8-2_ch_OrderCoupleChecked.csv', index=False, encoding='utf-8-sig')"
   ]
  },
  {
   "cell_type": "code",
   "execution_count": null,
   "metadata": {},
   "outputs": [],
   "source": []
  }
 ],
 "metadata": {
  "kernelspec": {
   "display_name": "Python 3 (ipykernel)",
   "language": "python",
   "name": "python3"
  },
  "language_info": {
   "codemirror_mode": {
    "name": "ipython",
    "version": 3
   },
   "file_extension": ".py",
   "mimetype": "text/x-python",
   "name": "python",
   "nbconvert_exporter": "python",
   "pygments_lexer": "ipython3",
   "version": "3.10.13"
  }
 },
 "nbformat": 4,
 "nbformat_minor": 4
}
