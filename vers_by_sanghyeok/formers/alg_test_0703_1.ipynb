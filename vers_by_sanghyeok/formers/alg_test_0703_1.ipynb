{
 "cells": [
  {
   "cell_type": "code",
   "execution_count": 3,
   "metadata": {},
   "outputs": [],
   "source": [
    "%load_ext autoreload\n",
    "%autoreload 2\n",
    "\n",
    "from util_0703 import *"
   ]
  },
  {
   "cell_type": "markdown",
   "metadata": {},
   "source": [
    "- 실험해볼 내용들\n",
    "\n",
    "1. 3중 for문으로 3번들을 묶으면 어떨까?\n",
    "2. 좌표간 거리 계산에 유클리드 거리 대신에 민코프스키 거리를 사용하면 어떨까?\n",
    "3. 초기 최적화 종료 후 인접한 번들끼리 원소를 교환해보면 어떨까?"
   ]
  },
  {
   "cell_type": "code",
   "execution_count": 4,
   "metadata": {},
   "outputs": [],
   "source": [
    "problem_file = '../alg_test_problems_20240429/TEST_K100_1.json'\n",
    "# problem_file = '../alg_test_problems_20240429/TEST_K100_2.json'\n",
    "# problem_file = r'C:\\Users\\hsh80\\Desktop\\LG CNS\\stage1_problems\\STAGE1_18.json'"
   ]
  },
  {
   "cell_type": "markdown",
   "metadata": {},
   "source": [
    "## 3중 for문으로 3번들을 우선적으로 묶기"
   ]
  },
  {
   "cell_type": "code",
   "execution_count": 5,
   "metadata": {},
   "outputs": [],
   "source": [
    "## ------------------- 초기 상태 할당 코드 -------------------------\n",
    "\n",
    "with open(problem_file, 'r') as f:\n",
    "    prob = json.load(f)\n",
    "\n",
    "K = prob['K']\n",
    "\n",
    "ALL_ORDERS = [Order(order_info) for order_info in prob['ORDERS']]\n",
    "ALL_RIDERS = [Rider(rider_info) for rider_info in prob['RIDERS']]\n",
    "\n",
    "DIST = np.array(prob['DIST'])\n",
    "for r in ALL_RIDERS:\n",
    "    r.T = np.round(DIST/r.speed + r.service_time).astype(int)\n",
    "\n",
    "is_used = [False] * K\n",
    "all_bundles = []\n",
    "for i in range(K):\n",
    "    if is_used[i]:\n",
    "        continue\n",
    "    for j in range(i + 1, K):\n",
    "        if is_used[i] or is_used[j]:\n",
    "            continue\n",
    "        for k in range(j + 1, K):\n",
    "            if is_used[i] or is_used[j] or is_used[k]:\n",
    "                continue\n",
    "            \n",
    "            new_bundle = try_feasible_route_and_rider(K, DIST, ALL_ORDERS, ALL_RIDERS, [i, j, k])\n",
    "\n",
    "            if new_bundle is not None:\n",
    "                is_used[i] = is_used[j] = is_used[k] = True\n",
    "\n",
    "                all_bundles.append(new_bundle)\n",
    "\n",
    "                new_bundle.rider.available_number -= 1\n",
    "                \n",
    "for i in range(K):\n",
    "    if is_used[i]:\n",
    "        continue\n",
    "    for j in range(j + 1, K):\n",
    "        if is_used[i] or is_used[j]:\n",
    "            continue          \n",
    "\n",
    "        new_bundle = try_feasible_route_and_rider(K, DIST, ALL_ORDERS, ALL_RIDERS, [i, j])\n",
    "\n",
    "        if new_bundle is not None:\n",
    "            is_used[i] = is_used[j] = True\n",
    "\n",
    "            all_bundles.append(new_bundle)\n",
    "\n",
    "            new_bundle.rider.available_number -= 1\n",
    "\n",
    "for i in range(K):\n",
    "    if is_used[i]:\n",
    "        continue\n",
    "\n",
    "    new_bundle = try_feasible_route_and_rider(K, DIST, ALL_ORDERS, ALL_RIDERS, [i])\n",
    "\n",
    "    if new_bundle is not None:\n",
    "        is_used[i] = True\n",
    "\n",
    "        all_bundles.append(new_bundle)\n",
    "\n",
    "        new_bundle.rider.available_number -= 1    \n"
   ]
  },
  {
   "cell_type": "code",
   "execution_count": 64,
   "metadata": {},
   "outputs": [
    {
     "name": "stdout",
     "output_type": "stream",
     "text": [
      "4175.757999999999\n"
     ]
    }
   ],
   "source": [
    "# ## ----------------- 커스텀 배달원 재할당 코드 -----------------------\n",
    "\n",
    "all_bundles, rider_availables = check_reassign_riders(K, ALL_ORDERS, ALL_RIDERS, DIST, init_availables, all_bundles)\n",
    "for rider_i in range(3):\n",
    "    ALL_RIDERS[rider_i].available_number = rider_availables[rider_i]\n",
    "\n",
    "## -------------- 솔루션 제작 및 실현 가능성 확인 코드 ---------------- \n",
    "\n",
    "solution = [\n",
    "        # rider type, shop_seq, dlv_seq\n",
    "        [bundle.rider.type, bundle.shop_seq, bundle.dlv_seq]\n",
    "        for bundle in all_bundles\n",
    "]\n",
    "\n",
    "with open(problem_file, 'r') as f:\n",
    "    prob = json.load(f)\n",
    "\n",
    "K = prob['K']\n",
    "\n",
    "ALL_ORDERS = [Order(order_info) for order_info in prob['ORDERS']]\n",
    "ALL_RIDERS = [Rider(rider_info) for rider_info in prob['RIDERS']]\n",
    "\n",
    "DIST = np.array(prob['DIST'])\n",
    "for r in ALL_RIDERS:\n",
    "    r.T = np.round(DIST/r.speed + r.service_time).astype(int)\n",
    "\n",
    "checked_solution = solution_check(K, ALL_ORDERS, ALL_RIDERS, DIST, solution)\n",
    "\n",
    "print(checked_solution['avg_cost'])\n"
   ]
  },
  {
   "cell_type": "markdown",
   "metadata": {},
   "source": [
    "> 3, 2개 순으로 다중 반복문을 이용해서 묶은 결과 비용이 많이 낮아지긴 했지만 크루스칼 방식에 비해서 더 좋은 결과가 나오지는 않았다."
   ]
  }
 ],
 "metadata": {
  "kernelspec": {
   "display_name": "Python 3 (ipykernel)",
   "language": "python",
   "name": "python3"
  },
  "language_info": {
   "codemirror_mode": {
    "name": "ipython",
    "version": 3
   },
   "file_extension": ".py",
   "mimetype": "text/x-python",
   "name": "python",
   "nbconvert_exporter": "python",
   "pygments_lexer": "ipython3",
   "version": "3.10.13"
  }
 },
 "nbformat": 4,
 "nbformat_minor": 4
}
