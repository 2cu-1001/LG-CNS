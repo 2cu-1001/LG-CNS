{
 "cells": [
  {
   "cell_type": "code",
   "execution_count": 7,
   "metadata": {},
   "outputs": [
    {
     "name": "stdout",
     "output_type": "stream",
     "text": [
      "The autoreload extension is already loaded. To reload it, use:\n",
      "  %reload_ext autoreload\n"
     ]
    }
   ],
   "source": [
    "%load_ext autoreload\n",
    "%autoreload 2\n",
    "\n",
    "from util_0729 import *\n",
    "from myalgorithm_0729_1 import algorithm"
   ]
  },
  {
   "cell_type": "markdown",
   "metadata": {},
   "source": [
    "## 실험 내용"
   ]
  },
  {
   "cell_type": "code",
   "execution_count": 2,
   "metadata": {},
   "outputs": [
    {
     "name": "stdout",
     "output_type": "stream",
     "text": [
      "Rider([BIKE, 5.291005291005291, 100, 60, 5000, 120, 20])\n",
      "Rider([WALK, 1.3227513227513228, 70, 30, 5000, 120, 30])\n",
      "Rider([CAR, 4.2328042328042335, 200, 100, 5000, 180, 100])\n",
      "100\n"
     ]
    }
   ],
   "source": [
    "\n",
    "# problem_file = r'C:\\Users\\hsh80\\Desktop\\LG CNS\\stage1_problems\\STAGE1_5.json'\n",
    "problem_file = '../alg_test_problems_20240429/TEST_K100_1.json'\n",
    "\n",
    "with open(problem_file, 'r') as f:\n",
    "    prob = json.load(f)\n",
    "\n",
    "K = prob['K']\n",
    "ALL_RIDERS = [Rider(rider_info) for rider_info in prob['RIDERS']]\n",
    "\n",
    "for v in ALL_RIDERS:\n",
    "    print(v)\n",
    "\n",
    "print(K)"
   ]
  },
  {
   "cell_type": "code",
   "execution_count": 21,
   "metadata": {},
   "outputs": [
    {
     "name": "stderr",
     "output_type": "stream",
     "text": [
      "c:\\Users\\hsh80\\.conda\\envs\\ogc2024\\lib\\site-packages\\sklearn\\cluster\\_kmeans.py:1412: FutureWarning: The default value of `n_init` will change from 10 to 'auto' in 1.4. Set the value of `n_init` explicitly to suppress the warning\n",
      "  super()._check_params_vs_input(X, default_n_init=10)\n",
      "c:\\Users\\hsh80\\.conda\\envs\\ogc2024\\lib\\site-packages\\sklearn\\cluster\\_kmeans.py:1436: UserWarning: KMeans is known to have a memory leak on Windows with MKL, when there are less chunks than available threads. You can avoid it by setting the environment variable OMP_NUM_THREADS=1.\n",
      "  warnings.warn(\n"
     ]
    },
    {
     "name": "stdout",
     "output_type": "stream",
     "text": [
      "{0, 1, 2, 3, 4, 5, 6, 7, 8, 9, 10, 11, 12, 13, 14, 15, 16, 17, 18, 19, 20, 21, 22, 23, 24, 25, 26, 27, 28, 29, 30, 31, 32, 33, 34, 35, 36, 37, 38, 39, 40, 41, 42, 43, 44, 45, 46, 47, 48, 49, 50, 51, 52, 53, 54, 55, 56, 57, 58, 59, 60, 61, 62, 63, 64, 65, 66, 67, 68, 69, 70, 71, 72, 73, 74, 75, 76, 77, 78, 79, 80, 81, 82, 83, 84, 85, 86, 87, 88, 89, 90, 91, 92, 93, 94, 95, 96, 97, 98, 99} [Bundle(all_orders, CAR, [0], [0], 28, True), Bundle(all_orders, CAR, [1], [1], 40, True), Bundle(all_orders, CAR, [2], [2], 40, True), Bundle(all_orders, CAR, [3], [3], 40, True), Bundle(all_orders, CAR, [4], [4], 13, True), Bundle(all_orders, CAR, [5], [5], 25, True), Bundle(all_orders, CAR, [6], [6], 14, True), Bundle(all_orders, CAR, [7], [7], 30, True), Bundle(all_orders, CAR, [8], [8], 34, True), Bundle(all_orders, CAR, [9], [9], 20, True), Bundle(all_orders, CAR, [10], [10], 32, True), Bundle(all_orders, CAR, [11], [11], 16, True), Bundle(all_orders, CAR, [12], [12], 20, True), Bundle(all_orders, CAR, [13], [13], 14, True), Bundle(all_orders, CAR, [14], [14], 48, True), Bundle(all_orders, CAR, [15], [15], 21, True), Bundle(all_orders, CAR, [16], [16], 28, True), Bundle(all_orders, CAR, [17], [17], 15, True), Bundle(all_orders, CAR, [18], [18], 23, True), Bundle(all_orders, CAR, [19], [19], 100, True), Bundle(all_orders, CAR, [20], [20], 13, True), Bundle(all_orders, CAR, [21], [21], 86, True), Bundle(all_orders, CAR, [22], [22], 35, True), Bundle(all_orders, CAR, [23], [23], 28, True), Bundle(all_orders, CAR, [24], [24], 12, True), Bundle(all_orders, CAR, [25], [25], 23, True), Bundle(all_orders, CAR, [26], [26], 28, True), Bundle(all_orders, CAR, [27], [27], 27, True), Bundle(all_orders, CAR, [28], [28], 42, True), Bundle(all_orders, CAR, [29], [29], 18, True), Bundle(all_orders, CAR, [30], [30], 47, True), Bundle(all_orders, CAR, [31], [31], 22, True), Bundle(all_orders, CAR, [32], [32], 28, True), Bundle(all_orders, CAR, [33], [33], 24, True), Bundle(all_orders, CAR, [34], [34], 39, True), Bundle(all_orders, CAR, [35], [35], 34, True), Bundle(all_orders, CAR, [36], [36], 40, True), Bundle(all_orders, CAR, [37], [37], 21, True), Bundle(all_orders, CAR, [38], [38], 26, True), Bundle(all_orders, CAR, [39], [39], 34, True), Bundle(all_orders, CAR, [40], [40], 18, True), Bundle(all_orders, CAR, [41], [41], 13, True), Bundle(all_orders, CAR, [42], [42], 27, True), Bundle(all_orders, CAR, [43], [43], 30, True), Bundle(all_orders, CAR, [44], [44], 25, True), Bundle(all_orders, CAR, [45], [45], 18, True), Bundle(all_orders, CAR, [46], [46], 100, True), Bundle(all_orders, CAR, [47], [47], 31, True), Bundle(all_orders, CAR, [48], [48], 16, True), Bundle(all_orders, CAR, [49], [49], 23, True), Bundle(all_orders, CAR, [50], [50], 16, True), Bundle(all_orders, CAR, [51], [51], 31, True), Bundle(all_orders, CAR, [52], [52], 24, True), Bundle(all_orders, CAR, [53], [53], 19, True), Bundle(all_orders, CAR, [54], [54], 24, True), Bundle(all_orders, CAR, [55], [55], 42, True), Bundle(all_orders, CAR, [56], [56], 36, True), Bundle(all_orders, CAR, [57], [57], 60, True), Bundle(all_orders, CAR, [58], [58], 27, True), Bundle(all_orders, CAR, [59], [59], 26, True), Bundle(all_orders, CAR, [60], [60], 12, True), Bundle(all_orders, CAR, [61], [61], 25, True), Bundle(all_orders, CAR, [62], [62], 25, True), Bundle(all_orders, CAR, [63], [63], 16, True), Bundle(all_orders, CAR, [64], [64], 100, True), Bundle(all_orders, CAR, [65], [65], 20, True), Bundle(all_orders, CAR, [66], [66], 13, True), Bundle(all_orders, CAR, [67], [67], 32, True), Bundle(all_orders, CAR, [68], [68], 22, True), Bundle(all_orders, CAR, [69], [69], 35, True), Bundle(all_orders, CAR, [70], [70], 23, True), Bundle(all_orders, CAR, [71], [71], 15, True), Bundle(all_orders, CAR, [72], [72], 15, True), Bundle(all_orders, CAR, [73], [73], 35, True), Bundle(all_orders, CAR, [74], [74], 49, True), Bundle(all_orders, CAR, [75], [75], 26, True), Bundle(all_orders, CAR, [76], [76], 89, True), Bundle(all_orders, CAR, [77], [77], 38, True), Bundle(all_orders, CAR, [78], [78], 38, True), Bundle(all_orders, CAR, [79], [79], 88, True), Bundle(all_orders, CAR, [80], [80], 31, True), Bundle(all_orders, CAR, [81], [81], 52, True), Bundle(all_orders, CAR, [82], [82], 15, True), Bundle(all_orders, CAR, [83], [83], 20, True), Bundle(all_orders, CAR, [84], [84], 13, True), Bundle(all_orders, CAR, [85], [85], 33, True), Bundle(all_orders, CAR, [86], [86], 28, True), Bundle(all_orders, CAR, [87], [87], 56, True), Bundle(all_orders, CAR, [88], [88], 50, True), Bundle(all_orders, CAR, [89], [89], 43, True), Bundle(all_orders, CAR, [90], [90], 32, True), Bundle(all_orders, CAR, [91], [91], 24, True), Bundle(all_orders, CAR, [92], [92], 42, True), Bundle(all_orders, CAR, [93], [93], 33, True), Bundle(all_orders, CAR, [94], [94], 22, True), Bundle(all_orders, CAR, [95], [95], 20, True), Bundle(all_orders, CAR, [96], [96], 79, True), Bundle(all_orders, CAR, [97], [97], 14, True), Bundle(all_orders, CAR, [98], [98], 22, True), Bundle(all_orders, CAR, [99], [99], 22, True)]\n",
      "None\n",
      "None\n",
      "Order 1 deadline is violated!: 2698 > 2610\n",
      "Order 1 deadline is violated!: 2698 > 2610\n",
      "Order 1 deadline is violated!: 2698 > 2610\n",
      "Order 5 deadline is violated!: 3869 > 3405\n",
      "Order 5 deadline is violated!: 3869 > 3405\n",
      "Order 6 deadline is violated!: 3490 > 3077\n",
      "Order 6 deadline is violated!: 3490 > 3077\n",
      "Order 6 deadline is violated!: 3490 > 3077\n",
      "Order 43 deadline is violated!: 3749 > 3471\n",
      "Order 43 deadline is violated!: 3749 > 3471\n",
      "Order 43 deadline is violated!: 3749 > 3471\n",
      "Order 17 deadline is violated!: 3191 > 3145\n",
      "Order 23 deadline is violated!: 4081 > 3649\n",
      "Order 19 deadline is violated!: 3648 > 3506\n",
      "Order 20 deadline is violated!: 3327 > 3272\n",
      "Order 20 deadline is violated!: 3327 > 3272\n",
      "Order 20 deadline is violated!: 3327 > 3272\n",
      "Order 45 deadline is violated!: 4363 > 4185\n",
      "Order 45 deadline is violated!: 4363 > 4185\n",
      "Order 45 deadline is violated!: 4363 > 4185\n",
      "Order 45 deadline is violated!: 4363 > 4185\n",
      "Order 45 deadline is violated!: 4363 > 4185\n",
      "Order 46 deadline is violated!: 4934 > 4925\n",
      "Order 46 deadline is violated!: 4934 > 4925\n",
      "Order 50 deadline is violated!: 5122 > 4689\n",
      "Order 50 deadline is violated!: 5122 > 4689\n",
      "Order 53 deadline is violated!: 5066 > 5013\n",
      "Order 86 deadline is violated!: 5763 > 5682\n",
      "Order 86 deadline is violated!: 5763 > 5682\n",
      "Order 73 deadline is violated!: 5271 > 5224\n",
      "Order 72 deadline is violated!: 5002 > 4952\n",
      "Order 72 deadline is violated!: 5002 > 4952\n",
      "Order 72 deadline is violated!: 5002 > 4952\n",
      "Order 72 deadline is violated!: 5002 > 4952\n",
      "Order 99 deadline is violated!: 7494 > 7373\n",
      "Order 99 deadline is violated!: 7494 > 7373\n",
      "Order 90 deadline is violated!: 6336 > 5972\n",
      "Order 94 deadline is violated!: 5677 > 5654\n",
      "Order 94 deadline is violated!: 5677 > 5654\n",
      "Order 15 is NOT assigned!\n",
      "Order 15 is NOT assigned!\n"
     ]
    },
    {
     "ename": "KeyError",
     "evalue": "'avg_cost'",
     "output_type": "error",
     "traceback": [
      "\u001b[1;31m---------------------------------------------------------------------------\u001b[0m",
      "\u001b[1;31mKeyError\u001b[0m                                  Traceback (most recent call last)",
      "Cell \u001b[1;32mIn[21], line 37\u001b[0m\n\u001b[0;32m     33\u001b[0m     r\u001b[38;5;241m.\u001b[39mT \u001b[38;5;241m=\u001b[39m np\u001b[38;5;241m.\u001b[39mround(DIST\u001b[38;5;241m/\u001b[39mr\u001b[38;5;241m.\u001b[39mspeed \u001b[38;5;241m+\u001b[39m r\u001b[38;5;241m.\u001b[39mservice_time)\u001b[38;5;241m.\u001b[39mastype(\u001b[38;5;28mint\u001b[39m)\n\u001b[0;32m     35\u001b[0m checked_solution \u001b[38;5;241m=\u001b[39m solution_check(K, ALL_ORDERS, ALL_RIDERS, DIST, solution)\n\u001b[1;32m---> 37\u001b[0m \u001b[38;5;28mprint\u001b[39m(\u001b[43mchecked_solution\u001b[49m\u001b[43m[\u001b[49m\u001b[38;5;124;43m'\u001b[39;49m\u001b[38;5;124;43mavg_cost\u001b[39;49m\u001b[38;5;124;43m'\u001b[39;49m\u001b[43m]\u001b[49m)\n",
      "\u001b[1;31mKeyError\u001b[0m: 'avg_cost'"
     ]
    }
   ],
   "source": [
    "## ------------------- 기본 변수 할당 ---------------------------\n",
    "\n",
    "with open(problem_file, 'r') as f:\n",
    "    prob = json.load(f)\n",
    "\n",
    "K = prob['K']\n",
    "\n",
    "ALL_ORDERS = [Order(order_info) for order_info in prob['ORDERS']]\n",
    "ALL_RIDERS = [Rider(rider_info) for rider_info in prob['RIDERS']]\n",
    "\n",
    "DIST = np.array(prob['DIST'])\n",
    "for r in ALL_RIDERS:\n",
    "    r.T = np.round(DIST/r.speed + r.service_time).astype(int)\n",
    "\n",
    "inf = float('inf')\n",
    "\n",
    "timelimit = 10\n",
    "\n",
    "## --------------------- 커스텀 코드 시작 ---------------------------\n",
    "\n",
    "solution = algorithm(K, ALL_ORDERS, ALL_RIDERS, DIST, timelimit)\n",
    "\n",
    "with open(problem_file, 'r') as f:\n",
    "    prob = json.load(f)\n",
    "\n",
    "K = prob['K']\n",
    "\n",
    "ALL_ORDERS = [Order(order_info) for order_info in prob['ORDERS']]\n",
    "ALL_RIDERS = [Rider(rider_info) for rider_info in prob['RIDERS']]\n",
    "\n",
    "DIST = np.array(prob['DIST'])\n",
    "for r in ALL_RIDERS:\n",
    "    r.T = np.round(DIST/r.speed + r.service_time).astype(int)\n",
    "\n",
    "checked_solution = solution_check(K, ALL_ORDERS, ALL_RIDERS, DIST, solution)\n",
    "\n",
    "print(checked_solution['avg_cost'])"
   ]
  }
 ],
 "metadata": {
  "kernelspec": {
   "display_name": "Python 3 (ipykernel)",
   "language": "python",
   "name": "python3"
  },
  "language_info": {
   "codemirror_mode": {
    "name": "ipython",
    "version": 3
   },
   "file_extension": ".py",
   "mimetype": "text/x-python",
   "name": "python",
   "nbconvert_exporter": "python",
   "pygments_lexer": "ipython3",
   "version": "3.10.13"
  }
 },
 "nbformat": 4,
 "nbformat_minor": 4
}
