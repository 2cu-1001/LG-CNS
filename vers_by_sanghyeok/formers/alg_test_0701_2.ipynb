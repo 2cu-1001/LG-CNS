{
 "cells": [
  {
   "cell_type": "code",
   "execution_count": 3,
   "metadata": {},
   "outputs": [
    {
     "name": "stdout",
     "output_type": "stream",
     "text": [
      "The autoreload extension is already loaded. To reload it, use:\n",
      "  %reload_ext autoreload\n"
     ]
    }
   ],
   "source": [
    "%load_ext autoreload\n",
    "%autoreload 2\n",
    "\n",
    "\n",
    "from util_0701 import *\n",
    "from myalgorithm_0701_1 import algorithm\n",
    "\n",
    "import pandas as pd\n",
    "\n",
    "import pickle\n",
    "\n",
    "import matplotlib as mpl\n",
    "from matplotlib import pyplot\n",
    "import numpy as np\n",
    "import seaborn as sns"
   ]
  },
  {
   "cell_type": "markdown",
   "metadata": {},
   "source": [
    "- 실험해볼 내용들\n",
    "\n",
    "1. weight1과 weight2의 -6~6 범위 내의 0.5 단위 구간별 비용 정보를 pickle로 저장하기"
   ]
  },
  {
   "cell_type": "markdown",
   "metadata": {},
   "source": [
    "## 특정 데이터 실험"
   ]
  },
  {
   "cell_type": "code",
   "execution_count": 15,
   "metadata": {},
   "outputs": [],
   "source": [
    "test_case_name = 'TEST_K200_1'\n",
    "initializer_name = 'get_init_bundle_4_order_bundle_prefered_with_reassigning_riders'"
   ]
  },
  {
   "cell_type": "code",
   "execution_count": 16,
   "metadata": {},
   "outputs": [],
   "source": [
    "problem_file = f'../alg_test_problems_20240429/{test_case_name}.json'\n",
    "\n",
    "# problem_file = '../stage1_problems/STAGE1_18.json'"
   ]
  },
  {
   "cell_type": "code",
   "execution_count": null,
   "metadata": {},
   "outputs": [],
   "source": [
    "## ------------------- 초기 상태 할당 코드 -------------------------\n",
    "\n",
    "with open(problem_file, 'r') as f:\n",
    "    prob = json.load(f)\n",
    "\n",
    "K = prob['K']\n",
    "\n",
    "ALL_ORDERS = [Order(order_info) for order_info in prob['ORDERS']]\n",
    "ALL_RIDERS = [Rider(rider_info) for rider_info in prob['RIDERS']]\n",
    "\n",
    "DIST = np.array(prob['DIST'])\n",
    "for r in ALL_RIDERS:\n",
    "    r.T = np.round(DIST/r.speed + r.service_time).astype(int)\n",
    "\n",
    "## --------------- 초기 번들링 최적화 코드 --------------------------\n",
    "\n",
    "inf = float('inf')\n",
    "\n",
    "car_rider = [rider for rider in ALL_RIDERS if rider.type == 'CAR'][0]\n",
    "bike_rider = [rider for rider in ALL_RIDERS if rider.type == 'BIKE'][0]\n",
    "walk_rider = [rider for rider in ALL_RIDERS if rider.type == 'WALK'][0]\n",
    "\n",
    "init_availables = [rider.available_number for rider in ALL_RIDERS]\n",
    "\n",
    "weight_experiment_data = []\n",
    "grid = [-6, -5.5, -5, -4.5, -4, -3.5, -3, -2.5, -2, -1.5, -1, -0.5, 0, 0.5, 1, 1.5, 2, 2.5, 3, 3.5, 4, 4.5, 5, 5.5, 6]\n",
    "grid = [0, 1]\n",
    "\n",
    "print(test_case_name)\n",
    "for weight1 in grid:\n",
    "    print(weight1, end=' ')\n",
    "    for weight2 in grid:\n",
    "        bundles, result_rider_availables, cost = get_init_bundle_4_order_bundle_prefered_with_reassigning_riders(K, ALL_RIDERS, ALL_ORDERS, DIST, init_availables, weight1, weight2)\n",
    "        weight_experiment_data.append((weight1, weight2, cost))\n",
    "print()\n",
    "\n",
    "with open(f'alg_test_0701_cost_by_weights/{test_case_name}-{initializer_name}.pickle', 'wb') as file:\n",
    "    pickle.dump(weight_experiment_data, file)"
   ]
  },
  {
   "cell_type": "markdown",
   "metadata": {},
   "source": [
    "## 모든 test 데이터 실험"
   ]
  },
  {
   "cell_type": "code",
   "execution_count": 4,
   "metadata": {},
   "outputs": [],
   "source": [
    "problem_files = []\n",
    "test_case_names = []\n",
    "\n",
    "for k_value in [50, 100, 200]:\n",
    "    for num_value in [1, 2]:\n",
    "        test_case_name = f'TEST_K{k_value}_{num_value}'\n",
    "        test_case_names.append(test_case_name)\n",
    "\n",
    "        problem_file = f'../alg_test_problems_20240429/{test_case_name}.json'\n",
    "        problem_files.append(problem_file)\n",
    "\n",
    "for num_value in range(1, 19):\n",
    "    test_case_name = f'STAGE1_{num_value}'\n",
    "    test_case_names.append(test_case_name)\n",
    "\n",
    "    problem_file = f'../stage1_problems/STAGE1_{num_value}.json'\n",
    "    problem_files.append(problem_file)"
   ]
  },
  {
   "cell_type": "code",
   "execution_count": 5,
   "metadata": {},
   "outputs": [],
   "source": [
    "# problem_file = 'stage1_problems\\STAGE1_{stage_num}.json'"
   ]
  },
  {
   "cell_type": "code",
   "execution_count": 6,
   "metadata": {},
   "outputs": [
    {
     "name": "stdout",
     "output_type": "stream",
     "text": [
      "11: STAGE1_6\n",
      "-6 -5.5 -5 -4.5 -4 -3.5 -3 -2.5 -2 -1.5 -1 -0.5 0 0.5 1 1.5 2 2.5 3 3.5 4 4.5 5 5.5 6 \n",
      "12: STAGE1_7\n",
      "-6 -5.5 -5 -4.5 -4 -3.5 -3 -2.5 -2 -1.5 -1 -0.5 0 0.5 1 1.5 2 2.5 3 3.5 4 4.5 5 5.5 6 \n",
      "13: STAGE1_8\n",
      "-6 -5.5 -5 -4.5 -4 -3.5 -3 -2.5 -2 -1.5 -1 -0.5 0 0.5 1 1.5 2 2.5 3 3.5 4 4.5 5 5.5 6 \n",
      "14: STAGE1_9\n",
      "-6 -5.5 -5 -4.5 -4 -3.5 -3 -2.5 -2 -1.5 -1 -0.5 0 0.5 1 1.5 2 2.5 3 3.5 4 4.5 5 5.5 6 \n",
      "15: STAGE1_10\n",
      "-6 -5.5 -5 -4.5 -4 -3.5 -3 -2.5 -2 -1.5 -1 -0.5 0 0.5 1 1.5 2 2.5 3 3.5 4 4.5 5 5.5 6 \n",
      "16: STAGE1_11\n",
      "-6 -5.5 -5 -4.5 -4 -3.5 "
     ]
    },
    {
     "ename": "KeyboardInterrupt",
     "evalue": "",
     "output_type": "error",
     "traceback": [
      "\u001b[1;31m---------------------------------------------------------------------------\u001b[0m",
      "\u001b[1;31mKeyboardInterrupt\u001b[0m                         Traceback (most recent call last)",
      "Cell \u001b[1;32mIn[6], line 35\u001b[0m\n\u001b[0;32m     33\u001b[0m     \u001b[38;5;28mprint\u001b[39m(weight1, end\u001b[38;5;241m=\u001b[39m\u001b[38;5;124m'\u001b[39m\u001b[38;5;124m \u001b[39m\u001b[38;5;124m'\u001b[39m)\n\u001b[0;32m     34\u001b[0m     \u001b[38;5;28;01mfor\u001b[39;00m weight2 \u001b[38;5;129;01min\u001b[39;00m grid:\n\u001b[1;32m---> 35\u001b[0m         bundles, result_rider_availables, cost \u001b[38;5;241m=\u001b[39m \u001b[43mget_init_bundle_4_order_bundle_prefered_with_reassigning_riders\u001b[49m\u001b[43m(\u001b[49m\u001b[43mK\u001b[49m\u001b[43m,\u001b[49m\u001b[43m \u001b[49m\u001b[43mALL_RIDERS\u001b[49m\u001b[43m,\u001b[49m\u001b[43m \u001b[49m\u001b[43mALL_ORDERS\u001b[49m\u001b[43m,\u001b[49m\u001b[43m \u001b[49m\u001b[43mDIST\u001b[49m\u001b[43m,\u001b[49m\u001b[43m \u001b[49m\u001b[43minit_availables\u001b[49m\u001b[43m,\u001b[49m\u001b[43m \u001b[49m\u001b[43mweight1\u001b[49m\u001b[43m,\u001b[49m\u001b[43m \u001b[49m\u001b[43mweight2\u001b[49m\u001b[43m)\u001b[49m\n\u001b[0;32m     36\u001b[0m         weight_experiment_data\u001b[38;5;241m.\u001b[39mappend((weight1, weight2, cost))\n\u001b[0;32m     37\u001b[0m \u001b[38;5;28mprint\u001b[39m()\n",
      "File \u001b[1;32mc:\\Users\\hsh80\\Desktop\\LG CNS\\baseline_20240517\\util_0701.py:408\u001b[0m, in \u001b[0;36mget_init_bundle_4_order_bundle_prefered_with_reassigning_riders\u001b[1;34m(K, ALL_RIDERS, ALL_ORDERS, DIST, init_availables, weight1, weight2)\u001b[0m\n\u001b[0;32m    407\u001b[0m \u001b[38;5;28;01mdef\u001b[39;00m \u001b[38;5;21mget_init_bundle_4_order_bundle_prefered_with_reassigning_riders\u001b[39m(K, ALL_RIDERS, ALL_ORDERS, DIST, init_availables, weight1, weight2):\n\u001b[1;32m--> 408\u001b[0m     all_bundles, rider_availables, _ \u001b[38;5;241m=\u001b[39m \u001b[43mget_init_bundle_4_order_bundle_prefered\u001b[49m\u001b[43m(\u001b[49m\u001b[43mK\u001b[49m\u001b[43m,\u001b[49m\u001b[43m \u001b[49m\u001b[43mALL_RIDERS\u001b[49m\u001b[43m,\u001b[49m\u001b[43m \u001b[49m\u001b[43mALL_ORDERS\u001b[49m\u001b[43m,\u001b[49m\u001b[43m \u001b[49m\u001b[43mDIST\u001b[49m\u001b[43m,\u001b[49m\u001b[43m \u001b[49m\u001b[43minit_availables\u001b[49m\u001b[43m,\u001b[49m\u001b[43m \u001b[49m\u001b[43mweight1\u001b[49m\u001b[43m,\u001b[49m\u001b[43m \u001b[49m\u001b[43mweight2\u001b[49m\u001b[43m)\u001b[49m\n\u001b[0;32m    409\u001b[0m     \u001b[38;5;28;01mfor\u001b[39;00m rider_i \u001b[38;5;129;01min\u001b[39;00m \u001b[38;5;28mrange\u001b[39m(\u001b[38;5;241m3\u001b[39m):\n\u001b[0;32m    410\u001b[0m         ALL_RIDERS[rider_i]\u001b[38;5;241m.\u001b[39mavailable_number \u001b[38;5;241m=\u001b[39m rider_availables[rider_i]\n",
      "File \u001b[1;32mc:\\Users\\hsh80\\Desktop\\LG CNS\\baseline_20240517\\util_0701.py:235\u001b[0m, in \u001b[0;36mget_init_bundle_4_order_bundle_prefered\u001b[1;34m(K, ALL_RIDERS, ALL_ORDERS, DIST, init_availables, weight1, weight2)\u001b[0m\n\u001b[0;32m    232\u001b[0m all_bundles, _ \u001b[38;5;241m=\u001b[39m kruskal_bundling(K, DIST, ALL_ORDERS, ALL_RIDERS, weight1, weight2, try_merging_bundles_by_dist, \u001b[38;5;241m2\u001b[39m, \u001b[38;5;124m'\u001b[39m\u001b[38;5;124mtwo_seq\u001b[39m\u001b[38;5;124m'\u001b[39m, all_bundles)\n\u001b[0;32m    234\u001b[0m \u001b[38;5;66;03m# 4개 주문 묶음 생성\u001b[39;00m\n\u001b[1;32m--> 235\u001b[0m all_bundles, _ \u001b[38;5;241m=\u001b[39m \u001b[43mkruskal_bundling\u001b[49m\u001b[43m(\u001b[49m\u001b[43mK\u001b[49m\u001b[43m,\u001b[49m\u001b[43m \u001b[49m\u001b[43mDIST\u001b[49m\u001b[43m,\u001b[49m\u001b[43m \u001b[49m\u001b[43mALL_ORDERS\u001b[49m\u001b[43m,\u001b[49m\u001b[43m \u001b[49m\u001b[43mALL_RIDERS\u001b[49m\u001b[43m,\u001b[49m\u001b[43m \u001b[49m\u001b[43mweight1\u001b[49m\u001b[43m,\u001b[49m\u001b[43m \u001b[49m\u001b[43mweight2\u001b[49m\u001b[43m,\u001b[49m\u001b[43m \u001b[49m\u001b[43mtry_merging_bundles_by_dist\u001b[49m\u001b[43m,\u001b[49m\u001b[43m \u001b[49m\u001b[38;5;241;43m4\u001b[39;49m\u001b[43m,\u001b[49m\u001b[43m \u001b[49m\u001b[38;5;124;43m'\u001b[39;49m\u001b[38;5;124;43mavg\u001b[39;49m\u001b[38;5;124;43m'\u001b[39;49m\u001b[43m,\u001b[49m\u001b[43m \u001b[49m\u001b[43mall_bundles\u001b[49m\u001b[43m)\u001b[49m\n\u001b[0;32m    237\u001b[0m \u001b[38;5;66;03m# 2개 이하 주문이 묶인 번들을 전부 푼 다음 다시 생성\u001b[39;00m\n\u001b[0;32m    238\u001b[0m new_all_bundles \u001b[38;5;241m=\u001b[39m []\n",
      "File \u001b[1;32mc:\\Users\\hsh80\\Desktop\\LG CNS\\baseline_20240517\\util_0701.py:176\u001b[0m, in \u001b[0;36mkruskal_bundling\u001b[1;34m(K, DIST, ALL_ORDERS, ALL_RIDERS, weight1, weight2, bundle_merging_function, order_count_upper_limit, avg_method, all_bundles)\u001b[0m\n\u001b[0;32m    173\u001b[0m \u001b[38;5;28;01mif\u001b[39;00m rbn1 \u001b[38;5;241m==\u001b[39m rbn2:\n\u001b[0;32m    174\u001b[0m     \u001b[38;5;28;01mcontinue\u001b[39;00m\n\u001b[1;32m--> 176\u001b[0m new_bundle \u001b[38;5;241m=\u001b[39m \u001b[43mbundle_merging_function\u001b[49m\u001b[43m(\u001b[49m\u001b[43mK\u001b[49m\u001b[43m,\u001b[49m\u001b[43m \u001b[49m\u001b[43mDIST\u001b[49m\u001b[43m,\u001b[49m\u001b[43m \u001b[49m\u001b[43mALL_ORDERS\u001b[49m\u001b[43m,\u001b[49m\u001b[43m \u001b[49m\u001b[43mALL_RIDERS\u001b[49m\u001b[43m,\u001b[49m\u001b[43m \u001b[49m\u001b[43mall_bundles\u001b[49m\u001b[43m[\u001b[49m\u001b[43mrbn1\u001b[49m\u001b[43m]\u001b[49m\u001b[43m,\u001b[49m\u001b[43m \u001b[49m\u001b[43mall_bundles\u001b[49m\u001b[43m[\u001b[49m\u001b[43mrbn2\u001b[49m\u001b[43m]\u001b[49m\u001b[43m,\u001b[49m\u001b[43m \u001b[49m\u001b[43morder_count_upper_limit\u001b[49m\u001b[43m)\u001b[49m\n\u001b[0;32m    178\u001b[0m \u001b[38;5;28;01mif\u001b[39;00m new_bundle \u001b[38;5;129;01mis\u001b[39;00m \u001b[38;5;129;01mnot\u001b[39;00m \u001b[38;5;28;01mNone\u001b[39;00m:\n\u001b[0;32m    179\u001b[0m     all_bundles[rbn1]\u001b[38;5;241m.\u001b[39mrider\u001b[38;5;241m.\u001b[39mavailable_number \u001b[38;5;241m+\u001b[39m\u001b[38;5;241m=\u001b[39m \u001b[38;5;241m1\u001b[39m\n",
      "File \u001b[1;32mc:\\Users\\hsh80\\Desktop\\LG CNS\\baseline_20240517\\util_0701.py:509\u001b[0m, in \u001b[0;36mtry_merging_bundles_by_dist\u001b[1;34m(K, dist_mat, all_orders, all_riders, bundle1, bundle2, order_count_upper_limit, order_count_lower_limit)\u001b[0m\n\u001b[0;32m    507\u001b[0m \u001b[38;5;28;01mfor\u001b[39;00m shop_pem \u001b[38;5;129;01min\u001b[39;00m permutations(merged_orders):\n\u001b[0;32m    508\u001b[0m     \u001b[38;5;28;01mfor\u001b[39;00m dlv_pem \u001b[38;5;129;01min\u001b[39;00m permutations(merged_orders):\n\u001b[1;32m--> 509\u001b[0m         feasibility_check \u001b[38;5;241m=\u001b[39m \u001b[43mtest_route_feasibility\u001b[49m\u001b[43m(\u001b[49m\u001b[43mall_orders\u001b[49m\u001b[43m,\u001b[49m\u001b[43m \u001b[49m\u001b[43mrider\u001b[49m\u001b[43m,\u001b[49m\u001b[43m \u001b[49m\u001b[43mshop_pem\u001b[49m\u001b[43m,\u001b[49m\u001b[43m \u001b[49m\u001b[43mdlv_pem\u001b[49m\u001b[43m)\u001b[49m\n\u001b[0;32m    510\u001b[0m         \u001b[38;5;28;01mif\u001b[39;00m feasibility_check \u001b[38;5;241m==\u001b[39m \u001b[38;5;241m0\u001b[39m: \u001b[38;5;66;03m# feasible!\u001b[39;00m\n\u001b[0;32m    511\u001b[0m             total_dist \u001b[38;5;241m=\u001b[39m get_total_distance(K, dist_mat, shop_pem, dlv_pem)\n",
      "File \u001b[1;32mc:\\Users\\hsh80\\Desktop\\LG CNS\\baseline_20240517\\util_0701.py:469\u001b[0m, in \u001b[0;36mtest_route_feasibility\u001b[1;34m(all_orders, rider, shop_seq, dlv_seq)\u001b[0m\n\u001b[0;32m    467\u001b[0m \u001b[38;5;28;01mdef\u001b[39;00m \u001b[38;5;21mtest_route_feasibility\u001b[39m(all_orders, rider, shop_seq, dlv_seq):\n\u001b[1;32m--> 469\u001b[0m     total_vol \u001b[38;5;241m=\u001b[39m \u001b[43mget_total_volume\u001b[49m\u001b[43m(\u001b[49m\u001b[43mall_orders\u001b[49m\u001b[43m,\u001b[49m\u001b[43m \u001b[49m\u001b[43mshop_seq\u001b[49m\u001b[43m)\u001b[49m\n\u001b[0;32m    470\u001b[0m     \u001b[38;5;28;01mif\u001b[39;00m total_vol \u001b[38;5;241m>\u001b[39m rider\u001b[38;5;241m.\u001b[39mcapa:\n\u001b[0;32m    471\u001b[0m         \u001b[38;5;66;03m# Capacity overflow!\u001b[39;00m\n\u001b[0;32m    472\u001b[0m         \u001b[38;5;28;01mreturn\u001b[39;00m \u001b[38;5;241m-\u001b[39m\u001b[38;5;241m1\u001b[39m \u001b[38;5;66;03m# Capacity infeasibility\u001b[39;00m\n",
      "File \u001b[1;32mc:\\Users\\hsh80\\Desktop\\LG CNS\\baseline_20240517\\util_0701.py:422\u001b[0m, in \u001b[0;36mget_total_volume\u001b[1;34m(all_orders, shop_seq)\u001b[0m\n\u001b[0;32m    421\u001b[0m \u001b[38;5;28;01mdef\u001b[39;00m \u001b[38;5;21mget_total_volume\u001b[39m(all_orders, shop_seq):\n\u001b[1;32m--> 422\u001b[0m     \u001b[38;5;28;01mreturn\u001b[39;00m \u001b[38;5;28;43msum\u001b[39;49m\u001b[43m(\u001b[49m\u001b[43mall_orders\u001b[49m\u001b[43m[\u001b[49m\u001b[43mk\u001b[49m\u001b[43m]\u001b[49m\u001b[38;5;241;43m.\u001b[39;49m\u001b[43mvolume\u001b[49m\u001b[43m \u001b[49m\u001b[38;5;28;43;01mfor\u001b[39;49;00m\u001b[43m \u001b[49m\u001b[43mk\u001b[49m\u001b[43m \u001b[49m\u001b[38;5;129;43;01min\u001b[39;49;00m\u001b[43m \u001b[49m\u001b[43mshop_seq\u001b[49m\u001b[43m)\u001b[49m\n",
      "File \u001b[1;32mc:\\Users\\hsh80\\Desktop\\LG CNS\\baseline_20240517\\util_0701.py:422\u001b[0m, in \u001b[0;36m<genexpr>\u001b[1;34m(.0)\u001b[0m\n\u001b[0;32m    421\u001b[0m \u001b[38;5;28;01mdef\u001b[39;00m \u001b[38;5;21mget_total_volume\u001b[39m(all_orders, shop_seq):\n\u001b[1;32m--> 422\u001b[0m     \u001b[38;5;28;01mreturn\u001b[39;00m \u001b[38;5;28msum\u001b[39m(all_orders[k]\u001b[38;5;241m.\u001b[39mvolume \u001b[38;5;28;01mfor\u001b[39;00m k \u001b[38;5;129;01min\u001b[39;00m shop_seq)\n",
      "\u001b[1;31mKeyboardInterrupt\u001b[0m: "
     ]
    }
   ],
   "source": [
    "initializer_name = 'get_init_bundle_4_order_bundle_prefered_with_reassigning_riders'\n",
    "\n",
    "start = 11\n",
    "for test_i in range(start, len(test_case_names)):\n",
    "    test_case_name = test_case_names[test_i]\n",
    "    problem_file = problem_files[test_i]\n",
    "\n",
    "    with open(problem_file, 'r') as f:\n",
    "        prob = json.load(f)\n",
    "\n",
    "    K = prob['K']\n",
    "\n",
    "    ALL_ORDERS = [Order(order_info) for order_info in prob['ORDERS']]\n",
    "    ALL_RIDERS = [Rider(rider_info) for rider_info in prob['RIDERS']]\n",
    "\n",
    "    DIST = np.array(prob['DIST'])\n",
    "    for r in ALL_RIDERS:\n",
    "        r.T = np.round(DIST/r.speed + r.service_time).astype(int)\n",
    "\n",
    "    inf = float('inf')\n",
    "\n",
    "    car_rider = [rider for rider in ALL_RIDERS if rider.type == 'CAR'][0]\n",
    "    bike_rider = [rider for rider in ALL_RIDERS if rider.type == 'BIKE'][0]\n",
    "    walk_rider = [rider for rider in ALL_RIDERS if rider.type == 'WALK'][0]\n",
    "\n",
    "    init_availables = [rider.available_number for rider in ALL_RIDERS]\n",
    "\n",
    "    weight_experiment_data = []\n",
    "    grid = [-6, -5.5, -5, -4.5, -4, -3.5, -3, -2.5, -2, -1.5, -1, -0.5, 0, 0.5, 1, 1.5, 2, 2.5, 3, 3.5, 4, 4.5, 5, 5.5, 6]\n",
    "\n",
    "    print(f'{test_i}: {test_case_name}')\n",
    "    for weight1 in grid:\n",
    "        print(weight1, end=' ')\n",
    "        for weight2 in grid:\n",
    "            bundles, result_rider_availables, cost = get_init_bundle_4_order_bundle_prefered_with_reassigning_riders(K, ALL_RIDERS, ALL_ORDERS, DIST, init_availables, weight1, weight2)\n",
    "            weight_experiment_data.append((weight1, weight2, cost))\n",
    "    print()\n",
    "\n",
    "    with open(f'alg_test_0701_cost_by_weights/{test_case_name}-{initializer_name}.pickle', 'wb') as file:\n",
    "        pickle.dump(weight_experiment_data, file)\n",
    "                    \n"
   ]
  },
  {
   "cell_type": "code",
   "execution_count": 22,
   "metadata": {},
   "outputs": [
    {
     "data": {
      "text/plain": [
       "['TEST_K200_2',\n",
       " 'STAGE1_1',\n",
       " 'STAGE1_2',\n",
       " 'STAGE1_3',\n",
       " 'STAGE1_4',\n",
       " 'STAGE1_5',\n",
       " 'STAGE1_6',\n",
       " 'STAGE1_7',\n",
       " 'STAGE1_8',\n",
       " 'STAGE1_9',\n",
       " 'STAGE1_10',\n",
       " 'STAGE1_11',\n",
       " 'STAGE1_12',\n",
       " 'STAGE1_13',\n",
       " 'STAGE1_14',\n",
       " 'STAGE1_15',\n",
       " 'STAGE1_16',\n",
       " 'STAGE1_17',\n",
       " 'STAGE1_18']"
      ]
     },
     "execution_count": 22,
     "metadata": {},
     "output_type": "execute_result"
    }
   ],
   "source": [
    "test_case_names[5:]"
   ]
  }
 ],
 "metadata": {
  "kernelspec": {
   "display_name": "Python 3 (ipykernel)",
   "language": "python",
   "name": "python3"
  },
  "language_info": {
   "codemirror_mode": {
    "name": "ipython",
    "version": 3
   },
   "file_extension": ".py",
   "mimetype": "text/x-python",
   "name": "python",
   "nbconvert_exporter": "python",
   "pygments_lexer": "ipython3",
   "version": "3.10.13"
  }
 },
 "nbformat": 4,
 "nbformat_minor": 4
}
