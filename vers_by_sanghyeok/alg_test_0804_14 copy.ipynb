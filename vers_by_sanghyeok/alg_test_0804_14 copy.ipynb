{
 "cells": [
  {
   "cell_type": "markdown",
   "metadata": {},
   "source": [
    "## 실험 내용\n",
    "1. 멀티프로세싱 4번들 1개, 5번들 1개 (bundling_opt_ver1_5Orders3~5, bundling_opt_ver1_KruskalRandom_KCasework (alg_test_0803_13))"
   ]
  },
  {
   "cell_type": "markdown",
   "metadata": {},
   "source": [
    "### 모든 데이터셋 실험"
   ]
  },
  {
   "cell_type": "code",
   "execution_count": 1,
   "metadata": {},
   "outputs": [
    {
     "ename": "FileNotFoundError",
     "evalue": "[Errno 2] No such file or directory: 'C:\\\\Users\\\\hsh80\\\\Desktop\\\\LG CNS\\\\alg_test_problems_20240429\\\\TEST_K50_1.json'",
     "output_type": "error",
     "traceback": [
      "\u001b[1;31m---------------------------------------------------------------------------\u001b[0m",
      "\u001b[1;31mFileNotFoundError\u001b[0m                         Traceback (most recent call last)",
      "Cell \u001b[1;32mIn[1], line 31\u001b[0m\n\u001b[0;32m     27\u001b[0m testcase_name \u001b[38;5;241m=\u001b[39m problem_file\u001b[38;5;241m.\u001b[39msplit(\u001b[38;5;124m'\u001b[39m\u001b[38;5;130;01m\\\\\u001b[39;00m\u001b[38;5;124m'\u001b[39m)[\u001b[38;5;241m-\u001b[39m\u001b[38;5;241m1\u001b[39m]\u001b[38;5;241m.\u001b[39msplit(\u001b[38;5;124m'\u001b[39m\u001b[38;5;124m.\u001b[39m\u001b[38;5;124m'\u001b[39m)[\u001b[38;5;241m0\u001b[39m]\n\u001b[0;32m     29\u001b[0m \u001b[38;5;66;03m## ------------------- 기본 변수 할당 ---------------------------\u001b[39;00m\n\u001b[1;32m---> 31\u001b[0m \u001b[38;5;28;01mwith\u001b[39;00m \u001b[38;5;28;43mopen\u001b[39;49m\u001b[43m(\u001b[49m\u001b[43mproblem_file\u001b[49m\u001b[43m,\u001b[49m\u001b[43m \u001b[49m\u001b[38;5;124;43m'\u001b[39;49m\u001b[38;5;124;43mr\u001b[39;49m\u001b[38;5;124;43m'\u001b[39;49m\u001b[43m)\u001b[49m \u001b[38;5;28;01mas\u001b[39;00m f:\n\u001b[0;32m     32\u001b[0m     prob \u001b[38;5;241m=\u001b[39m json\u001b[38;5;241m.\u001b[39mload(f)\n\u001b[0;32m     34\u001b[0m K \u001b[38;5;241m=\u001b[39m prob[\u001b[38;5;124m'\u001b[39m\u001b[38;5;124mK\u001b[39m\u001b[38;5;124m'\u001b[39m]\n",
      "File \u001b[1;32m~\\AppData\\Roaming\\Python\\Python311\\site-packages\\IPython\\core\\interactiveshell.py:324\u001b[0m, in \u001b[0;36m_modified_open\u001b[1;34m(file, *args, **kwargs)\u001b[0m\n\u001b[0;32m    317\u001b[0m \u001b[38;5;28;01mif\u001b[39;00m file \u001b[38;5;129;01min\u001b[39;00m {\u001b[38;5;241m0\u001b[39m, \u001b[38;5;241m1\u001b[39m, \u001b[38;5;241m2\u001b[39m}:\n\u001b[0;32m    318\u001b[0m     \u001b[38;5;28;01mraise\u001b[39;00m \u001b[38;5;167;01mValueError\u001b[39;00m(\n\u001b[0;32m    319\u001b[0m         \u001b[38;5;124mf\u001b[39m\u001b[38;5;124m\"\u001b[39m\u001b[38;5;124mIPython won\u001b[39m\u001b[38;5;124m'\u001b[39m\u001b[38;5;124mt let you open fd=\u001b[39m\u001b[38;5;132;01m{\u001b[39;00mfile\u001b[38;5;132;01m}\u001b[39;00m\u001b[38;5;124m by default \u001b[39m\u001b[38;5;124m\"\u001b[39m\n\u001b[0;32m    320\u001b[0m         \u001b[38;5;124m\"\u001b[39m\u001b[38;5;124mas it is likely to crash IPython. If you know what you are doing, \u001b[39m\u001b[38;5;124m\"\u001b[39m\n\u001b[0;32m    321\u001b[0m         \u001b[38;5;124m\"\u001b[39m\u001b[38;5;124myou can use builtins\u001b[39m\u001b[38;5;124m'\u001b[39m\u001b[38;5;124m open.\u001b[39m\u001b[38;5;124m\"\u001b[39m\n\u001b[0;32m    322\u001b[0m     )\n\u001b[1;32m--> 324\u001b[0m \u001b[38;5;28;01mreturn\u001b[39;00m \u001b[43mio_open\u001b[49m\u001b[43m(\u001b[49m\u001b[43mfile\u001b[49m\u001b[43m,\u001b[49m\u001b[43m \u001b[49m\u001b[38;5;241;43m*\u001b[39;49m\u001b[43margs\u001b[49m\u001b[43m,\u001b[49m\u001b[43m \u001b[49m\u001b[38;5;241;43m*\u001b[39;49m\u001b[38;5;241;43m*\u001b[39;49m\u001b[43mkwargs\u001b[49m\u001b[43m)\u001b[49m\n",
      "\u001b[1;31mFileNotFoundError\u001b[0m: [Errno 2] No such file or directory: 'C:\\\\Users\\\\hsh80\\\\Desktop\\\\LG CNS\\\\alg_test_problems_20240429\\\\TEST_K50_1.json'"
     ]
    }
   ],
   "source": [
    "%load_ext autoreload\n",
    "%autoreload 2\n",
    "\n",
    "from util_0804_14 import *\n",
    "from myalgorithm_0804_14 import algorithm\n",
    "\n",
    "import pandas as pd\n",
    "\n",
    "# 기본 데이터셋 추가\n",
    "data_sizes = [50, 100, 200]\n",
    "problem_files = []\n",
    "for data_size in data_sizes:\n",
    "    problem_files.append(fr'C:\\Users\\cjfgh\\vscode\\LG-CNS\\stage\\TEST_K{data_size}_1.json')\n",
    "    problem_files.append(fr'C:\\Users\\cjfgh\\vscode\\LG-CNS\\stage\\TEST_K{data_size}_2.json')\n",
    "\n",
    "# stage 데이터 추가\n",
    "for file_num in range(1, 19):\n",
    "    problem_file = fr'C:\\Users\\cjfgh\\vscode\\LG-CNS\\stage\\STAGE1_{file_num}.json'\n",
    "\n",
    "    problem_files.append(problem_file)\n",
    "\n",
    "results = []\n",
    "solutions = []\n",
    "for problem_file in problem_files:\n",
    "    start_time = time.time()\n",
    "\n",
    "    testcase_name = problem_file.split('\\\\')[-1].split('.')[0]\n",
    "\n",
    "    ## ------------------- 기본 변수 할당 ---------------------------\n",
    "\n",
    "    with open(problem_file, 'r') as f:\n",
    "        prob = json.load(f)\n",
    "\n",
    "    K = prob['K']\n",
    "\n",
    "    ALL_ORDERS = [Order(order_info) for order_info in prob['ORDERS']]\n",
    "    ALL_RIDERS = [Rider(rider_info) for rider_info in prob['RIDERS']]\n",
    "\n",
    "    DIST = np.array(prob['DIST'])\n",
    "    for r in ALL_RIDERS:\n",
    "        r.T = np.round(DIST/r.speed + r.service_time).astype(int)\n",
    "\n",
    "    inf = float('inf')\n",
    "\n",
    "    timelimit = 60\n",
    "\n",
    "    ## --------------------- 커스텀 코드 시작 ---------------------------\n",
    "\n",
    "    solution = algorithm(K, ALL_ORDERS, ALL_RIDERS, DIST, timelimit)\n",
    "    solutions.append(solution)\n",
    "\n",
    "    end_time = time.time()\n",
    "    process_time = end_time - start_time\n",
    "\n",
    "    with open(problem_file, 'r') as f:\n",
    "        prob = json.load(f)\n",
    "\n",
    "    K = prob['K']\n",
    "\n",
    "    ALL_ORDERS = [Order(order_info) for order_info in prob['ORDERS']]\n",
    "    ALL_RIDERS = [Rider(rider_info) for rider_info in prob['RIDERS']]\n",
    "\n",
    "    DIST = np.array(prob['DIST'])\n",
    "    for r in ALL_RIDERS:\n",
    "        r.T = np.round(DIST/r.speed + r.service_time).astype(int)\n",
    "\n",
    "    checked_solution = solution_check(K, ALL_ORDERS, ALL_RIDERS, DIST, solution)\n",
    "\n",
    "    results.append((problem_file, checked_solution['avg_cost']))\n",
    "\n",
    "    print(testcase_name, process_time, checked_solution['avg_cost'])\n",
    "\n",
    "df = pd.DataFrame(results, columns=['Name', 'Score'])\n",
    "\n",
    "df.to_csv('8-4_MP_ver1.csv', index=False, encoding='utf-8-sig')"
   ]
  },
  {
   "cell_type": "code",
   "execution_count": null,
   "metadata": {},
   "outputs": [],
   "source": []
  }
 ],
 "metadata": {
  "kernelspec": {
   "display_name": "Python 3 (ipykernel)",
   "language": "python",
   "name": "python3"
  },
  "language_info": {
   "codemirror_mode": {
    "name": "ipython",
    "version": 3
   },
   "file_extension": ".py",
   "mimetype": "text/x-python",
   "name": "python",
   "nbconvert_exporter": "python",
   "pygments_lexer": "ipython3",
   "version": "3.11.7"
  }
 },
 "nbformat": 4,
 "nbformat_minor": 4
}
