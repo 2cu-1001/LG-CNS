{
 "cells": [
  {
   "cell_type": "code",
   "execution_count": 1,
   "metadata": {},
   "outputs": [],
   "source": [
    "%load_ext autoreload\n",
    "%autoreload 2\n",
    "\n",
    "from util_0805_13 import *\n",
    "from myalgorithm_0805_13 import algorithm"
   ]
  },
  {
   "cell_type": "markdown",
   "metadata": {},
   "source": [
    "## 실험 내용\n",
    "1. 크루스칼 돌릴 때 20% 랜덤으로 건너뛰는 랜덤 방식 사용"
   ]
  },
  {
   "cell_type": "code",
   "execution_count": 2,
   "metadata": {},
   "outputs": [
    {
     "name": "stdout",
     "output_type": "stream",
     "text": [
      "TEST_K50_1 56.0325722694397 3595.2280000000005\n",
      "TEST_K50_2 636.2599604129791 4116.094\n",
      "TEST_K100_1 56.35803413391113 3554.9790000000003\n",
      "TEST_K100_2 56.27521729469299 3645.9489999999996\n"
     ]
    },
    {
     "ename": "KeyboardInterrupt",
     "evalue": "",
     "output_type": "error",
     "traceback": [
      "\u001b[1;31m---------------------------------------------------------------------------\u001b[0m",
      "\u001b[1;31mKeyboardInterrupt\u001b[0m                         Traceback (most recent call last)",
      "Cell \u001b[1;32mIn[2], line 43\u001b[0m\n\u001b[0;32m     39\u001b[0m timelimit \u001b[38;5;241m=\u001b[39m \u001b[38;5;241m60\u001b[39m\n\u001b[0;32m     41\u001b[0m \u001b[38;5;66;03m## --------------------- 커스텀 코드 시작 ---------------------------\u001b[39;00m\n\u001b[1;32m---> 43\u001b[0m solution \u001b[38;5;241m=\u001b[39m \u001b[43malgorithm\u001b[49m\u001b[43m(\u001b[49m\u001b[43mK\u001b[49m\u001b[43m,\u001b[49m\u001b[43m \u001b[49m\u001b[43mALL_ORDERS\u001b[49m\u001b[43m,\u001b[49m\u001b[43m \u001b[49m\u001b[43mALL_RIDERS\u001b[49m\u001b[43m,\u001b[49m\u001b[43m \u001b[49m\u001b[43mDIST\u001b[49m\u001b[43m,\u001b[49m\u001b[43m \u001b[49m\u001b[43mtimelimit\u001b[49m\u001b[43m)\u001b[49m\n\u001b[0;32m     44\u001b[0m solutions\u001b[38;5;241m.\u001b[39mappend(solution)\n\u001b[0;32m     46\u001b[0m end_time \u001b[38;5;241m=\u001b[39m time\u001b[38;5;241m.\u001b[39mtime()\n",
      "File \u001b[1;32mc:\\Users\\hsh80\\Desktop\\LG CNS\\baseline_20240517\\myalgorithm_0805_13.py:167\u001b[0m, in \u001b[0;36malgorithm\u001b[1;34m(K, all_orders, all_riders, dist_mat, timelimit)\u001b[0m\n\u001b[0;32m    164\u001b[0m \u001b[38;5;28;01mif\u001b[39;00m cur_time \u001b[38;5;241m-\u001b[39m start_time \u001b[38;5;241m>\u001b[39m \u001b[38;5;241m30\u001b[39m:\n\u001b[0;32m    165\u001b[0m     \u001b[38;5;28;01mbreak\u001b[39;00m\n\u001b[1;32m--> 167\u001b[0m bundles, result_rider_availables, _ \u001b[38;5;241m=\u001b[39m \u001b[43mget_init_bundle\u001b[49m\u001b[43m(\u001b[49m\u001b[43mK\u001b[49m\u001b[43m,\u001b[49m\u001b[43m \u001b[49m\u001b[43mall_riders\u001b[49m\u001b[43m,\u001b[49m\u001b[43m \u001b[49m\u001b[43mall_orders\u001b[49m\u001b[43m,\u001b[49m\u001b[43m \u001b[49m\u001b[43mDIST\u001b[49m\u001b[43m,\u001b[49m\u001b[43m \u001b[49m\u001b[43minit_availables\u001b[49m\u001b[43m,\u001b[49m\u001b[43m \u001b[49m\u001b[43mweight1\u001b[49m\u001b[43m,\u001b[49m\u001b[43m \u001b[49m\u001b[43mweight2\u001b[49m\u001b[43m,\u001b[49m\u001b[43m \u001b[49m\u001b[43mweight3\u001b[49m\u001b[43m,\u001b[49m\u001b[43m \u001b[49m\u001b[43mtry_merging_bundles_by_dist_possibles_only\u001b[49m\u001b[43m,\u001b[49m\u001b[43m \u001b[49m\u001b[43morder_comb_possibility\u001b[49m\u001b[43m,\u001b[49m\u001b[43m \u001b[49m\u001b[43moptimized_order_perms\u001b[49m\u001b[43m,\u001b[49m\u001b[43m \u001b[49m\u001b[38;5;28;43;01mFalse\u001b[39;49;00m\u001b[43m,\u001b[49m\u001b[43m \u001b[49m\u001b[38;5;241;43m4\u001b[39;49m\u001b[43m)\u001b[49m\n\u001b[0;32m    168\u001b[0m \u001b[38;5;28;01mfor\u001b[39;00m rider_i \u001b[38;5;129;01min\u001b[39;00m \u001b[38;5;28mrange\u001b[39m(\u001b[38;5;241m3\u001b[39m):\n\u001b[0;32m    169\u001b[0m     ALL_RIDERS[rider_i]\u001b[38;5;241m.\u001b[39mavailable_number \u001b[38;5;241m=\u001b[39m result_rider_availables[rider_i]\n",
      "File \u001b[1;32mc:\\Users\\hsh80\\Desktop\\LG CNS\\baseline_20240517\\util_0805_13.py:290\u001b[0m, in \u001b[0;36mget_init_bundle\u001b[1;34m(K, ALL_RIDERS, ALL_ORDERS, DIST, init_availables, weight1, weight2, weight3, bundle_merging_function, order_comb_possibility, optimized_order_perms, is_random_num_added, order_count_upper_limit)\u001b[0m\n\u001b[0;32m    287\u001b[0m     car_rider\u001b[38;5;241m.\u001b[39mavailable_number \u001b[38;5;241m-\u001b[39m\u001b[38;5;241m=\u001b[39m \u001b[38;5;241m1\u001b[39m\n\u001b[0;32m    288\u001b[0m     all_bundles\u001b[38;5;241m.\u001b[39mappend(new_bundle)\n\u001b[1;32m--> 290\u001b[0m all_bundles, rider_abailables \u001b[38;5;241m=\u001b[39m \u001b[43mkruskal_bundling\u001b[49m\u001b[43m(\u001b[49m\u001b[43mK\u001b[49m\u001b[43m,\u001b[49m\u001b[43m \u001b[49m\u001b[43mDIST\u001b[49m\u001b[43m,\u001b[49m\u001b[43m \u001b[49m\u001b[43mALL_ORDERS\u001b[49m\u001b[43m,\u001b[49m\u001b[43m \u001b[49m\u001b[43mALL_RIDERS\u001b[49m\u001b[43m,\u001b[49m\u001b[43m \u001b[49m\u001b[43mweight1\u001b[49m\u001b[43m,\u001b[49m\u001b[43m \u001b[49m\u001b[43mweight2\u001b[49m\u001b[43m,\u001b[49m\u001b[43m \u001b[49m\u001b[43mweight3\u001b[49m\u001b[43m,\u001b[49m\u001b[43m \u001b[49m\u001b[43mtry_merging_bundles_by_dist_possibles_only\u001b[49m\u001b[43m,\u001b[49m\u001b[43m \u001b[49m\u001b[43morder_count_upper_limit\u001b[49m\u001b[43m,\u001b[49m\u001b[43m \u001b[49m\u001b[38;5;124;43m'\u001b[39;49m\u001b[38;5;124;43mtwo_seq\u001b[39;49m\u001b[38;5;124;43m'\u001b[39;49m\u001b[43m,\u001b[49m\u001b[43m \u001b[49m\u001b[43mall_bundles\u001b[49m\u001b[43m,\u001b[49m\u001b[43m \u001b[49m\u001b[43morder_comb_possibility\u001b[49m\u001b[43m,\u001b[49m\u001b[43m \u001b[49m\u001b[43moptimized_order_perms\u001b[49m\u001b[43m,\u001b[49m\u001b[43m \u001b[49m\u001b[38;5;28;43;01mTrue\u001b[39;49;00m\u001b[43m)\u001b[49m\n\u001b[0;32m    292\u001b[0m \u001b[38;5;28;01mfor\u001b[39;00m rider_i \u001b[38;5;129;01min\u001b[39;00m \u001b[38;5;28mrange\u001b[39m(\u001b[38;5;241m3\u001b[39m):\n\u001b[0;32m    293\u001b[0m     ALL_RIDERS[rider_i]\u001b[38;5;241m.\u001b[39mavailable_number \u001b[38;5;241m=\u001b[39m init_availables[rider_i]\n",
      "File \u001b[1;32mc:\\Users\\hsh80\\Desktop\\LG CNS\\baseline_20240517\\util_0805_13.py:190\u001b[0m, in \u001b[0;36mkruskal_bundling\u001b[1;34m(K, DIST, ALL_ORDERS, ALL_RIDERS, weight1, weight2, weight3, bundle_merging_function, order_count_upper_limit, avg_method, all_bundles, order_comb_possibility, optimized_order_perms, is_random_num_added)\u001b[0m\n\u001b[0;32m    187\u001b[0m shop_seq1 \u001b[38;5;241m=\u001b[39m all_bundles[i]\u001b[38;5;241m.\u001b[39mshop_seq\n\u001b[0;32m    188\u001b[0m shop_seq2 \u001b[38;5;241m=\u001b[39m all_bundles[j]\u001b[38;5;241m.\u001b[39mshop_seq\n\u001b[1;32m--> 190\u001b[0m \u001b[38;5;28;01mif\u001b[39;00m \u001b[38;5;28;43mlen\u001b[39;49m\u001b[43m(\u001b[49m\u001b[43mshop_seq1\u001b[49m\u001b[43m)\u001b[49m \u001b[38;5;241m+\u001b[39m \u001b[38;5;28mlen\u001b[39m(shop_seq2) \u001b[38;5;241m>\u001b[39m order_count_upper_limit:\n\u001b[0;32m    191\u001b[0m     \u001b[38;5;28;01mcontinue\u001b[39;00m\n\u001b[0;32m    193\u001b[0m ip \u001b[38;5;241m=\u001b[39m \u001b[38;5;28;01mTrue\u001b[39;00m\n",
      "\u001b[1;31mKeyboardInterrupt\u001b[0m: "
     ]
    }
   ],
   "source": [
    "import pandas as pd\n",
    "\n",
    "# 기본 데이터셋 추가\n",
    "data_sizes = [50, 100, 200]\n",
    "problem_files = []\n",
    "for data_size in data_sizes:\n",
    "    problem_files.append(fr'C:\\Users\\hsh80\\Desktop\\LG CNS\\alg_test_problems_20240429\\TEST_K{data_size}_1.json')\n",
    "    problem_files.append(fr'C:\\Users\\hsh80\\Desktop\\LG CNS\\alg_test_problems_20240429\\TEST_K{data_size}_2.json')\n",
    "\n",
    "# stage 데이터 추가\n",
    "for file_num in range(1, 19):\n",
    "    problem_file = fr'C:\\Users\\hsh80\\Desktop\\LG CNS\\stage1_problems\\STAGE1_{file_num}.json'\n",
    "\n",
    "    problem_files.append(problem_file)\n",
    "\n",
    "results = []\n",
    "solutions = []\n",
    "for problem_file in problem_files:\n",
    "    start_time = time.time()\n",
    "\n",
    "    testcase_name = problem_file.split('\\\\')[-1].split('.')[0]\n",
    "\n",
    "    ## ------------------- 기본 변수 할당 ---------------------------\n",
    "\n",
    "    with open(problem_file, 'r') as f:\n",
    "        prob = json.load(f)\n",
    "\n",
    "    K = prob['K']\n",
    "\n",
    "    ALL_ORDERS = [Order(order_info) for order_info in prob['ORDERS']]\n",
    "    ALL_RIDERS = [Rider(rider_info) for rider_info in prob['RIDERS']]\n",
    "\n",
    "    DIST = np.array(prob['DIST'])\n",
    "    for r in ALL_RIDERS:\n",
    "        r.T = np.round(DIST/r.speed + r.service_time).astype(int)\n",
    "\n",
    "    inf = float('inf')\n",
    "\n",
    "    timelimit = 60\n",
    "\n",
    "    ## --------------------- 커스텀 코드 시작 ---------------------------\n",
    "\n",
    "    solution = algorithm(K, ALL_ORDERS, ALL_RIDERS, DIST, timelimit)\n",
    "    solutions.append(solution)\n",
    "\n",
    "    end_time = time.time()\n",
    "    process_time = end_time - start_time\n",
    "\n",
    "    with open(problem_file, 'r') as f:\n",
    "        prob = json.load(f)\n",
    "\n",
    "    K = prob['K']\n",
    "\n",
    "    ALL_ORDERS = [Order(order_info) for order_info in prob['ORDERS']]\n",
    "    ALL_RIDERS = [Rider(rider_info) for rider_info in prob['RIDERS']]\n",
    "\n",
    "    DIST = np.array(prob['DIST'])\n",
    "    for r in ALL_RIDERS:\n",
    "        r.T = np.round(DIST/r.speed + r.service_time).astype(int)\n",
    "\n",
    "    checked_solution = solution_check(K, ALL_ORDERS, ALL_RIDERS, DIST, solution)\n",
    "\n",
    "    results.append((problem_file, checked_solution['avg_cost']))\n",
    "\n",
    "    print(testcase_name, process_time, checked_solution['avg_cost'])\n",
    "\n",
    "df = pd.DataFrame(results, columns=['Name', 'Score'])\n",
    "\n",
    "df.to_csv('8-5_KruskalRandom20PerSkipTX.csv', index=False, encoding='utf-8-sig')"
   ]
  }
 ],
 "metadata": {
  "kernelspec": {
   "display_name": "Python 3 (ipykernel)",
   "language": "python",
   "name": "python3"
  },
  "language_info": {
   "codemirror_mode": {
    "name": "ipython",
    "version": 3
   },
   "file_extension": ".py",
   "mimetype": "text/x-python",
   "name": "python",
   "nbconvert_exporter": "python",
   "pygments_lexer": "ipython3",
   "version": "3.10.13"
  }
 },
 "nbformat": 4,
 "nbformat_minor": 4
}
