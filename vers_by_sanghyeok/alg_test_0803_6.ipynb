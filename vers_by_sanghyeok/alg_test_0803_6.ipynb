{
 "cells": [
  {
   "cell_type": "code",
   "execution_count": 47,
   "metadata": {},
   "outputs": [
    {
     "name": "stdout",
     "output_type": "stream",
     "text": [
      "The autoreload extension is already loaded. To reload it, use:\n",
      "  %reload_ext autoreload\n"
     ]
    }
   ],
   "source": [
    "%load_ext autoreload\n",
    "%autoreload 2\n",
    "\n",
    "from util_0803_5 import *\n",
    "from myalgorithm_0803_2_3 import algorithm\n",
    "\n",
    "import pandas as pd"
   ]
  },
  {
   "cell_type": "markdown",
   "metadata": {},
   "source": [
    "## 실험 내용\n",
    "- 라이더별로 이미 최적을 확인하면 바로 리턴하는 alg_test_0803_4의 속도 개선\n",
    "1. try_bundle시 번들 길이 제한을 주문 쌍 제한보다 먼저 체크하면 어떨까? -> 더 느려짐\n",
    "2. 가중치 그리드를 weight1은 0~4.5, weight2는 -4.5~0까지로 해봄  -> 데이터셋 하나 빼고 비용 같음\n",
    "3. 가중치 그리드를 weight1은 0~2.5, weight2는 -5~0까지로 해봄 -> 데이터셋 하나 빼고 비용 같음\n",
    "4. 가중치 그리드를 weight1은 0~2, weight2는 -3~0까지로 해봄\n",
    "- 라이더별로 이미 최적을 확인하면 바로 리턴하는 alg_test_0803_4의 비용 개선\n",
    "1. weight2의 양수 그리드로 하면 어떨까? -> 더 느려지는 것 같음\n"
   ]
  },
  {
   "cell_type": "code",
   "execution_count": null,
   "metadata": {},
   "outputs": [],
   "source": [
    "### 가중치 탐색을 30초 동안 하는 경우 데이터셋별 가중치 조합 몇 개를 탐색하는지 확인하기"
   ]
  },
  {
   "cell_type": "code",
   "execution_count": 48,
   "metadata": {},
   "outputs": [
    {
     "name": "stdout",
     "output_type": "stream",
     "text": [
      "TEST_K50_1 50 70 3687.922 (2, 1.0, -1.0)\n",
      "TEST_K50_2 50 70 4039.758 (1, 1.0, 0)\n",
      "TEST_K100_1 100 70 3460.855 (1, 1.0, -2.5)\n",
      "TEST_K100_2 100 70 3623.4959999999996 (1, 0.5, -0.5)\n",
      "TEST_K200_1 200 70 3286.1219999999994 (2, 0.5, -1.5)\n",
      "TEST_K200_2 200 70 3247.8145 (1, 0.5, 0)\n",
      "STAGE1_1 100 70 3752.5100000000007 (1, 0.5, 0)\n",
      "STAGE1_2 100 70 3348.8740000000003 (1, 0.5, 0)\n",
      "STAGE1_3 200 70 3056.2244999999994 (1, 0.5, 0)\n",
      "STAGE1_4 200 70 2684.8654999999994 (2, 0.5, 0)\n",
      "STAGE1_5 300 70 2328.6326666666673 (1, 1.0, -2.0)\n",
      "STAGE1_6 300 70 2526.2279999999996 (2, 0.5, 0)\n",
      "STAGE1_7 100 70 3480.4299999999994 (1, 1.5, -2.5)\n",
      "STAGE1_8 100 70 3214.8680000000004 (2, 0.5, 0)\n",
      "STAGE1_9 200 70 3119.6810000000005 (1, 1.0, -1.0)\n",
      "STAGE1_10 200 70 2579.4505 (2, 0.5, -1.5)\n",
      "STAGE1_11 300 70 2496.8259999999996 (1, 0.5, 0)\n",
      "STAGE1_12 300 70 2513.0070000000005 (1, 0.5, -0.5)\n",
      "STAGE1_13 100 70 4961.57 (2, 0.5, -3.0)\n",
      "STAGE1_14 100 70 4178.7519999999995 (2, 0.5, 0)\n",
      "STAGE1_15 200 70 4342.136999999999 (1, 2.0, -3.0)\n",
      "STAGE1_16 200 70 3344.079499999999 (1, 1.0, -1.5)\n",
      "STAGE1_17 300 70 3513.7473333333323 (1, 1.0, -2.0)\n",
      "STAGE1_18 300 70 3626.0386666666664 (2, 0.5, -1.5)\n"
     ]
    }
   ],
   "source": [
    "# 기본 데이터셋 추가\n",
    "data_sizes = [50, 100, 200]\n",
    "problem_files = []\n",
    "for data_size in data_sizes:\n",
    "    problem_files.append(fr'C:\\Users\\hsh80\\Desktop\\LG CNS\\alg_test_problems_20240429\\TEST_K{data_size}_1.json')\n",
    "    problem_files.append(fr'C:\\Users\\hsh80\\Desktop\\LG CNS\\alg_test_problems_20240429\\TEST_K{data_size}_2.json')\n",
    "\n",
    "# stage 데이터 추가\n",
    "for file_num in range(1, 19):\n",
    "    problem_file = fr'C:\\Users\\hsh80\\Desktop\\LG CNS\\stage1_problems\\STAGE1_{file_num}.json'\n",
    "\n",
    "    problem_files.append(problem_file)\n",
    "\n",
    "for problem_file in problem_files:\n",
    "    testcase_name = problem_file.split('\\\\')[-1].split('.')[0]\n",
    "\n",
    "    ## ------------------- 기본 변수 할당 ---------------------------\n",
    "\n",
    "    with open(problem_file, 'r') as f:\n",
    "        prob = json.load(f)\n",
    "\n",
    "    K = prob['K']\n",
    "\n",
    "    ALL_ORDERS = [Order(order_info) for order_info in prob['ORDERS']]\n",
    "    ALL_RIDERS = [Rider(rider_info) for rider_info in prob['RIDERS']]\n",
    "\n",
    "    DIST = np.array(prob['DIST'])\n",
    "    for r in ALL_RIDERS:\n",
    "        r.T = np.round(DIST/r.speed + r.service_time).astype(int)\n",
    "\n",
    "    inf = float('inf')\n",
    "\n",
    "    timelimit = 60\n",
    "\n",
    "    ## --------------------- 커스텀 코드 시작 ---------------------------\n",
    "\n",
    "    processed_weight_comb_c, min_init_cost, min_weight_comb = algorithm(K, ALL_ORDERS, ALL_RIDERS, DIST, timelimit)\n",
    "\n",
    "    print(testcase_name, K, processed_weight_comb_c, min_init_cost, min_weight_comb)"
   ]
  },
  {
   "cell_type": "code",
   "execution_count": null,
   "metadata": {},
   "outputs": [],
   "source": [
    "C:\\Users\\hsh80\\Desktop\\LG CNS\\alg_test_problems_20240429\\TEST_K50_1.json 50 66 3695.508 (2.0, -1.0)\n",
    "C:\\Users\\hsh80\\Desktop\\LG CNS\\alg_test_problems_20240429\\TEST_K50_2.json 50 66 4039.758 (1.0, 0)\n",
    "C:\\Users\\hsh80\\Desktop\\LG CNS\\alg_test_problems_20240429\\TEST_K100_1.json 100 66 3460.855 (1.0, -2.5)\n",
    "C:\\Users\\hsh80\\Desktop\\LG CNS\\alg_test_problems_20240429\\TEST_K100_2.json 100 66 3623.4959999999996 (0.5, -0.5)\n",
    "C:\\Users\\hsh80\\Desktop\\LG CNS\\alg_test_problems_20240429\\TEST_K200_1.json 200 66 3327.332999999999 (0.5, -1.5)\n",
    "C:\\Users\\hsh80\\Desktop\\LG CNS\\alg_test_problems_20240429\\TEST_K200_2.json 200 66 3247.8145 (0.5, 0)\n",
    "C:\\Users\\hsh80\\Desktop\\LG CNS\\stage1_problems\\STAGE1_1.json 100 66 3752.5100000000007 (0.5, 0)\n",
    "C:\\Users\\hsh80\\Desktop\\LG CNS\\stage1_problems\\STAGE1_2.json 100 66 3348.8740000000003 (0.5, 0)\n",
    "C:\\Users\\hsh80\\Desktop\\LG CNS\\stage1_problems\\STAGE1_3.json 200 66 3056.2244999999994 (0.5, 0)\n",
    "C:\\Users\\hsh80\\Desktop\\LG CNS\\stage1_problems\\STAGE1_4.json 200 66 2693.6929999999993 (0.5, 0)\n",
    "C:\\Users\\hsh80\\Desktop\\LG CNS\\stage1_problems\\STAGE1_5.json 300 66 2328.6326666666673 (1.0, -2.0)\n",
    "C:\\Users\\hsh80\\Desktop\\LG CNS\\stage1_problems\\STAGE1_6.json 300 66 2553.760999999999 (0, 0)\n",
    "C:\\Users\\hsh80\\Desktop\\LG CNS\\stage1_problems\\STAGE1_7.json 100 66 3480.4299999999994 (1.5, -2.5)\n",
    "C:\\Users\\hsh80\\Desktop\\LG CNS\\stage1_problems\\STAGE1_8.json 100 66 3268.9390000000008 (0.5, -0.5)\n",
    "C:\\Users\\hsh80\\Desktop\\LG CNS\\stage1_problems\\STAGE1_9.json 200 66 3119.6810000000005 (1.0, -1.0)\n",
    "C:\\Users\\hsh80\\Desktop\\LG CNS\\stage1_problems\\STAGE1_10.json 200 66 2598.0840000000007 (0.5, -2.5)\n",
    "C:\\Users\\hsh80\\Desktop\\LG CNS\\stage1_problems\\STAGE1_11.json 300 63 2496.8259999999996 (0.5, 0)\n",
    "C:\\Users\\hsh80\\Desktop\\LG CNS\\stage1_problems\\STAGE1_12.json 300 66 2513.0070000000005 (0.5, -0.5)\n",
    "C:\\Users\\hsh80\\Desktop\\LG CNS\\stage1_problems\\STAGE1_13.json 100 66 4985.172 (0, -5.0)\n",
    "C:\\Users\\hsh80\\Desktop\\LG CNS\\stage1_problems\\STAGE1_14.json 100 66 4280.268999999999 (1.0, -3.0)\n",
    "C:\\Users\\hsh80\\Desktop\\LG CNS\\stage1_problems\\STAGE1_15.json 200 66 4342.136999999999 (2.0, -3.0)\n",
    "C:\\Users\\hsh80\\Desktop\\LG CNS\\stage1_problems\\STAGE1_16.json 200 66 3344.079499999999 (1.0, -1.5)\n",
    "C:\\Users\\hsh80\\Desktop\\LG CNS\\stage1_problems\\STAGE1_17.json 300 66 3513.7473333333323 (1.0, -2.0)\n",
    "C:\\Users\\hsh80\\Desktop\\LG CNS\\stage1_problems\\STAGE1_18.json 300 66 3644.8086666666663 (0.5, -0.5)"
   ]
  },
  {
   "cell_type": "code",
   "execution_count": null,
   "metadata": {},
   "outputs": [],
   "source": [
    "0, 0.5, 1, 1.5, 2\n",
    "-3, -2.5, -2, -1.5, 1, 0.5, 0"
   ]
  },
  {
   "cell_type": "code",
   "execution_count": 33,
   "metadata": {},
   "outputs": [],
   "source": [
    "weight_grid = []\n",
    "\n",
    "weight1 = 0\n",
    "for _ in range(5):\n",
    "    weight2 = 0\n",
    "    for _ in range(7):\n",
    "        weight_grid.append((weight1, weight2))\n",
    "        weight2 -= 0.5\n",
    "    weight1 += 0.5"
   ]
  },
  {
   "cell_type": "code",
   "execution_count": 34,
   "metadata": {},
   "outputs": [
    {
     "data": {
      "text/plain": [
       "[(0, 0),\n",
       " (0, -0.5),\n",
       " (0, -1.0),\n",
       " (0, -1.5),\n",
       " (0, -2.0),\n",
       " (0, -2.5),\n",
       " (0, -3.0),\n",
       " (0.5, 0),\n",
       " (0.5, -0.5),\n",
       " (0.5, -1.0),\n",
       " (0.5, -1.5),\n",
       " (0.5, -2.0),\n",
       " (0.5, -2.5),\n",
       " (0.5, -3.0),\n",
       " (1.0, 0),\n",
       " (1.0, -0.5),\n",
       " (1.0, -1.0),\n",
       " (1.0, -1.5),\n",
       " (1.0, -2.0),\n",
       " (1.0, -2.5),\n",
       " (1.0, -3.0),\n",
       " (1.5, 0),\n",
       " (1.5, -0.5),\n",
       " (1.5, -1.0),\n",
       " (1.5, -1.5),\n",
       " (1.5, -2.0),\n",
       " (1.5, -2.5),\n",
       " (1.5, -3.0),\n",
       " (2.0, 0),\n",
       " (2.0, -0.5),\n",
       " (2.0, -1.0),\n",
       " (2.0, -1.5),\n",
       " (2.0, -2.0),\n",
       " (2.0, -2.5),\n",
       " (2.0, -3.0)]"
      ]
     },
     "execution_count": 34,
     "metadata": {},
     "output_type": "execute_result"
    }
   ],
   "source": [
    "weight_grid"
   ]
  }
 ],
 "metadata": {
  "kernelspec": {
   "display_name": "Python 3 (ipykernel)",
   "language": "python",
   "name": "python3"
  },
  "language_info": {
   "codemirror_mode": {
    "name": "ipython",
    "version": 3
   },
   "file_extension": ".py",
   "mimetype": "text/x-python",
   "name": "python",
   "nbconvert_exporter": "python",
   "pygments_lexer": "ipython3",
   "version": "3.10.13"
  }
 },
 "nbformat": 4,
 "nbformat_minor": 4
}
