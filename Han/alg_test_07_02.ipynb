{
 "cells": [
  {
   "cell_type": "code",
   "execution_count": 17,
   "metadata": {},
   "outputs": [
    {
     "name": "stdout",
     "output_type": "stream",
     "text": [
      "The autoreload extension is already loaded. To reload it, use:\n",
      "  %reload_ext autoreload\n"
     ]
    }
   ],
   "source": [
    "%load_ext autoreload\n",
    "%autoreload 2\n",
    "\n",
    "\n",
    "from util_0702 import *\n",
    "from myalgorithm import algorithm\n",
    "\n",
    "import pandas as pd\n",
    "\n",
    "\n",
    "import matplotlib as mpl\n",
    "from matplotlib import pyplot\n",
    "import numpy as np\n",
    "import seaborn as sns"
   ]
  },
  {
   "cell_type": "markdown",
   "metadata": {},
   "source": [
    "### 제출본"
   ]
  },
  {
   "cell_type": "code",
   "execution_count": 18,
   "metadata": {},
   "outputs": [
    {
     "name": "stdout",
     "output_type": "stream",
     "text": [
      "STAGE1_1.json: 3790.6079999999997\n",
      "STAGE1_2.json: 3435.082000000001\n",
      "STAGE1_3.json: 3172.5515\n",
      "STAGE1_4.json: 2770.6535000000003\n",
      "STAGE1_5.json: 2325.3796666666663\n",
      "STAGE1_6.json: 2674.3896666666656\n",
      "STAGE1_7.json: 3522.205999999999\n",
      "STAGE1_8.json: 3375.732\n",
      "STAGE1_9.json: 3164.8505\n",
      "STAGE1_10.json: 2673.1644999999994\n",
      "STAGE1_11.json: 2512.7220000000007\n",
      "STAGE1_12.json: 2636.473\n",
      "STAGE1_13.json: 4996.464\n",
      "STAGE1_14.json: 4271.746\n",
      "STAGE1_15.json: 4389.129499999999\n",
      "STAGE1_16.json: 3359.6624999999995\n",
      "STAGE1_17.json: 3562.367666666667\n",
      "STAGE1_18.json: 3718.270333333333\n"
     ]
    }
   ],
   "source": [
    "import pandas as pd\n",
    "\n",
    "result=[]\n",
    "timelimit = 60\n",
    "for i in range(1, 19):\n",
    "    problem_file = f'STAGE1_{i}.json'\n",
    "    with open(problem_file, 'r') as f:\n",
    "        prob = json.load(f)\n",
    "\n",
    "    K = prob['K']\n",
    "\n",
    "    ALL_ORDERS = [Order(order_info) for order_info in prob['ORDERS']]\n",
    "    ALL_RIDERS = [Rider(rider_info) for rider_info in prob['RIDERS']]\n",
    "\n",
    "    DIST = np.array(prob['DIST'])\n",
    "\n",
    "    solution = algorithm(K, ALL_ORDERS, ALL_RIDERS, DIST, timelimit)\n",
    "    \n",
    "    with open(problem_file, 'r') as f:\n",
    "        prob = json.load(f)\n",
    "        K = prob['K']\n",
    "        ALL_ORDERS = [Order(order_info) for order_info in prob['ORDERS']]\n",
    "        ALL_RIDERS = [Rider(rider_info) for rider_info in prob['RIDERS']]\n",
    "        DIST = np.array(prob['DIST'])\n",
    "        for r in ALL_RIDERS:\n",
    "            r.T = np.round(DIST/r.speed + r.service_time).astype(int)\n",
    "\n",
    "        checked_solution = solution_check(K, ALL_ORDERS, ALL_RIDERS, DIST, solution)\n",
    "\n",
    "        checked_solution['avg_cost']\n",
    "    result.append(checked_solution['avg_cost'])\n",
    "    print(f\"STAGE1_{i}.json: {checked_solution['avg_cost']}\")\n",
    "\n",
    "df=pd.DataFrame(result)\n"
   ]
  },
  {
   "cell_type": "code",
   "execution_count": null,
   "metadata": {},
   "outputs": [
    {
     "data": {
      "text/plain": [
       "2988.957999999999"
      ]
     },
     "execution_count": 20,
     "metadata": {},
     "output_type": "execute_result"
    }
   ],
   "source": [
    "df"
   ]
  },
  {
   "cell_type": "code",
   "execution_count": null,
   "metadata": {},
   "outputs": [],
   "source": []
  }
 ],
 "metadata": {
  "kernelspec": {
   "display_name": "Python 3 (ipykernel)",
   "language": "python",
   "name": "python3"
  },
  "language_info": {
   "codemirror_mode": {
    "name": "ipython",
    "version": 3
   },
   "file_extension": ".py",
   "mimetype": "text/x-python",
   "name": "python",
   "nbconvert_exporter": "python",
   "pygments_lexer": "ipython3",
   "version": "3.11.2"
  }
 },
 "nbformat": 4,
 "nbformat_minor": 4
}
